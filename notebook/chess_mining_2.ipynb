{
  "nbformat": 4,
  "nbformat_minor": 0,
  "metadata": {
    "colab": {
      "name": "chess-mining-2.ipynb",
      "provenance": [],
      "collapsed_sections": [],
      "toc_visible": true,
      "include_colab_link": true
    },
    "kernelspec": {
      "name": "python3",
      "display_name": "Python 3"
    }
  },
  "cells": [
    {
      "cell_type": "markdown",
      "metadata": {
        "id": "view-in-github",
        "colab_type": "text"
      },
      "source": [
        "<a href=\"https://colab.research.google.com/github/manjavacas/Data-Mining/blob/master/notebook/chess_mining_2.ipynb\" target=\"_parent\"><img src=\"https://colab.research.google.com/assets/colab-badge.svg\" alt=\"Open In Colab\"/></a>"
      ]
    },
    {
      "cell_type": "markdown",
      "metadata": {
        "id": "KN0v23yIpP56",
        "colab_type": "text"
      },
      "source": [
        "# **Análisis de partidas de ajedrez mediante Data Mining**\n",
        "\n",
        "  *Minería de Datos. Curso 2019/2020.*\n",
        "\n",
        "\n",
        "*   Alberto Velasco Mata\n",
        "*   Diego Pedregal Hidalgo\n",
        "*   Rubén Márquez Villalta\n",
        "*   Antonio Manjavacas\n",
        "\n"
      ]
    },
    {
      "cell_type": "markdown",
      "metadata": {
        "id": "Fk1EhvwNuSnl",
        "colab_type": "text"
      },
      "source": [
        "## **2. TARGET DATA**\n",
        "Procedemos ahora a obtener nuestra \"*tarjeta de datos*\". Será el conjunto de datos en base a los cuales llevaremos a cabo nuestro estudio."
      ]
    },
    {
      "cell_type": "markdown",
      "metadata": {
        "id": "hTa4nh7cjlL7",
        "colab_type": "text"
      },
      "source": [
        "Primero, obtenemos las partidas previamente descargadas."
      ]
    },
    {
      "cell_type": "markdown",
      "metadata": {
        "id": "8o7w6mBhuClK",
        "colab_type": "text"
      },
      "source": [
        "- Manipularemos las partidas en formato `.pgn` haciendo uso de la librería `python-chess`:"
      ]
    },
    {
      "cell_type": "code",
      "metadata": {
        "id": "Hf_SVRPrK_9E",
        "colab_type": "code",
        "colab": {}
      },
      "source": [
        "!pip install python-chess==0.28.3 --upgrade\n",
        "\n",
        "import chess.pgn as pgn"
      ],
      "execution_count": 0,
      "outputs": []
    },
    {
      "cell_type": "code",
      "metadata": {
        "id": "5aMP7C-WgwqW",
        "colab_type": "code",
        "colab": {}
      },
      "source": [
        "GAMES_FILE = 'games.pgn'\n",
        "\n",
        "# Load games from PGN file\n",
        "with open(GAMES_FILE) as f:\n",
        "  game = pgn.read_game(f)"
      ],
      "execution_count": 0,
      "outputs": []
    },
    {
      "cell_type": "markdown",
      "metadata": {
        "id": "gGoetyyJwWJr",
        "colab_type": "text"
      },
      "source": [
        "Obtenemos los datos que componen nuestro conjunto objetivo:\n",
        "\n",
        "\n",
        "* **USER_ID**             `string`    : identficador de usuario.\n",
        "* **GAME_LINK**           `string`    : enlace a la partida.\n",
        "* **ELO**                 `int`    : puntuación ELO del jugador.\n",
        "* **COLOUR**            `string`    : color de piezas del usuario.\n",
        "* **OPENING**           `string`    : apertura (+variación) utilizada en la partida.\n",
        "* **TOTAL_TIME**           `double`    : duración de la partida en segundos.\n",
        "* **TOTAL_TIME_PER_PLAYER** `double`   : tiempo total empleado por el jugador.\n",
        "* **MOVEMENTS**           `int`    : número de movimientos de la partida.\n",
        "* **RESULT**         `int`       : resultado de la partida (0 = pierde; 1 = gana; 2 = tablas)\n",
        "* **MEAN_TIME_PER_MOVEMENT_EARLY** `double`: tiempo medio entre movimientos en el early game.\n",
        "*   **MEDIAN_TIME_PER_MOVEMENT_EARLY** `double`: mediana de los tiempos entre movimientos en el early game.\n",
        "* **VAR_TIME_PER_MOVEMENT_EARLY** `double`: varianza de tiempos entre movimientos en el early game.\n",
        "* **MAX_TIME_PER_MOVEMENT_EARLY** `double`: máximo tiempo empleado entre movimientos en el early game.\n",
        "* **MIN_TIME_PER_MOVEMENT_EARLY** `double`: mínimo tiempo empleado entre movimientos en el early game.\n",
        "\n",
        "* **MEAN_TIME_PER_MOVEMENT_MID** `double`: tiempo medio entre movimientos en el mid game.\n",
        "*   **MEDIAN_TIME_PER_MOVEMENT_MID** `double`: mediana de los tiempos entre movimientos en el mid game.\n",
        "* **VAR_TIME_PER_MOVEMENT_MID** `double`: varianza de tiempos entre movimientos en el mid game.\n",
        "* **MAX_TIME_PER_MOVEMENT_MID** `double`: máximo tiempo empleado entre movimientos en el mid game.\n",
        "* **MIN_TIME_PER_MOVEMENT_MID** `double`: mínimo tiempo empleado entre movimientos en el mid game.\n",
        "\n",
        "* **MEAN_TIME_PER_MOVEMENT_END** `double`: tiempo medio entre movimientos en el end game.\n",
        "*   **MEDIAN_TIME_PER_MOVEMENT_END** `double`: mediana de los tiempos entre movimientos en el end game.\n",
        "* **VAR_TIME_PER_MOVEMENT_END** `double`: varianza de tiempos entre movimientos en el end game.\n",
        "* **MAX_TIME_PER_MOVEMENT_END** `double`: máximo tiempo empleado entre movimientos en el end game.\n",
        "* **MIN_TIME_PER_MOVEMENT_END** `double`: mínimo tiempo empleado entre movimientos en el end game.\n",
        "\n",
        "* **POINTS_BALANCE**      `int`       : balance de puntos al final de la partida.\n",
        "* **TAKEN_BALANCE**       `int`       : balance de piezas al final de la partida.\n",
        "* **AGGRESSIVENESS**      `int`       : nivel de agresividad del jugador en el rango [0, 5]. Se mide a partir de los siguientes factores:.\n",
        "    - *EARLY_TAKEN* : numero de piezas comidas en el early game (primer tercio de las jugadas) (*alto = +1; medio = +0.5; bajo = +0*).\n",
        "    - *AGGRESSIVE_OPENING* : la apertura utilizada es agresiva para el color de piezas del jugador (*True = +2; False = +0*).\n",
        "    - *CASTLING* : el jugador se enroca a lo largo de la partida (*True = +0; False = +2*).\n",
        "\n"
      ]
    },
    {
      "cell_type": "code",
      "metadata": {
        "id": "kHqRO5EnLHVQ",
        "colab_type": "code",
        "colab": {}
      },
      "source": [
        "from datetime import datetime\n",
        "from datetime import timedelta\n",
        "\n",
        "PIECE_WEIGHTS = {\n",
        "  'P': 1,\n",
        "  'N': 3,\n",
        "  'B': 3,\n",
        "  'R': 5,\n",
        "  'Q': 9\n",
        "}\n",
        "\n",
        "row_white = []\n",
        "row_black = []\n",
        "\n",
        "## USER_ID\n",
        "row_white.append(game.headers['White'])\n",
        "row_black.append(game.headers['Black'])\n",
        "\n",
        "## GAME_LINK\n",
        "row_white.append(game.headers['Site'])\n",
        "row_black.append(game.headers['Site'])\n",
        "\n",
        "## ELO\n",
        "row_white.append(game.headers['WhiteElo'])\n",
        "row_black.append(game.headers['BlackElo'])\n",
        "\n",
        "## COLOUR\n",
        "row_white.append('White')\n",
        "row_black.append('Black')\n",
        "\n",
        "## OPENING\n",
        "row_white.append(game.headers['Opening'])\n",
        "row_black.append(game.headers['Opening'])\n",
        "\n",
        "## RESULT\n",
        "\n",
        "if \"1/2\" in game.headers['Result']:\n",
        "  result_white = 2\n",
        "  result_black = 2\n",
        "elif game.headers['Result'][0] == \"1\":\n",
        "  result_white = 1\n",
        "  result_black = 0\n",
        "else:\n",
        "  result_white = 0\n",
        "  result_black = 1\n",
        "\n",
        "row_white.append(result_white)\n",
        "row_black.append(result_black)\n",
        "\n",
        "## TIME_PER_MOVEMENT, POINTS_BALANCE, TAKEN_BALANCE\n",
        "\n",
        "white = {'taken': [], 'times': [], '_last_time': None}\n",
        "black = {'taken': [], 'times': [], '_last_time': None}\n",
        "\n",
        "board = game.board()\n",
        "\n",
        "for i, node in enumerate(game.mainline()):\n",
        "  # Parse remaining time from GameMove\n",
        "  t = datetime.strptime(node.comment[6:-1], \"%H:%M:%S\")\n",
        "  remaining_time = timedelta(hours=t.hour, minutes=t.minute, seconds=t.second)\n",
        "\n",
        "  ## TIME_PER_MOVEMENT\n",
        "  if i % 2 == 0: # White player\n",
        "    if white['_last_time'] is not None:\n",
        "      white['times'].append((white['_last_time'] - remaining_time).total_seconds())\n",
        "    white['_last_time'] = remaining_time\n",
        "  else: # Black player\n",
        "    if black['_last_time'] is not None:\n",
        "      black['times'].append((black['_last_time'] - remaining_time).total_seconds())\n",
        "    black['_last_time'] = remaining_time\n",
        "\n",
        "  ## TAKEN_BALANCE & POINTS_BALANCE\n",
        "  if 'x' in node.san():\n",
        "    piece_weight = PIECE_WEIGHTS[board.piece_at(node.move.to_square).symbol().upper()]\n",
        "    if i % 2 == 0: # White player takes the piece\n",
        "      white['taken'].append(1 * piece_weight)\n",
        "      black['taken'].append(-1 * piece_weight)\n",
        "    else: # Black player takes the piece\n",
        "      black['taken'].append(1 * piece_weight)\n",
        "      white['taken'].append(-1 * piece_weight)\n",
        "  else: # No takes in this movement\n",
        "    white['taken'].append(0)\n",
        "    black['taken'].append(0)\n",
        "\n",
        "  board.push(node.move)\n",
        "\n",
        "del white['_last_time']\n",
        "del black['_last_time']\n",
        "\n",
        "## MOVEMENTS\n",
        "\n",
        "moves_white = len(white['taken'])\n",
        "moves_black = len(black['taken'])\n",
        "\n",
        "row_white.append(moves_white)\n",
        "row_black.append(moves_black)\n",
        "\n",
        "## TOTAL_TIME_PER_PLAYER\n",
        "\n",
        "row_white.append(sum(white['times']))\n",
        "row_black.append(sum(black['times']))\n",
        "\n",
        "## TOTAL_TIME\n",
        "\n",
        "total_time = sum(white['times']) + sum(black['times'])\n",
        "\n",
        "row_white.append(total_time)\n",
        "row_black.append(total_time)"
      ],
      "execution_count": 0,
      "outputs": []
    },
    {
      "cell_type": "markdown",
      "metadata": {
        "id": "TmhYMbKszXG6",
        "colab_type": "text"
      },
      "source": [
        "- Balance de piezas y puntos:"
      ]
    },
    {
      "cell_type": "code",
      "metadata": {
        "id": "suti3bfNzcb8",
        "colab_type": "code",
        "colab": {
          "base_uri": "https://localhost:8080/",
          "height": 222
        },
        "outputId": "66dd1551-c5da-45b5-c25c-511af77b8f1f"
      },
      "source": [
        "print(\"\\n[ BLACK PLAYER ]\")\n",
        "print(\"Balance de puntos:\", sum(black['taken']))   # Get Black Points balance\n",
        "print(\"Balance de piezas:\", sum([1 if t > 0 else 0 for t in black['taken']]) + sum([-1 if t < 0 else 0 for t in black['taken']]))\n",
        "\n",
        "row_black.append(sum(black['taken']))\n",
        "row_black.append(sum([1 if t > 0 else 0 for t in black['taken']]) + sum([-1 if t < 0 else 0 for t in black['taken']]))\n",
        "\n",
        "print(\"\\n[ WHITE PLAYER ]\")\n",
        "print(\"Balance de puntos:\", sum(white['taken']))   # Get White Points balance\n",
        "print(\"Balance de piezas:\", sum([1 if t > 0 else 0 for t in white['taken']]) + sum([-1 if t < 0 else 0 for t in white['taken']]))\n",
        "\n",
        "row_white.append(sum(white['taken']))\n",
        "row_white.append(sum([1 if t > 0 else 0 for t in white['taken']]) + sum([-1 if t < 0 else 0 for t in white['taken']]))\n",
        "\n",
        "import json\n",
        "print()\n",
        "print(f'White: {json.dumps(white)}')\n",
        "print(f'Black: {json.dumps(black)}')"
      ],
      "execution_count": 14,
      "outputs": [
        {
          "output_type": "stream",
          "text": [
            "\n",
            "[ BLACK PLAYER ]\n",
            "Balance de puntos: 2\n",
            "Balance de piezas: 2\n",
            "\n",
            "[ WHITE PLAYER ]\n",
            "Balance de puntos: -2\n",
            "Balance de piezas: -2\n",
            "\n",
            "White: {\"taken\": [0, 0, 0, 0, 0, 0, 0, 0, 0, 0, 0, 0, 0, 0, 0, 0, 0, 0, 0, 0, 0, 0, 0, -1, 1, -1, 1, -3, 3, 0, 0, 0, 0, 0, 0, 0, 0, 0, 3, -3, 5, -5, 0, -9, 9, 0, 0, 0, 1, -3, 3, -1, 0, 0, 0, -1, 0, -1, 0, 0, 1, 0, 0, 0, 0, -3, 3, 0, 0, 0, 0, 0, 0, 0, 0, 0, 1, 0, 0, -1, 0, 0, 0, 0, 0, 0, 0, 0, 0, -1, 1, 0, 0, 0, 0, -1, 0, 0, 0, 0, 0, 0, 0, 0], \"times\": [2.0, 1.0, 2.0, 2.0, 1.0, 2.0, 1.0, 2.0, 2.0, 5.0, 3.0, 4.0, 27.0, 1.0, 3.0, 17.0, 4.0, 24.0, 14.0, 6.0, 3.0, 1.0, 29.0, 19.0, 2.0, 4.0, 11.0, 1.0, 7.0, 11.0, 4.0, 1.0, 7.0, 35.0, 4.0, 20.0, 2.0, 3.0, 4.0, 4.0, 10.0, 9.0, 19.0, 4.0, 2.0, 11.0, 5.0, 5.0, 4.0, 1.0, 2.0]}\n",
            "Black: {\"taken\": [0, 0, 0, 0, 0, 0, 0, 0, 0, 0, 0, 0, 0, 0, 0, 0, 0, 0, 0, 0, 0, 0, 0, 1, -1, 1, -1, 3, -3, 0, 0, 0, 0, 0, 0, 0, 0, 0, -3, 3, -5, 5, 0, 9, -9, 0, 0, 0, -1, 3, -3, 1, 0, 0, 0, 1, 0, 1, 0, 0, -1, 0, 0, 0, 0, 3, -3, 0, 0, 0, 0, 0, 0, 0, 0, 0, -1, 0, 0, 1, 0, 0, 0, 0, 0, 0, 0, 0, 0, 1, -1, 0, 0, 0, 0, 1, 0, 0, 0, 0, 0, 0, 0, 0], \"times\": [1.0, 1.0, 2.0, 0.0, 1.0, 1.0, 2.0, 7.0, 3.0, 21.0, 11.0, 23.0, 17.0, 8.0, 11.0, 29.0, 44.0, 22.0, 12.0, 0.0, 20.0, 56.0, 19.0, 15.0, 1.0, 27.0, 5.0, 15.0, 25.0, 16.0, 9.0, 123.0, 8.0, 4.0, 6.0, 20.0, 0.0, 0.0, 0.0, 4.0, 7.0, 3.0, 4.0, 3.0, 2.0, 3.0, 3.0, 5.0, 3.0, 13.0, 3.0]}\n"
          ],
          "name": "stdout"
        }
      ]
    },
    {
      "cell_type": "markdown",
      "metadata": {
        "id": "ykMbL-Is0UhY",
        "colab_type": "text"
      },
      "source": [
        "- Tratamos ahora de obtener la agresividad de cada jugador en base a:\n",
        "\n",
        "    * **EARLY_TAKEN** : numero de piezas comidas en el early game (primer tercio de las jugadas) (alto = +1; medio = +0.5; bajo = +0)\n",
        "    * **AGGRESSIVE_OPENING** : la apertura utilizada es agresiva para el color de piezas del jugador (True = +2; False = +0)\n",
        "    * **CASTLING** : el jugador se enroca a lo largo de la partida (True = +0; False = +2)\n"
      ]
    },
    {
      "cell_type": "code",
      "metadata": {
        "id": "Yk6g9pbk0ldj",
        "colab_type": "code",
        "colab": {
          "base_uri": "https://localhost:8080/",
          "height": 319
        },
        "outputId": "3e40053c-15bb-4000-d977-6d7479d8bf07"
      },
      "source": [
        "white_aggressiveness = 0\n",
        "black_aggressiveness = 0\n",
        "\n",
        "## EARLY_TAKEN\n",
        "\n",
        "moves = max(moves_white, moves_black)\n",
        "\n",
        "white_early_game = white['taken'][:int(moves*1/3)]\n",
        "black_early_game = black['taken'][:int(moves*1/3)]\n",
        "\n",
        "print('\\n[ WHITE EARLY GAME ]')\n",
        "print(f'> White early game: {white_early_game}')\n",
        "print(f'> Taken by white in early game: {len([t for t in white_early_game if t != 0])}')\n",
        "\n",
        "print('\\n[ BLACK EARLY GAME ]')\n",
        "print(f'> Black early game: {black_early_game}')\n",
        "print(f'> Taken by black in early game: {len([t for t in black_early_game if t != 0])}')\n",
        "\n",
        "## CASTLING\n",
        "\n",
        "white_castling = False\n",
        "black_castling = False\n",
        "\n",
        "for i,move in enumerate(game.mainline()):\n",
        "  if move.san() == 'O-O':\n",
        "    if i % 2 == 0: # White player\n",
        "      white_castling = True\n",
        "    else: # Black player\n",
        "      black_castling = True\n",
        "\n",
        "if not white_castling:\n",
        "  white_aggressiveness += 2\n",
        "\n",
        "if not black_castling:\n",
        "  black_aggressiveness += 2\n",
        "\n",
        "print('\\n[ CASTLING ]')\n",
        "print(f'> White castling = {white_castling}')\n",
        "print(f'> Black castling = {black_castling}')\n",
        "\n",
        "## AGGRESSIVE_OPENING\n",
        "white_opening_aggressiveness = ['Sicilian Defense: Grand Prix Attack', 'Sicilian Defense: Smith-Morra Gambit', 'Trompowsky Attack', 'Trompowsky Attack: Classical Defense',\n",
        "                                'Trompowsky Attack: Borg Variation', 'Trompowsky Attack: Raptor Variation', 'Trompowsky Attack: Edge Variation', 'Danish Gambit',\n",
        "                                'Sicilian Defense: Alapin Variation', 'Sicilian Defense: Alapin Variation, Smith-Morra Declined', 'King\\'s Gambit', 'Petrov\\'s Defense',\n",
        "                                'Four Knights Game: Italian Variation', 'Four Knights Game: Italian Variation, Noa Gambit', 'Four Knights Game: Scotch Variation Accepted',\n",
        "                                'Four Knights Game: Scotch Variation, Belgrade Gambit', 'Four Knights Game: Spanish Variation', 'Four Knights Game: Spanish Variation, Classical Variation',\n",
        "                                'Four Knights Game: Spanish Variation, Rubinstein Variation']\n",
        "black_opening_aggressiveness = ['Queen\\'s Gambit Refused: Albin Countergambit', 'Queen\\'s Gambit Refused: Albin Countergambit, Modern Line', 'Queen\\'s Gambit Refused: Albin Countergambit, Normal Line',\n",
        "                                'Scandinavian Defense: Portuguese Variation', 'Alekhine Defense', 'Alekhine Defense: Balogh Variation', 'Alekhine Defense: Brooklyn Variation', 'Alekhine Defense: Exchange Variation',\n",
        "                                'Alekhine Defense: Four Pawns Attack', 'Alekhine Defense: Four Pawns Attack, Main Line', 'Alekhine Defense: Four Pawns Attack, Trifunovic Variation', 'Alekhine Defense: Hunt Variation',\n",
        "                                'Alekhine Defense: Hunt Variation, Lasker Simul Gambit', 'Alekhine Defense: Maróczy Variation', 'Alekhine Defense: Modern Variation, Alekhine Gambit', 'Alekhine Defense: Modern Variation, Alekhine Variation',\n",
        "                                'Alekhine Defense: Modern Variation, Larsen Variation', 'Alekhine Defense: Modern Variation, Larsen-Haakert Variation', 'Alekhine Defense: Modern Variation, Main Line',\n",
        "                                'Alekhine Defense: Modern Variation, Panov Variation', 'Alekhine Defense: Normal Variation', 'Alekhine Defense: Scandinavian Variation', 'Alekhine Defense: Sämisch Attack', 'Alekhine Defense: Two Pawn Attack',\n",
        "                                'Alekhine Defense: Two Pawn Attack, Lasker Variation', 'Budapest Defense', 'Budapest Defense: Adler Variation', 'Budapest Defense: Rubinstein Variation', 'Sicilian Defense', 'Sicilian Defense: Accelerated Dragon',\n",
        "                                'Sicilian Defense: Accelerated Dragon, Maróczy Bind', 'Sicilian Defense: Accelerated Dragon, Modern Bc4 Variation', 'Sicilian Defense: Alapin Variation', 'Sicilian Defense: Alapin Variation, Smith-Morra Declined',\n",
        "                                'Sicilian Defense: Bowdler Attack', 'Sicilian Defense: Canal Attack, Haag Gambit', 'Sicilian Defense: Canal-Sokolsky Attack', 'Sicilian Defense: Classical Variation', 'Sicilian Defense: Closed', 'Sicilian Defense: Closed Variation',\n",
        "                                'Sicilian Defense: Closed Variation, Chameleon Variation', 'Sicilian Defense: Closed Variation, Traditional', 'Sicilian Defense: Delayed Alapin', 'Sicilian Defense: Delayed Alapin Variation', 'Sicilian Defense: Dragon Variation',\n",
        "                                'Sicilian Defense: Dragon Variation, Classical Variation', 'Sicilian Defense: Dragon Variation, Levenfish Variation', 'Sicilian Defense: Dragon Variation, Yugoslav Attack', 'Sicilian Defense: Dragon Variation, Yugoslav Attack, Belezky Line',\n",
        "                                'Sicilian Defense: Dragon Variation, Yugoslav Attack, Modern Line', 'Sicilian Defense: Dragon, 6. Be3', 'Sicilian Defense: Four Knights Variation', 'Sicilian Defense: Franco-Sicilian Variation', 'Sicilian Defense: French Variation',\n",
        "                                'Sicilian Defense: Grand Prix Attack', 'Sicilian Defense: Hyperaccelerated Dragon', 'Sicilian Defense: Kalashnikov Variation', 'Sicilian Defense: Kan Variation, Modern Variation', 'Sicilian Defense: Kramnik Variation', \n",
        "                                'Sicilian Defense: Lasker-Dunne Attack', 'Sicilian Defense: Lasker-Pelikan Variation, Exchange Variation', 'Sicilian Defense: Lasker-Pelikan Variation, Schlechter Variation', 'Sicilian Defense: Lasker-Pelikan Variation, Sveshnikov Variation', \n",
        "                                'Sicilian Defense: Lasker-Pelikan Variation, Sveshnikov Variation, Chelyabinsk Variation', 'Sicilian Defense: McDonnell Attack', 'Sicilian Defense: McDonnell Attack, Tal Gambit', 'Sicilian Defense: Modern Variations, Anti-Qxd4 Move Order', \n",
        "                                'Sicilian Defense: Modern Variations, Tartakower', 'Sicilian Defense: Morphy Gambit', 'Sicilian Defense: Najdorf Variation', 'Sicilian Defense: Najdorf Variation, Adams Attack', 'Sicilian Defense: Najdorf Variation, Amsterdam Variation', \n",
        "                                'Sicilian Defense: Najdorf Variation, English Attack', 'Sicilian Defense: Najdorf Variation, Main Line', 'Sicilian Defense: Najdorf Variation, Opocensky Variation', 'Sicilian Defense: Najdorf, Lipnitsky Attack', 'Sicilian Defense: Nyezhmetdinov-Rossolimo Attack', \n",
        "                                'Sicilian Defense: O\\'Kelly Variation, Maróczy Bind, Robatsch Line', 'Sicilian Defense: Old Sicilian', 'Sicilian Defense: Open', 'Sicilian Defense: Paulsen Variation', 'Sicilian Defense: Paulsen Variation, Bastrikov Variation', 'Sicilian Defense: Paulsen Variation, Normal Variation', \n",
        "                                'Sicilian Defense: Paulsen Variation, Szén Variation', 'Sicilian Defense: Scheveningen Variation, Classical Variation', 'Sicilian Defense: Scheveningen Variation, Delayed Keres Attack', 'Sicilian Defense: Scheveningen Variation, English Attack', 'Sicilian Defense: Smith-Morra Gambit', \n",
        "                                'Sicilian Defense: Smith-Morra Gambit Accepted, Classical Formation', 'Sicilian Defense: Smith-Morra Gambit Accepted, Fianchetto Defense', 'Sicilian Defense: Smith-Morra Gambit Accepted, Kan Formation', 'Sicilian Defense: Smith-Morra Gambit Accepted, Paulsen Formation', \n",
        "                                'Sicilian Defense: Smith-Morra Gambit Accepted, Pin Defense', 'Sicilian Defense: Smith-Morra Gambit Accepted, Scheveningen Formation', 'Sicilian Defense: Smith-Morra Gambit Declined, Dubois Variation', 'Sicilian Defense: Smith-Morra Gambit Declined, Push Variation', \n",
        "                                'Sicilian Defense: Smith-Morra Gambit Declined, Scandinavian Formation', 'Sicilian Defense: Smith-Morra Gambit Deferred', 'Sicilian Defense: Staunton-Cochrane Variation', 'Sicilian Defense: Wing Gambit', 'Sicilian Defense: Wing Gambit, Carlsbad Variation', \n",
        "                                'Sicilian Defense: Wing Gambit, Marshall Variation']\n",
        "                                \n",
        "white_aggressive_opening = False\n",
        "black_aggressive_opening = False\n",
        "\n",
        "if game.headers['Opening'] in white_opening_aggressiveness:\n",
        "  white_aggressive_opening = True\n",
        "  white_aggressiveness += 2\n",
        "\n",
        "if game.headers['Opening'] in black_opening_aggressiveness:\n",
        "  black_aggressive_opening = True\n",
        "  black_aggressiveness +=2\n",
        "\n",
        "print('\\n[ AGGRESSIVE OPENING ]')\n",
        "print(f'> White aggressive opening = {white_aggressive_opening}')\n",
        "print(f'> Black aggressive opening = {black_aggressive_opening}')\n",
        "\n",
        "\n",
        "print(f'White aggressiveness = {white_aggressiveness}')\n",
        "print(f'Black aggressiveness = {black_aggressiveness}')\n",
        "\n",
        "row_white.append(white_aggressiveness)\n",
        "row_black.append(black_aggressiveness)"
      ],
      "execution_count": 15,
      "outputs": [
        {
          "output_type": "stream",
          "text": [
            "\n",
            "[ WHITE EARLY GAME ]\n",
            "> White early game: [0, 0, 0, 0, 0, 0, 0, 0, 0, 0, 0, 0, 0, 0, 0, 0, 0, 0, 0, 0, 0, 0, 0, -1, 1, -1, 1, -3, 3, 0, 0, 0, 0, 0]\n",
            "> Taken by white in early game: 6\n",
            "\n",
            "[ BLACK EARLY GAME ]\n",
            "> Black early game: [0, 0, 0, 0, 0, 0, 0, 0, 0, 0, 0, 0, 0, 0, 0, 0, 0, 0, 0, 0, 0, 0, 0, 1, -1, 1, -1, 3, -3, 0, 0, 0, 0, 0]\n",
            "> Taken by black in early game: 6\n",
            "\n",
            "[ CASTLING ]\n",
            "> White castling = True\n",
            "> Black castling = True\n",
            "\n",
            "[ AGGRESSIVE OPENING ]\n",
            "> White aggressive opening = False\n",
            "> Black aggressive opening = False\n",
            "White aggressiveness = 0\n",
            "Black aggressiveness = 0\n"
          ],
          "name": "stdout"
        }
      ]
    }
  ]
}