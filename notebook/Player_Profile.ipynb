{
  "nbformat": 4,
  "nbformat_minor": 0,
  "metadata": {
    "colab": {
      "name": "Player_Profile.ipynb",
      "provenance": []
    },
    "kernelspec": {
      "name": "python3",
      "display_name": "Python 3"
    }
  },
  "cells": [
    {
      "cell_type": "code",
      "metadata": {
        "id": "8qWbm8sl90vy",
        "colab_type": "code",
        "colab": {}
      },
      "source": [
        "import os\n",
        "import pandas as pd\n",
        "\n",
        "DATA_FILE = os.path.join('.', 'player_data.csv')\n",
        "\n",
        "df = pd.read_csv(DATA_FILE, index_col=0)\n",
        "\n",
        "FEATURES = [\n",
        "    'user_id',\n",
        "    'aggressiveness_mean',\n",
        "    'most_common_opening',\n",
        "    'maximum_elo',\n",
        "    'winning_colour',\n",
        "    'time_per_game_mean',\n",
        "    'movements_mean',\n",
        "    'points_balance_mean',\n",
        "    'taken_balance_mean'\n",
        "]"
      ],
      "execution_count": 0,
      "outputs": []
    },
    {
      "cell_type": "code",
      "metadata": {
        "id": "0HJzdqUl-h5O",
        "colab_type": "code",
        "colab": {
          "base_uri": "https://localhost:8080/",
          "height": 187
        },
        "outputId": "1767f7a6-2f38-4c1a-fd5b-422f98203f78"
      },
      "source": [
        "df.dtypes"
      ],
      "execution_count": 20,
      "outputs": [
        {
          "output_type": "execute_result",
          "data": {
            "text/plain": [
              "user_id                 object\n",
              "aggressiveness_mean    float64\n",
              "most_common_opening     object\n",
              "maximum_elo              int64\n",
              "winning_colour          object\n",
              "time_per_game_mean     float64\n",
              "movements_mean         float64\n",
              "points_balance_mean    float64\n",
              "taken_balance_mean     float64\n",
              "dtype: object"
            ]
          },
          "metadata": {
            "tags": []
          },
          "execution_count": 20
        }
      ]
    },
    {
      "cell_type": "code",
      "metadata": {
        "id": "OVElTHol-uoo",
        "colab_type": "code",
        "colab": {
          "base_uri": "https://localhost:8080/",
          "height": 221
        },
        "outputId": "6631c8b2-2139-42b6-982e-32a0042be73b"
      },
      "source": [
        "df['winning_colour'] = df['winning_colour'].astype('category')\n",
        "df['winning_colour_enc'] = df['winning_colour'].cat.codes\n",
        "df['most_common_opening'] = df['most_common_opening'].astype('category')\n",
        "df['most_common_opening_enc'] = df['most_common_opening'].cat.codes\n",
        "\n",
        "df.dtypes"
      ],
      "execution_count": 21,
      "outputs": [
        {
          "output_type": "execute_result",
          "data": {
            "text/plain": [
              "user_id                      object\n",
              "aggressiveness_mean         float64\n",
              "most_common_opening        category\n",
              "maximum_elo                   int64\n",
              "winning_colour             category\n",
              "time_per_game_mean          float64\n",
              "movements_mean              float64\n",
              "points_balance_mean         float64\n",
              "taken_balance_mean          float64\n",
              "winning_colour_enc             int8\n",
              "most_common_opening_enc        int8\n",
              "dtype: object"
            ]
          },
          "metadata": {
            "tags": []
          },
          "execution_count": 21
        }
      ]
    },
    {
      "cell_type": "code",
      "metadata": {
        "id": "XP0QpqdQ_Qbo",
        "colab_type": "code",
        "colab": {
          "base_uri": "https://localhost:8080/",
          "height": 297
        },
        "outputId": "db3b5571-14f5-4106-c372-7a5b53a51eec"
      },
      "source": [
        "df.describe()"
      ],
      "execution_count": 22,
      "outputs": [
        {
          "output_type": "execute_result",
          "data": {
            "text/html": [
              "<div>\n",
              "<style scoped>\n",
              "    .dataframe tbody tr th:only-of-type {\n",
              "        vertical-align: middle;\n",
              "    }\n",
              "\n",
              "    .dataframe tbody tr th {\n",
              "        vertical-align: top;\n",
              "    }\n",
              "\n",
              "    .dataframe thead th {\n",
              "        text-align: right;\n",
              "    }\n",
              "</style>\n",
              "<table border=\"1\" class=\"dataframe\">\n",
              "  <thead>\n",
              "    <tr style=\"text-align: right;\">\n",
              "      <th></th>\n",
              "      <th>aggressiveness_mean</th>\n",
              "      <th>maximum_elo</th>\n",
              "      <th>time_per_game_mean</th>\n",
              "      <th>movements_mean</th>\n",
              "      <th>points_balance_mean</th>\n",
              "      <th>taken_balance_mean</th>\n",
              "      <th>winning_colour_enc</th>\n",
              "      <th>most_common_opening_enc</th>\n",
              "    </tr>\n",
              "  </thead>\n",
              "  <tbody>\n",
              "    <tr>\n",
              "      <th>count</th>\n",
              "      <td>165.000000</td>\n",
              "      <td>165.000000</td>\n",
              "      <td>165.000000</td>\n",
              "      <td>165.000000</td>\n",
              "      <td>165.000000</td>\n",
              "      <td>165.000000</td>\n",
              "      <td>165.000000</td>\n",
              "      <td>165.000000</td>\n",
              "    </tr>\n",
              "    <tr>\n",
              "      <th>mean</th>\n",
              "      <td>0.944645</td>\n",
              "      <td>2236.290909</td>\n",
              "      <td>937.826757</td>\n",
              "      <td>71.642424</td>\n",
              "      <td>1.472727</td>\n",
              "      <td>0.624242</td>\n",
              "      <td>0.957576</td>\n",
              "      <td>21.181818</td>\n",
              "    </tr>\n",
              "    <tr>\n",
              "      <th>std</th>\n",
              "      <td>0.544643</td>\n",
              "      <td>100.320585</td>\n",
              "      <td>550.667455</td>\n",
              "      <td>14.412880</td>\n",
              "      <td>1.552196</td>\n",
              "      <td>0.692746</td>\n",
              "      <td>0.202169</td>\n",
              "      <td>11.229465</td>\n",
              "    </tr>\n",
              "    <tr>\n",
              "      <th>min</th>\n",
              "      <td>0.000000</td>\n",
              "      <td>1500.000000</td>\n",
              "      <td>124.000000</td>\n",
              "      <td>32.000000</td>\n",
              "      <td>-2.000000</td>\n",
              "      <td>-2.000000</td>\n",
              "      <td>0.000000</td>\n",
              "      <td>0.000000</td>\n",
              "    </tr>\n",
              "    <tr>\n",
              "      <th>25%</th>\n",
              "      <td>0.615385</td>\n",
              "      <td>2194.000000</td>\n",
              "      <td>615.478261</td>\n",
              "      <td>63.000000</td>\n",
              "      <td>1.000000</td>\n",
              "      <td>0.000000</td>\n",
              "      <td>1.000000</td>\n",
              "      <td>9.000000</td>\n",
              "    </tr>\n",
              "    <tr>\n",
              "      <th>50%</th>\n",
              "      <td>0.878505</td>\n",
              "      <td>2234.000000</td>\n",
              "      <td>810.775510</td>\n",
              "      <td>71.000000</td>\n",
              "      <td>1.000000</td>\n",
              "      <td>1.000000</td>\n",
              "      <td>1.000000</td>\n",
              "      <td>25.000000</td>\n",
              "    </tr>\n",
              "    <tr>\n",
              "      <th>75%</th>\n",
              "      <td>1.186567</td>\n",
              "      <td>2280.000000</td>\n",
              "      <td>1105.375000</td>\n",
              "      <td>79.000000</td>\n",
              "      <td>2.000000</td>\n",
              "      <td>1.000000</td>\n",
              "      <td>1.000000</td>\n",
              "      <td>32.000000</td>\n",
              "    </tr>\n",
              "    <tr>\n",
              "      <th>max</th>\n",
              "      <td>4.500000</td>\n",
              "      <td>2549.000000</td>\n",
              "      <td>3651.142857</td>\n",
              "      <td>134.000000</td>\n",
              "      <td>10.000000</td>\n",
              "      <td>3.000000</td>\n",
              "      <td>1.000000</td>\n",
              "      <td>36.000000</td>\n",
              "    </tr>\n",
              "  </tbody>\n",
              "</table>\n",
              "</div>"
            ],
            "text/plain": [
              "       aggressiveness_mean  ...  most_common_opening_enc\n",
              "count           165.000000  ...               165.000000\n",
              "mean              0.944645  ...                21.181818\n",
              "std               0.544643  ...                11.229465\n",
              "min               0.000000  ...                 0.000000\n",
              "25%               0.615385  ...                 9.000000\n",
              "50%               0.878505  ...                25.000000\n",
              "75%               1.186567  ...                32.000000\n",
              "max               4.500000  ...                36.000000\n",
              "\n",
              "[8 rows x 8 columns]"
            ]
          },
          "metadata": {
            "tags": []
          },
          "execution_count": 22
        }
      ]
    },
    {
      "cell_type": "code",
      "metadata": {
        "id": "Yiino3Rp_cmQ",
        "colab_type": "code",
        "colab": {
          "base_uri": "https://localhost:8080/",
          "height": 68
        },
        "outputId": "eb01280f-61c1-485d-b244-cb40ccdebedb"
      },
      "source": [
        "from sklearn import preprocessing as pre\n",
        "from sklearn.decomposition import PCA\n",
        "\n",
        "SELECTED_FEATURES = [\n",
        "    'aggressiveness_mean',\n",
        "    #'most_common_opening_enc',\n",
        "    'maximum_elo',\n",
        "    'winning_colour_enc',\n",
        "    'time_per_game_mean',\n",
        "    'movements_mean',\n",
        "    'points_balance_mean',\n",
        "    'taken_balance_mean'\n",
        "]\n",
        "\n",
        "scaler = pre.MaxAbsScaler()\n",
        "df_scaled = scaler.fit_transform(df[SELECTED_FEATURES])\n",
        "\n",
        "N_COMPONENTS = 3\n",
        "estimator = PCA(n_components = N_COMPONENTS)\n",
        "X_pca = estimator.fit_transform(df_scaled)\n",
        "\n",
        "print(\"[ Explained variance ratio ]\")\n",
        "print(estimator.explained_variance_ratio_)\n",
        "print(sum(estimator.explained_variance_ratio_))"
      ],
      "execution_count": 26,
      "outputs": [
        {
          "output_type": "stream",
          "text": [
            "[ Explained variance ratio ]\n",
            "[0.41312163 0.23550651 0.14155709]\n",
            "0.790185227272642\n"
          ],
          "name": "stdout"
        }
      ]
    },
    {
      "cell_type": "code",
      "metadata": {
        "id": "218M8aA3AhEs",
        "colab_type": "code",
        "colab": {
          "base_uri": "https://localhost:8080/",
          "height": 170
        },
        "outputId": "4c846656-84ac-4def-bbc5-c7ef2db9b16d"
      },
      "source": [
        "import numpy as np\n",
        "\n",
        "print(\"[ Relation between PCA components and features ]\")\n",
        "print(pd.DataFrame(np.matrix.transpose(estimator.components_), columns=[f'PC-{i}' for i in range(N_COMPONENTS)], index=SELECTED_FEATURES))"
      ],
      "execution_count": 27,
      "outputs": [
        {
          "output_type": "stream",
          "text": [
            "[ Relation between PCA components and features ]\n",
            "                         PC-0      PC-1      PC-2\n",
            "aggressiveness_mean -0.007745 -0.105198  0.026434\n",
            "maximum_elo         -0.010816 -0.021993  0.055358\n",
            "winning_colour_enc  -0.228597 -0.965139 -0.011689\n",
            "time_per_game_mean   0.159980 -0.043716  0.902183\n",
            "movements_mean       0.092203 -0.050704  0.356925\n",
            "points_balance_mean -0.476996  0.053555 -0.027949\n",
            "taken_balance_mean  -0.828219  0.222726  0.232355\n"
          ],
          "name": "stdout"
        }
      ]
    },
    {
      "cell_type": "code",
      "metadata": {
        "id": "BZefiR4CA29h",
        "colab_type": "code",
        "colab": {
          "base_uri": "https://localhost:8080/",
          "height": 617
        },
        "outputId": "7b8fb11f-6d89-499e-f988-4ac62786a51e"
      },
      "source": [
        "import plotly.express as px\n",
        "\n",
        "scatter = pd.DataFrame(data=X_pca, index=list(range(0, len(df))), columns=['PCA0', 'PCA1', 'PCA2'])\n",
        "\n",
        "fig = px.scatter_3d(scatter, x='PCA0', y='PCA1', z='PCA2')\n",
        "fig.show()"
      ],
      "execution_count": 28,
      "outputs": [
        {
          "output_type": "display_data",
          "data": {
            "text/html": [
              "<html>\n",
              "<head><meta charset=\"utf-8\" /></head>\n",
              "<body>\n",
              "    <div>\n",
              "            <script src=\"https://cdnjs.cloudflare.com/ajax/libs/mathjax/2.7.5/MathJax.js?config=TeX-AMS-MML_SVG\"></script><script type=\"text/javascript\">if (window.MathJax) {MathJax.Hub.Config({SVG: {font: \"STIX-Web\"}});}</script>\n",
              "                <script type=\"text/javascript\">window.PlotlyConfig = {MathJaxConfig: 'local'};</script>\n",
              "        <script src=\"https://cdn.plot.ly/plotly-latest.min.js\"></script>    \n",
              "            <div id=\"3a20fe2f-1e3b-40d6-a297-31a45365ded9\" class=\"plotly-graph-div\" style=\"height:600px; width:100%;\"></div>\n",
              "            <script type=\"text/javascript\">\n",
              "                \n",
              "                    window.PLOTLYENV=window.PLOTLYENV || {};\n",
              "                    \n",
              "                if (document.getElementById(\"3a20fe2f-1e3b-40d6-a297-31a45365ded9\")) {\n",
              "                    Plotly.newPlot(\n",
              "                        '3a20fe2f-1e3b-40d6-a297-31a45365ded9',\n",
              "                        [{\"hoverlabel\": {\"namelength\": 0}, \"hovertemplate\": \"PCA0=%{x}<br>PCA1=%{y}<br>PCA2=%{z}\", \"legendgroup\": \"\", \"marker\": {\"color\": \"#636efa\", \"symbol\": \"circle\"}, \"mode\": \"markers\", \"name\": \"\", \"scene\": \"scene\", \"showlegend\": false, \"type\": \"scatter3d\", \"x\": [-0.08830306973954184, -0.15415022856649727, -0.03273912666362139, 0.565415435245506, 0.49703665592660556, -0.0877727155588677, -0.0610889360633201, 0.2117325313587378, -0.09179074178052969, -0.12377195818421917, -0.11190128198896566, -0.10286520242630386, -0.1693332294117944, -0.19933506379493904, 0.18638236715224987, 0.14753474933412253, 0.18302059641971916, -0.18297087557121783, -0.13357641511657256, -0.5875869841158411, 0.1168184689502722, -0.03327135522877616, -0.20044283725708373, -0.2498806326045594, 0.22669490319762103, -0.20660209367101368, -0.15831623811876355, 0.14387756365956592, 0.4384099289720651, 0.7844828386696513, -0.15523841470665345, -0.19393647232861558, 0.15399550096595205, -0.22703827874039886, 0.18551593065462646, -0.22166102631062395, 0.19574955555551943, -0.4761869227556011, 0.2540341301218566, -0.5266140502845469, -0.19136876723312546, 0.07953386719637495, 0.1913657585998657, 0.23414529839104464, 0.08786607286455311, -0.1773402762220558, -0.10315257290874516, -0.12032487064425794, -0.5099650869953155, -0.2331729562520313, 0.3321709845114801, 0.14187980008342543, 0.1269991351430206, -0.5746520503283395, -0.21483319231005085, -0.14186112499347744, -0.14473534396143448, 0.2108121155569285, -0.058424093086539494, 0.1619779700127987, -0.5333977186371642, 0.1687816148562924, -0.11089945277298195, 0.17266917231703285, -0.15136082970998035, 0.20156833845780084, 0.11953271888432561, 0.24883422306512507, 0.20345271374547902, 0.4917984083758417, -0.5247438756472745, -0.16499500951122292, 0.1468045052297647, -0.20890848441016982, -0.14447616186028783, -0.262104538772935, -0.16902433894608707, 0.20947424545056775, 0.2154341721209928, 0.1606299002177408, -0.20999757092793453, 0.25421873636171355, 0.2524111419774254, -0.14443405862148054, -0.20085309286212583, -0.14369929424507344, 0.13589666428437208, -0.09292689585935056, 0.2960274548275598, 0.24581645558481222, 0.33934381718693046, -0.8117345089816498, -0.07688007863331182, 0.22516942560278205, 0.17375732115969217, 0.27980200719983805, -0.2418676709960761, -0.08156925898168806, 0.23328041266730618, -0.09216953687873454, -0.14410338814505474, 0.1254586190228947, -0.05230558887920299, 0.18849077143121146, 0.2389617941130838, -0.1610593375707211, -0.09119243341111699, 0.18140813729742167, 0.24885195537159271, -0.029028907164871068, 0.29553576153220545, -0.1700063879611658, -0.124067531096412, -0.4889157286441882, -0.09753850160446864, -0.4322110789682567, -0.14415379747187526, 0.19905960680531593, 0.20910293358983742, -0.12275946209157744, -0.8476790787741739, 0.9060826107812231, -0.1502415876903536, -0.15265735081600715, -0.08620399086189443, -0.5332509873153707, 0.2010271544342248, -0.08275490048410745, -0.10011628483942733, -0.1376890904123253, 0.3889613889925752, -0.128261070136567, 0.23647279433924484, 0.2842240777109819, -0.22671690504395367, -0.2101033383209714, -0.09792999967067868, 0.21830007439016924, -0.04176697461744736, -0.15163757216201235, 0.18948651054154114, -0.21360595823806508, -0.1258645283548433, -0.17338949028026987, 0.2505956504571672, 0.16150031796558342, 0.1705402191128546, 0.10820097263657992, 0.1740189947595916, 0.2666579775221488, -0.1260632976652459, 0.3046329890470937, 0.2462070375270511, 0.2470815303130629, -0.14482352507463858, 0.25454951109040225, -0.06933222315565042, 0.2680617189861975, 0.07252544950577297, 0.12564105550867682, 0.2050789074496388, 0.17357200615689575, -0.11271445285659838, -0.0909420427628357, -0.09911048078708097], \"y\": [-0.009789888070501806, -0.01757454848686214, -0.035760143621722376, -0.143356037948147, -0.15965217763512465, -0.10630463326375497, -0.020154172396935188, -0.09607177554452462, -0.010220116812019309, 0.004966950068945763, -0.009424315785884846, -0.016225345620595116, -0.029728290811575773, -0.017043403467550462, -0.09466395229275038, -0.10007394642368511, -0.07545952108843085, -0.0005579208199169743, -0.03367707453874709, 0.06613830454913455, -0.08243831541451999, -0.028406543521893195, 0.019672461650651663, 0.017839187735679128, -0.08615354182540044, 0.0030914727234071806, -0.02547457746605368, -0.07235820214282958, 0.8788036070319767, 0.789598506765789, -0.012161805427435671, -0.001500038863543216, -0.0696794718888438, 0.007111493895719961, -0.08594290430437695, 0.014046671209145791, -0.10117661283322428, 0.06336864259188242, -0.06397080166693578, 0.07261618886112475, -0.009939563145894767, -0.08868611719921095, -0.10162853702513475, -0.08980365111841267, -0.055231944644214326, -0.018337640666511414, -0.013954002743572893, -0.010887887996497416, 0.10033992416152493, -0.01250997410063828, -0.12087840228579184, -0.08485921705492593, -0.07096281674530393, 0.08513945499384211, 0.0027626535272083927, -0.009423758873347734, 0.0008349618848122502, -0.09536141105337886, -0.023788916288848303, -0.07389915323383801, 0.09967385866200777, -0.08553693662942449, -0.006244815870881218, -0.08676803364354324, -0.014578278032425937, -0.104102755163735, -0.08495252789151071, -0.10589843012579493, 0.9392229098831004, 0.8706231488698655, 0.08658075718368084, -0.0047099300713959475, -0.08820536375767667, 0.019722158869807174, -0.010852789449568714, 0.014347844340130835, 0.008662903580394333, -0.08204685709390924, -0.10123521937060369, -0.07071509910237489, -0.0026799351952651275, -0.08961307199581463, -0.10753841757734287, -0.011107929800328587, 0.021269893153582305, -0.00276301066392169, -0.08822365929959332, -0.029230260975280763, -0.10659053187084906, -0.09929922751599582, -0.12058276829908159, 0.13638570959148963, -0.030299321735722615, -0.11031736461229844, -0.0849595905800259, -0.11208087341253146, 0.02478424688997369, -0.013805105317193521, -0.06895383349122162, -0.012291731627935443, -0.009995911631597812, -0.09203046958996615, -0.02237679347469592, -0.09787526737042247, -0.0929947666678655, -0.011125819071852516, -0.028394165664973943, -0.08787520604542803, -0.08922622390088329, -0.022434510653695172, -0.09403583610226053, 0.005881232668757122, -0.0387164309437111, 0.08687272901401943, -0.012854117662802606, 0.0631029880216584, -0.0068474654457790175, 0.9323610243792977, -0.11362500770507773, 0.0040569192889850616, 0.13562666719627622, -0.30057233510853654, -0.019795808912303876, 0.00039154705350152977, -0.012811809794067505, 0.08526429670684367, -0.09688190524782984, -0.012806994237657916, -0.020623598123994023, 0.002900530471140575, 0.9087158505676934, -0.005682818588615521, -0.09472114841432132, -0.12145139952790895, -0.02055943140520262, -0.0021185888922574153, -0.01914128428929748, -0.09882658556308697, -0.035828236239972014, 0.002329469406806271, -0.0811986372677045, 0.0058124278915373815, -0.01967798238383751, 0.0026004460423305472, -0.10556041968534442, -0.07218008624392737, -0.08061225000149774, 0.9729844134299745, -0.08382941122160287, -0.0994627248534994, -0.017977055187582188, -0.1392584475313164, -0.12805427573061626, -0.09908958792139283, -0.002022257464416508, -0.11195002877797196, -0.012340298439807662, -0.08427493534064642, -0.026491594660972798, -0.07340760674645083, -0.11118030506377233, -0.08356505637161189, 0.00020397932014004917, -0.00520774562804645, -0.01580104700321028], \"z\": [0.03703038292579996, -0.045317022046927787, 0.3630483473249159, -0.3074607462097765, -0.18756782690456641, 0.0879672060333691, 0.4908452502640364, -0.1516900468636169, 0.2848720468849675, -0.13007176243237792, -0.0622308939013837, -0.020532679898982272, -0.10326019459742415, -0.044252017958120886, -0.01766514927182102, 0.014115632088140111, -0.065905657310688, 0.0516822852269938, 0.05534367979951421, -0.05027816507191467, -0.1466878340183713, 0.0852833036294271, -0.05067923578167322, -0.06543905117252287, -0.08021122578905936, -0.07662109688503521, -0.058372214199060676, -0.2605292104684772, 0.08474432762164953, -0.10513546465035056, -0.053787979100601346, -0.04152899076568198, -0.20688978240658454, -0.17901878017569012, -0.0456527356504034, -0.16145269564050455, -0.0025294667038271335, 0.024535473889246023, -0.16720406209943095, 0.021841991902291743, -0.0023028676538432934, -0.09292396048366328, -0.22390811140516242, -0.052200529472592384, -0.31097452273354353, 0.08297684201633349, -0.03055303345482595, 0.11790268108160627, 0.09900996527279443, 0.02518275189514491, 0.5172906283637347, -0.049333237131653836, 0.725666368522308, -0.0015422186737970686, -0.1316779720426384, -5.7925228289856066e-05, -0.008620167328821182, -0.15676198284053655, 0.21189106699606658, -0.16910527267487466, -0.038806762430181274, -0.13314730408598863, -0.08896926908464305, -0.12057323829449057, -0.029988006232553547, 0.030712882309710563, -0.14738924577707424, 0.016887675949021047, 0.13756529343952126, 0.11134457109979477, 0.010992562565059342, 0.12893504963959498, -0.017683349550888215, -0.09789615368265012, -0.014706404951727097, -0.1156171458138576, 0.10811902291983452, 0.08292188409721192, 0.1487480592265498, -0.17924712161670392, -0.09807862947995105, 0.06688276744373156, 0.05751014557239625, -0.014067817915248582, -0.05701846399527546, -0.015814790252693948, -0.06500417024899964, 0.26779822297594197, 0.555712274929484, 0.009592466033569476, 0.5044429904173018, -0.003976909852621126, 0.09608065423137567, -0.07970287053195954, -0.11439294820465416, 0.17512129366056606, -0.04131794668560408, 0.06956294454292994, -0.046255672261675394, 0.01897632072564937, -0.01209222232220777, 0.11010818718519588, 0.2404553118348588, -0.04068165330621518, -0.026450094119017154, -0.0806590110806028, 0.034485213566795805, -0.09093564334376569, 0.01834529763066513, 0.10929813339162833, 0.019835087233753178, -0.13839774000531552, 0.10606810149141031, -0.036465421282936, -0.003976482782924533, 0.017008950699461456, -0.0002485478064096781, 0.10655710437006703, 0.10813849422500846, -0.13839926877064604, 0.1260845333624595, -0.04768921352671043, -0.03086892498577145, -0.05220585371166635, 0.050479810352251915, -0.018111461364164652, 0.011029145586881593, 0.0629202460082978, -0.017399616754472533, 0.03365090212345807, -0.18510470034442947, -0.16292369600821585, -0.007788456632415116, -0.02127099240615349, 0.060568198565814364, -0.1046619799494816, -0.00782234917163233, 0.09641230463280387, 0.044320723780870146, -0.03844357474057913, -0.27208198201550565, -0.11358436680651475, 0.09374057666311963, 0.08966839148442653, 0.05436313723409527, -0.18161601602313188, -0.12895939287545446, -0.10416528875343327, -0.12304410405239811, -0.3556155645568563, 0.07623615355838717, 0.2896749598549858, 0.25066464384844, 0.049648552018475824, -0.015575618691361844, 0.3208230168412617, -0.0949675071143382, -0.1180269843021425, 0.0886456828153618, -0.1192527070622079, 0.08549549928154296, -0.12802584799009184, -0.09020629692331587, 0.021888645456111126, -0.010445726984428798]}],\n",
              "                        {\"height\": 600, \"legend\": {\"tracegroupgap\": 0}, \"margin\": {\"t\": 60}, \"scene\": {\"domain\": {\"x\": [0.0, 0.98], \"y\": [0.0, 1.0]}, \"xaxis\": {\"title\": {\"text\": \"PCA0\"}}, \"yaxis\": {\"title\": {\"text\": \"PCA1\"}}, \"zaxis\": {\"title\": {\"text\": \"PCA2\"}}}, \"template\": {\"data\": {\"bar\": [{\"error_x\": {\"color\": \"#2a3f5f\"}, \"error_y\": {\"color\": \"#2a3f5f\"}, \"marker\": {\"line\": {\"color\": \"#E5ECF6\", \"width\": 0.5}}, \"type\": \"bar\"}], \"barpolar\": [{\"marker\": {\"line\": {\"color\": \"#E5ECF6\", \"width\": 0.5}}, \"type\": \"barpolar\"}], \"carpet\": [{\"aaxis\": {\"endlinecolor\": \"#2a3f5f\", \"gridcolor\": \"white\", \"linecolor\": \"white\", \"minorgridcolor\": \"white\", \"startlinecolor\": \"#2a3f5f\"}, \"baxis\": {\"endlinecolor\": \"#2a3f5f\", \"gridcolor\": \"white\", \"linecolor\": \"white\", \"minorgridcolor\": \"white\", \"startlinecolor\": \"#2a3f5f\"}, \"type\": \"carpet\"}], \"choropleth\": [{\"colorbar\": {\"outlinewidth\": 0, \"ticks\": \"\"}, \"type\": \"choropleth\"}], \"contour\": [{\"colorbar\": {\"outlinewidth\": 0, \"ticks\": \"\"}, \"colorscale\": [[0.0, \"#0d0887\"], [0.1111111111111111, \"#46039f\"], [0.2222222222222222, \"#7201a8\"], [0.3333333333333333, \"#9c179e\"], [0.4444444444444444, \"#bd3786\"], [0.5555555555555556, \"#d8576b\"], [0.6666666666666666, \"#ed7953\"], [0.7777777777777778, \"#fb9f3a\"], [0.8888888888888888, \"#fdca26\"], [1.0, \"#f0f921\"]], \"type\": \"contour\"}], \"contourcarpet\": [{\"colorbar\": {\"outlinewidth\": 0, \"ticks\": \"\"}, \"type\": \"contourcarpet\"}], \"heatmap\": [{\"colorbar\": {\"outlinewidth\": 0, \"ticks\": \"\"}, \"colorscale\": [[0.0, \"#0d0887\"], [0.1111111111111111, \"#46039f\"], [0.2222222222222222, \"#7201a8\"], [0.3333333333333333, \"#9c179e\"], [0.4444444444444444, \"#bd3786\"], [0.5555555555555556, \"#d8576b\"], [0.6666666666666666, \"#ed7953\"], [0.7777777777777778, \"#fb9f3a\"], [0.8888888888888888, \"#fdca26\"], [1.0, \"#f0f921\"]], \"type\": \"heatmap\"}], \"heatmapgl\": [{\"colorbar\": {\"outlinewidth\": 0, \"ticks\": \"\"}, \"colorscale\": [[0.0, \"#0d0887\"], [0.1111111111111111, \"#46039f\"], [0.2222222222222222, \"#7201a8\"], [0.3333333333333333, \"#9c179e\"], [0.4444444444444444, \"#bd3786\"], [0.5555555555555556, \"#d8576b\"], [0.6666666666666666, \"#ed7953\"], [0.7777777777777778, \"#fb9f3a\"], [0.8888888888888888, \"#fdca26\"], [1.0, \"#f0f921\"]], \"type\": \"heatmapgl\"}], \"histogram\": [{\"marker\": {\"colorbar\": {\"outlinewidth\": 0, \"ticks\": \"\"}}, \"type\": \"histogram\"}], \"histogram2d\": [{\"colorbar\": {\"outlinewidth\": 0, \"ticks\": \"\"}, \"colorscale\": [[0.0, \"#0d0887\"], [0.1111111111111111, \"#46039f\"], [0.2222222222222222, \"#7201a8\"], [0.3333333333333333, \"#9c179e\"], [0.4444444444444444, \"#bd3786\"], [0.5555555555555556, \"#d8576b\"], [0.6666666666666666, \"#ed7953\"], [0.7777777777777778, \"#fb9f3a\"], [0.8888888888888888, \"#fdca26\"], [1.0, \"#f0f921\"]], \"type\": \"histogram2d\"}], \"histogram2dcontour\": [{\"colorbar\": {\"outlinewidth\": 0, \"ticks\": \"\"}, \"colorscale\": [[0.0, \"#0d0887\"], [0.1111111111111111, \"#46039f\"], [0.2222222222222222, \"#7201a8\"], [0.3333333333333333, \"#9c179e\"], [0.4444444444444444, \"#bd3786\"], [0.5555555555555556, \"#d8576b\"], [0.6666666666666666, \"#ed7953\"], [0.7777777777777778, \"#fb9f3a\"], [0.8888888888888888, \"#fdca26\"], [1.0, \"#f0f921\"]], \"type\": \"histogram2dcontour\"}], \"mesh3d\": [{\"colorbar\": {\"outlinewidth\": 0, \"ticks\": \"\"}, \"type\": \"mesh3d\"}], \"parcoords\": [{\"line\": {\"colorbar\": {\"outlinewidth\": 0, \"ticks\": \"\"}}, \"type\": \"parcoords\"}], \"scatter\": [{\"marker\": {\"colorbar\": {\"outlinewidth\": 0, \"ticks\": \"\"}}, \"type\": \"scatter\"}], \"scatter3d\": [{\"line\": {\"colorbar\": {\"outlinewidth\": 0, \"ticks\": \"\"}}, \"marker\": {\"colorbar\": {\"outlinewidth\": 0, \"ticks\": \"\"}}, \"type\": \"scatter3d\"}], \"scattercarpet\": [{\"marker\": {\"colorbar\": {\"outlinewidth\": 0, \"ticks\": \"\"}}, \"type\": \"scattercarpet\"}], \"scattergeo\": [{\"marker\": {\"colorbar\": {\"outlinewidth\": 0, \"ticks\": \"\"}}, \"type\": \"scattergeo\"}], \"scattergl\": [{\"marker\": {\"colorbar\": {\"outlinewidth\": 0, \"ticks\": \"\"}}, \"type\": \"scattergl\"}], \"scattermapbox\": [{\"marker\": {\"colorbar\": {\"outlinewidth\": 0, \"ticks\": \"\"}}, \"type\": \"scattermapbox\"}], \"scatterpolar\": [{\"marker\": {\"colorbar\": {\"outlinewidth\": 0, \"ticks\": \"\"}}, \"type\": \"scatterpolar\"}], \"scatterpolargl\": [{\"marker\": {\"colorbar\": {\"outlinewidth\": 0, \"ticks\": \"\"}}, \"type\": \"scatterpolargl\"}], \"scatterternary\": [{\"marker\": {\"colorbar\": {\"outlinewidth\": 0, \"ticks\": \"\"}}, \"type\": \"scatterternary\"}], \"surface\": [{\"colorbar\": {\"outlinewidth\": 0, \"ticks\": \"\"}, \"colorscale\": [[0.0, \"#0d0887\"], [0.1111111111111111, \"#46039f\"], [0.2222222222222222, \"#7201a8\"], [0.3333333333333333, \"#9c179e\"], [0.4444444444444444, \"#bd3786\"], [0.5555555555555556, \"#d8576b\"], [0.6666666666666666, \"#ed7953\"], [0.7777777777777778, \"#fb9f3a\"], [0.8888888888888888, \"#fdca26\"], [1.0, \"#f0f921\"]], \"type\": \"surface\"}], \"table\": [{\"cells\": {\"fill\": {\"color\": \"#EBF0F8\"}, \"line\": {\"color\": \"white\"}}, \"header\": {\"fill\": {\"color\": \"#C8D4E3\"}, \"line\": {\"color\": \"white\"}}, \"type\": \"table\"}]}, \"layout\": {\"annotationdefaults\": {\"arrowcolor\": \"#2a3f5f\", \"arrowhead\": 0, \"arrowwidth\": 1}, \"colorscale\": {\"diverging\": [[0, \"#8e0152\"], [0.1, \"#c51b7d\"], [0.2, \"#de77ae\"], [0.3, \"#f1b6da\"], [0.4, \"#fde0ef\"], [0.5, \"#f7f7f7\"], [0.6, \"#e6f5d0\"], [0.7, \"#b8e186\"], [0.8, \"#7fbc41\"], [0.9, \"#4d9221\"], [1, \"#276419\"]], \"sequential\": [[0.0, \"#0d0887\"], [0.1111111111111111, \"#46039f\"], [0.2222222222222222, \"#7201a8\"], [0.3333333333333333, \"#9c179e\"], [0.4444444444444444, \"#bd3786\"], [0.5555555555555556, \"#d8576b\"], [0.6666666666666666, \"#ed7953\"], [0.7777777777777778, \"#fb9f3a\"], [0.8888888888888888, \"#fdca26\"], [1.0, \"#f0f921\"]], \"sequentialminus\": [[0.0, \"#0d0887\"], [0.1111111111111111, \"#46039f\"], [0.2222222222222222, \"#7201a8\"], [0.3333333333333333, \"#9c179e\"], [0.4444444444444444, \"#bd3786\"], [0.5555555555555556, \"#d8576b\"], [0.6666666666666666, \"#ed7953\"], [0.7777777777777778, \"#fb9f3a\"], [0.8888888888888888, \"#fdca26\"], [1.0, \"#f0f921\"]]}, \"colorway\": [\"#636efa\", \"#EF553B\", \"#00cc96\", \"#ab63fa\", \"#FFA15A\", \"#19d3f3\", \"#FF6692\", \"#B6E880\", \"#FF97FF\", \"#FECB52\"], \"font\": {\"color\": \"#2a3f5f\"}, \"geo\": {\"bgcolor\": \"white\", \"lakecolor\": \"white\", \"landcolor\": \"#E5ECF6\", \"showlakes\": true, \"showland\": true, \"subunitcolor\": \"white\"}, \"hoverlabel\": {\"align\": \"left\"}, \"hovermode\": \"closest\", \"mapbox\": {\"style\": \"light\"}, \"paper_bgcolor\": \"white\", \"plot_bgcolor\": \"#E5ECF6\", \"polar\": {\"angularaxis\": {\"gridcolor\": \"white\", \"linecolor\": \"white\", \"ticks\": \"\"}, \"bgcolor\": \"#E5ECF6\", \"radialaxis\": {\"gridcolor\": \"white\", \"linecolor\": \"white\", \"ticks\": \"\"}}, \"scene\": {\"xaxis\": {\"backgroundcolor\": \"#E5ECF6\", \"gridcolor\": \"white\", \"gridwidth\": 2, \"linecolor\": \"white\", \"showbackground\": true, \"ticks\": \"\", \"zerolinecolor\": \"white\"}, \"yaxis\": {\"backgroundcolor\": \"#E5ECF6\", \"gridcolor\": \"white\", \"gridwidth\": 2, \"linecolor\": \"white\", \"showbackground\": true, \"ticks\": \"\", \"zerolinecolor\": \"white\"}, \"zaxis\": {\"backgroundcolor\": \"#E5ECF6\", \"gridcolor\": \"white\", \"gridwidth\": 2, \"linecolor\": \"white\", \"showbackground\": true, \"ticks\": \"\", \"zerolinecolor\": \"white\"}}, \"shapedefaults\": {\"line\": {\"color\": \"#2a3f5f\"}}, \"ternary\": {\"aaxis\": {\"gridcolor\": \"white\", \"linecolor\": \"white\", \"ticks\": \"\"}, \"baxis\": {\"gridcolor\": \"white\", \"linecolor\": \"white\", \"ticks\": \"\"}, \"bgcolor\": \"#E5ECF6\", \"caxis\": {\"gridcolor\": \"white\", \"linecolor\": \"white\", \"ticks\": \"\"}}, \"title\": {\"x\": 0.05}, \"xaxis\": {\"automargin\": true, \"gridcolor\": \"white\", \"linecolor\": \"white\", \"ticks\": \"\", \"zerolinecolor\": \"white\", \"zerolinewidth\": 2}, \"yaxis\": {\"automargin\": true, \"gridcolor\": \"white\", \"linecolor\": \"white\", \"ticks\": \"\", \"zerolinecolor\": \"white\", \"zerolinewidth\": 2}}}},\n",
              "                        {\"responsive\": true}\n",
              "                    ).then(function(){\n",
              "                            \n",
              "var gd = document.getElementById('3a20fe2f-1e3b-40d6-a297-31a45365ded9');\n",
              "var x = new MutationObserver(function (mutations, observer) {{\n",
              "        var display = window.getComputedStyle(gd).display;\n",
              "        if (!display || display === 'none') {{\n",
              "            console.log([gd, 'removed!']);\n",
              "            Plotly.purge(gd);\n",
              "            observer.disconnect();\n",
              "        }}\n",
              "}});\n",
              "\n",
              "// Listen for the removal of the full notebook cells\n",
              "var notebookContainer = gd.closest('#notebook-container');\n",
              "if (notebookContainer) {{\n",
              "    x.observe(notebookContainer, {childList: true});\n",
              "}}\n",
              "\n",
              "// Listen for the clearing of the current output cell\n",
              "var outputEl = gd.closest('.output');\n",
              "if (outputEl) {{\n",
              "    x.observe(outputEl, {childList: true});\n",
              "}}\n",
              "\n",
              "                        })\n",
              "                };\n",
              "                \n",
              "            </script>\n",
              "        </div>\n",
              "</body>\n",
              "</html>"
            ]
          },
          "metadata": {
            "tags": []
          }
        }
      ]
    },
    {
      "cell_type": "code",
      "metadata": {
        "id": "2jQ1mVqfBN0u",
        "colab_type": "code",
        "colab": {}
      },
      "source": [
        "init = 'random'\n",
        "iterations = 10\n",
        "max_iter = 300\n",
        "tol = 1e-04\n",
        "random_state = 0"
      ],
      "execution_count": 0,
      "outputs": []
    },
    {
      "cell_type": "code",
      "metadata": {
        "id": "QlBRsY6CBTgG",
        "colab_type": "code",
        "colab": {
          "base_uri": "https://localhost:8080/",
          "height": 714
        },
        "outputId": "f3dc2f34-66cc-4b31-e92a-cfc842792835"
      },
      "source": [
        "from sklearn.cluster import KMeans\n",
        "from sklearn import metrics\n",
        "\n",
        "k_range = range(2,35)\n",
        "\n",
        "distortions = []\n",
        "silhouettes = []\n",
        "\n",
        "for k in k_range:\n",
        "    print(\"k:\", k)\n",
        "    km = KMeans(k, init, n_init = iterations ,max_iter= max_iter, tol = tol,random_state = random_state)\n",
        "    labels = km.fit_predict(X_pca)\n",
        "    distortions.append(km.inertia_)\n",
        "    silhouettes.append(metrics.silhouette_score(X_pca, labels))"
      ],
      "execution_count": 30,
      "outputs": [
        {
          "output_type": "stream",
          "text": [
            "k: 2\n",
            "k: 3\n",
            "k: 4\n",
            "k: 5\n",
            "k: 6\n",
            "k: 7\n",
            "k: 8\n",
            "k: 9\n",
            "k: 10\n",
            "k: 11\n",
            "k: 12\n",
            "k: 13\n",
            "k: 14\n",
            "k: 15\n",
            "k: 16\n",
            "k: 17\n",
            "k: 18\n",
            "k: 19\n",
            "k: 20\n",
            "k: 21\n",
            "k: 22\n",
            "k: 23\n"
          ],
          "name": "stdout"
        },
        {
          "output_type": "stream",
          "text": [
            "/usr/local/lib/python3.6/dist-packages/sklearn/cluster/k_means_.py:972: ConvergenceWarning:\n",
            "\n",
            "Number of distinct clusters (20) found smaller than n_clusters (21). Possibly due to duplicate points in X.\n",
            "\n",
            "/usr/local/lib/python3.6/dist-packages/sklearn/cluster/k_means_.py:972: ConvergenceWarning:\n",
            "\n",
            "Number of distinct clusters (21) found smaller than n_clusters (22). Possibly due to duplicate points in X.\n",
            "\n"
          ],
          "name": "stderr"
        },
        {
          "output_type": "stream",
          "text": [
            "k: 24\n",
            "k: 25\n",
            "k: 26\n",
            "k: 27\n",
            "k: 28\n",
            "k: 29\n",
            "k: 30\n",
            "k: 31\n",
            "k: 32\n",
            "k: 33\n",
            "k: 34\n"
          ],
          "name": "stdout"
        }
      ]
    },
    {
      "cell_type": "code",
      "metadata": {
        "id": "WrwIc1h6BlA_",
        "colab_type": "code",
        "colab": {
          "base_uri": "https://localhost:8080/",
          "height": 279
        },
        "outputId": "87e17668-1e9a-432c-f8d1-98b9d9ade771"
      },
      "source": [
        "import matplotlib.pyplot as plt\n",
        "\n",
        "plt.plot(k_range, distortions, marker='o')\n",
        "plt.xlabel('K')\n",
        "plt.ylabel('Distortion')\n",
        "plt.show()"
      ],
      "execution_count": 31,
      "outputs": [
        {
          "output_type": "display_data",
          "data": {
            "image/png": "[encoded data removed]",
            "text/plain": [
              "<Figure size 432x288 with 1 Axes>"
            ]
          },
          "metadata": {
            "tags": []
          }
        }
      ]
    },
    {
      "cell_type": "code",
      "metadata": {
        "id": "d5gxZJ0yBrMJ",
        "colab_type": "code",
        "colab": {
          "base_uri": "https://localhost:8080/",
          "height": 279
        },
        "outputId": "8630391f-72bd-456c-f4dd-e12f6ed4742e"
      },
      "source": [
        "plt.plot(k_range, silhouettes , marker='o')\n",
        "plt.xlabel('K')\n",
        "plt.ylabel('Silhouette')\n",
        "plt.show()"
      ],
      "execution_count": 32,
      "outputs": [
        {
          "output_type": "display_data",
          "data": {
            "image/png": "[encoded data removed]",
            "text/plain": [
              "<Figure size 432x288 with 1 Axes>"
            ]
          },
          "metadata": {
            "tags": []
          }
        }
      ]
    },
    {
      "cell_type": "code",
      "metadata": {
        "id": "E6jQI9WTB9o_",
        "colab_type": "code",
        "colab": {
          "base_uri": "https://localhost:8080/",
          "height": 51
        },
        "outputId": "f30ebd08-61fb-45e9-e993-2ecd5f0e647d"
      },
      "source": [
        "k = 10\n",
        "\n",
        "km = KMeans(k, init, n_init = iterations,\n",
        "            max_iter= max_iter, tol = tol, random_state = random_state)\n",
        "\n",
        "y_km = km.fit_predict(X_pca)\n",
        "\n",
        "print(\"Silhouette Coefficient: {:0.3f}\".format(metrics.silhouette_score(X_pca, y_km)))\n",
        "print('Distortion: {:.2f}'.format(km.inertia_))"
      ],
      "execution_count": 33,
      "outputs": [
        {
          "output_type": "stream",
          "text": [
            "Silhouette Coefficient: 0.470\n",
            "Distortion: 1.67\n"
          ],
          "name": "stdout"
        }
      ]
    },
    {
      "cell_type": "code",
      "metadata": {
        "id": "FZFY61PvCL35",
        "colab_type": "code",
        "colab": {}
      },
      "source": [
        "df['group'] = km.labels_"
      ],
      "execution_count": 0,
      "outputs": []
    },
    {
      "cell_type": "code",
      "metadata": {
        "id": "2CKjazslCU7L",
        "colab_type": "code",
        "colab": {
          "base_uri": "https://localhost:8080/",
          "height": 617
        },
        "outputId": "62f8aa15-20c4-4086-c3f0-59b353f3901d"
      },
      "source": [
        "import plotly.express as px\n",
        "\n",
        "scatter = pd.DataFrame(data=X_pca, index=list(range(0, len(df))), columns=['PCA0', 'PCA1', 'PCA2'])\n",
        "scatter['group'] = km.labels_\n",
        "\n",
        "fig = px.scatter_3d(scatter, x='PCA0', y='PCA1', z='PCA2', color='group')\n",
        "fig.show()"
      ],
      "execution_count": 35,
      "outputs": [
        {
          "output_type": "display_data",
          "data": {
            "text/html": [
              "<html>\n",
              "<head><meta charset=\"utf-8\" /></head>\n",
              "<body>\n",
              "    <div>\n",
              "            <script src=\"https://cdnjs.cloudflare.com/ajax/libs/mathjax/2.7.5/MathJax.js?config=TeX-AMS-MML_SVG\"></script><script type=\"text/javascript\">if (window.MathJax) {MathJax.Hub.Config({SVG: {font: \"STIX-Web\"}});}</script>\n",
              "                <script type=\"text/javascript\">window.PlotlyConfig = {MathJaxConfig: 'local'};</script>\n",
              "        <script src=\"https://cdn.plot.ly/plotly-latest.min.js\"></script>    \n",
              "            <div id=\"024a9ea4-9432-4061-acab-6516679dc7f0\" class=\"plotly-graph-div\" style=\"height:600px; width:100%;\"></div>\n",
              "            <script type=\"text/javascript\">\n",
              "                \n",
              "                    window.PLOTLYENV=window.PLOTLYENV || {};\n",
              "                    \n",
              "                if (document.getElementById(\"024a9ea4-9432-4061-acab-6516679dc7f0\")) {\n",
              "                    Plotly.newPlot(\n",
              "                        '024a9ea4-9432-4061-acab-6516679dc7f0',\n",
              "                        [{\"hoverlabel\": {\"namelength\": 0}, \"hovertemplate\": \"PCA0=%{x}<br>PCA1=%{y}<br>PCA2=%{z}<br>group=%{marker.color}\", \"legendgroup\": \"\", \"marker\": {\"color\": [7, 0, 9, 8, 8, 7, 9, 4, 7, 0, 0, 0, 0, 0, 3, 3, 3, 7, 7, 6, 4, 7, 0, 0, 3, 0, 0, 4, 2, 2, 0, 0, 4, 0, 3, 0, 3, 6, 4, 6, 0, 4, 4, 3, 4, 7, 0, 7, 6, 0, 1, 3, 9, 6, 0, 0, 0, 4, 7, 4, 6, 4, 0, 4, 0, 3, 4, 3, 2, 2, 6, 7, 3, 0, 0, 0, 7, 3, 3, 4, 0, 3, 3, 0, 0, 0, 4, 7, 1, 3, 1, 5, 7, 3, 4, 3, 0, 7, 3, 7, 0, 3, 7, 3, 3, 0, 7, 4, 3, 7, 3, 0, 7, 6, 0, 6, 0, 2, 3, 0, 5, 8, 0, 0, 7, 6, 3, 7, 0, 7, 2, 0, 3, 3, 7, 0, 0, 3, 7, 0, 4, 0, 7, 7, 3, 4, 4, 2, 4, 4, 7, 1, 1, 3, 0, 1, 0, 4, 3, 4, 3, 4, 0, 7, 0], \"coloraxis\": \"coloraxis\", \"symbol\": \"circle\"}, \"mode\": \"markers\", \"name\": \"\", \"scene\": \"scene\", \"showlegend\": false, \"type\": \"scatter3d\", \"x\": [-0.08830306973954184, -0.15415022856649727, -0.03273912666362139, 0.565415435245506, 0.49703665592660556, -0.0877727155588677, -0.0610889360633201, 0.2117325313587378, -0.09179074178052969, -0.12377195818421917, -0.11190128198896566, -0.10286520242630386, -0.1693332294117944, -0.19933506379493904, 0.18638236715224987, 0.14753474933412253, 0.18302059641971916, -0.18297087557121783, -0.13357641511657256, -0.5875869841158411, 0.1168184689502722, -0.03327135522877616, -0.20044283725708373, -0.2498806326045594, 0.22669490319762103, -0.20660209367101368, -0.15831623811876355, 0.14387756365956592, 0.4384099289720651, 0.7844828386696513, -0.15523841470665345, -0.19393647232861558, 0.15399550096595205, -0.22703827874039886, 0.18551593065462646, -0.22166102631062395, 0.19574955555551943, -0.4761869227556011, 0.2540341301218566, -0.5266140502845469, -0.19136876723312546, 0.07953386719637495, 0.1913657585998657, 0.23414529839104464, 0.08786607286455311, -0.1773402762220558, -0.10315257290874516, -0.12032487064425794, -0.5099650869953155, -0.2331729562520313, 0.3321709845114801, 0.14187980008342543, 0.1269991351430206, -0.5746520503283395, -0.21483319231005085, -0.14186112499347744, -0.14473534396143448, 0.2108121155569285, -0.058424093086539494, 0.1619779700127987, -0.5333977186371642, 0.1687816148562924, -0.11089945277298195, 0.17266917231703285, -0.15136082970998035, 0.20156833845780084, 0.11953271888432561, 0.24883422306512507, 0.20345271374547902, 0.4917984083758417, -0.5247438756472745, -0.16499500951122292, 0.1468045052297647, -0.20890848441016982, -0.14447616186028783, -0.262104538772935, -0.16902433894608707, 0.20947424545056775, 0.2154341721209928, 0.1606299002177408, -0.20999757092793453, 0.25421873636171355, 0.2524111419774254, -0.14443405862148054, -0.20085309286212583, -0.14369929424507344, 0.13589666428437208, -0.09292689585935056, 0.2960274548275598, 0.24581645558481222, 0.33934381718693046, -0.8117345089816498, -0.07688007863331182, 0.22516942560278205, 0.17375732115969217, 0.27980200719983805, -0.2418676709960761, -0.08156925898168806, 0.23328041266730618, -0.09216953687873454, -0.14410338814505474, 0.1254586190228947, -0.05230558887920299, 0.18849077143121146, 0.2389617941130838, -0.1610593375707211, -0.09119243341111699, 0.18140813729742167, 0.24885195537159271, -0.029028907164871068, 0.29553576153220545, -0.1700063879611658, -0.124067531096412, -0.4889157286441882, -0.09753850160446864, -0.4322110789682567, -0.14415379747187526, 0.19905960680531593, 0.20910293358983742, -0.12275946209157744, -0.8476790787741739, 0.9060826107812231, -0.1502415876903536, -0.15265735081600715, -0.08620399086189443, -0.5332509873153707, 0.2010271544342248, -0.08275490048410745, -0.10011628483942733, -0.1376890904123253, 0.3889613889925752, -0.128261070136567, 0.23647279433924484, 0.2842240777109819, -0.22671690504395367, -0.2101033383209714, -0.09792999967067868, 0.21830007439016924, -0.04176697461744736, -0.15163757216201235, 0.18948651054154114, -0.21360595823806508, -0.1258645283548433, -0.17338949028026987, 0.2505956504571672, 0.16150031796558342, 0.1705402191128546, 0.10820097263657992, 0.1740189947595916, 0.2666579775221488, -0.1260632976652459, 0.3046329890470937, 0.2462070375270511, 0.2470815303130629, -0.14482352507463858, 0.25454951109040225, -0.06933222315565042, 0.2680617189861975, 0.07252544950577297, 0.12564105550867682, 0.2050789074496388, 0.17357200615689575, -0.11271445285659838, -0.0909420427628357, -0.09911048078708097], \"y\": [-0.009789888070501806, -0.01757454848686214, -0.035760143621722376, -0.143356037948147, -0.15965217763512465, -0.10630463326375497, -0.020154172396935188, -0.09607177554452462, -0.010220116812019309, 0.004966950068945763, -0.009424315785884846, -0.016225345620595116, -0.029728290811575773, -0.017043403467550462, -0.09466395229275038, -0.10007394642368511, -0.07545952108843085, -0.0005579208199169743, -0.03367707453874709, 0.06613830454913455, -0.08243831541451999, -0.028406543521893195, 0.019672461650651663, 0.017839187735679128, -0.08615354182540044, 0.0030914727234071806, -0.02547457746605368, -0.07235820214282958, 0.8788036070319767, 0.789598506765789, -0.012161805427435671, -0.001500038863543216, -0.0696794718888438, 0.007111493895719961, -0.08594290430437695, 0.014046671209145791, -0.10117661283322428, 0.06336864259188242, -0.06397080166693578, 0.07261618886112475, -0.009939563145894767, -0.08868611719921095, -0.10162853702513475, -0.08980365111841267, -0.055231944644214326, -0.018337640666511414, -0.013954002743572893, -0.010887887996497416, 0.10033992416152493, -0.01250997410063828, -0.12087840228579184, -0.08485921705492593, -0.07096281674530393, 0.08513945499384211, 0.0027626535272083927, -0.009423758873347734, 0.0008349618848122502, -0.09536141105337886, -0.023788916288848303, -0.07389915323383801, 0.09967385866200777, -0.08553693662942449, -0.006244815870881218, -0.08676803364354324, -0.014578278032425937, -0.104102755163735, -0.08495252789151071, -0.10589843012579493, 0.9392229098831004, 0.8706231488698655, 0.08658075718368084, -0.0047099300713959475, -0.08820536375767667, 0.019722158869807174, -0.010852789449568714, 0.014347844340130835, 0.008662903580394333, -0.08204685709390924, -0.10123521937060369, -0.07071509910237489, -0.0026799351952651275, -0.08961307199581463, -0.10753841757734287, -0.011107929800328587, 0.021269893153582305, -0.00276301066392169, -0.08822365929959332, -0.029230260975280763, -0.10659053187084906, -0.09929922751599582, -0.12058276829908159, 0.13638570959148963, -0.030299321735722615, -0.11031736461229844, -0.0849595905800259, -0.11208087341253146, 0.02478424688997369, -0.013805105317193521, -0.06895383349122162, -0.012291731627935443, -0.009995911631597812, -0.09203046958996615, -0.02237679347469592, -0.09787526737042247, -0.0929947666678655, -0.011125819071852516, -0.028394165664973943, -0.08787520604542803, -0.08922622390088329, -0.022434510653695172, -0.09403583610226053, 0.005881232668757122, -0.0387164309437111, 0.08687272901401943, -0.012854117662802606, 0.0631029880216584, -0.0068474654457790175, 0.9323610243792977, -0.11362500770507773, 0.0040569192889850616, 0.13562666719627622, -0.30057233510853654, -0.019795808912303876, 0.00039154705350152977, -0.012811809794067505, 0.08526429670684367, -0.09688190524782984, -0.012806994237657916, -0.020623598123994023, 0.002900530471140575, 0.9087158505676934, -0.005682818588615521, -0.09472114841432132, -0.12145139952790895, -0.02055943140520262, -0.0021185888922574153, -0.01914128428929748, -0.09882658556308697, -0.035828236239972014, 0.002329469406806271, -0.0811986372677045, 0.0058124278915373815, -0.01967798238383751, 0.0026004460423305472, -0.10556041968534442, -0.07218008624392737, -0.08061225000149774, 0.9729844134299745, -0.08382941122160287, -0.0994627248534994, -0.017977055187582188, -0.1392584475313164, -0.12805427573061626, -0.09908958792139283, -0.002022257464416508, -0.11195002877797196, -0.012340298439807662, -0.08427493534064642, -0.026491594660972798, -0.07340760674645083, -0.11118030506377233, -0.08356505637161189, 0.00020397932014004917, -0.00520774562804645, -0.01580104700321028], \"z\": [0.03703038292579996, -0.045317022046927787, 0.3630483473249159, -0.3074607462097765, -0.18756782690456641, 0.0879672060333691, 0.4908452502640364, -0.1516900468636169, 0.2848720468849675, -0.13007176243237792, -0.0622308939013837, -0.020532679898982272, -0.10326019459742415, -0.044252017958120886, -0.01766514927182102, 0.014115632088140111, -0.065905657310688, 0.0516822852269938, 0.05534367979951421, -0.05027816507191467, -0.1466878340183713, 0.0852833036294271, -0.05067923578167322, -0.06543905117252287, -0.08021122578905936, -0.07662109688503521, -0.058372214199060676, -0.2605292104684772, 0.08474432762164953, -0.10513546465035056, -0.053787979100601346, -0.04152899076568198, -0.20688978240658454, -0.17901878017569012, -0.0456527356504034, -0.16145269564050455, -0.0025294667038271335, 0.024535473889246023, -0.16720406209943095, 0.021841991902291743, -0.0023028676538432934, -0.09292396048366328, -0.22390811140516242, -0.052200529472592384, -0.31097452273354353, 0.08297684201633349, -0.03055303345482595, 0.11790268108160627, 0.09900996527279443, 0.02518275189514491, 0.5172906283637347, -0.049333237131653836, 0.725666368522308, -0.0015422186737970686, -0.1316779720426384, -5.7925228289856066e-05, -0.008620167328821182, -0.15676198284053655, 0.21189106699606658, -0.16910527267487466, -0.038806762430181274, -0.13314730408598863, -0.08896926908464305, -0.12057323829449057, -0.029988006232553547, 0.030712882309710563, -0.14738924577707424, 0.016887675949021047, 0.13756529343952126, 0.11134457109979477, 0.010992562565059342, 0.12893504963959498, -0.017683349550888215, -0.09789615368265012, -0.014706404951727097, -0.1156171458138576, 0.10811902291983452, 0.08292188409721192, 0.1487480592265498, -0.17924712161670392, -0.09807862947995105, 0.06688276744373156, 0.05751014557239625, -0.014067817915248582, -0.05701846399527546, -0.015814790252693948, -0.06500417024899964, 0.26779822297594197, 0.555712274929484, 0.009592466033569476, 0.5044429904173018, -0.003976909852621126, 0.09608065423137567, -0.07970287053195954, -0.11439294820465416, 0.17512129366056606, -0.04131794668560408, 0.06956294454292994, -0.046255672261675394, 0.01897632072564937, -0.01209222232220777, 0.11010818718519588, 0.2404553118348588, -0.04068165330621518, -0.026450094119017154, -0.0806590110806028, 0.034485213566795805, -0.09093564334376569, 0.01834529763066513, 0.10929813339162833, 0.019835087233753178, -0.13839774000531552, 0.10606810149141031, -0.036465421282936, -0.003976482782924533, 0.017008950699461456, -0.0002485478064096781, 0.10655710437006703, 0.10813849422500846, -0.13839926877064604, 0.1260845333624595, -0.04768921352671043, -0.03086892498577145, -0.05220585371166635, 0.050479810352251915, -0.018111461364164652, 0.011029145586881593, 0.0629202460082978, -0.017399616754472533, 0.03365090212345807, -0.18510470034442947, -0.16292369600821585, -0.007788456632415116, -0.02127099240615349, 0.060568198565814364, -0.1046619799494816, -0.00782234917163233, 0.09641230463280387, 0.044320723780870146, -0.03844357474057913, -0.27208198201550565, -0.11358436680651475, 0.09374057666311963, 0.08966839148442653, 0.05436313723409527, -0.18161601602313188, -0.12895939287545446, -0.10416528875343327, -0.12304410405239811, -0.3556155645568563, 0.07623615355838717, 0.2896749598549858, 0.25066464384844, 0.049648552018475824, -0.015575618691361844, 0.3208230168412617, -0.0949675071143382, -0.1180269843021425, 0.0886456828153618, -0.1192527070622079, 0.08549549928154296, -0.12802584799009184, -0.09020629692331587, 0.021888645456111126, -0.010445726984428798]}],\n",
              "                        {\"coloraxis\": {\"colorbar\": {\"title\": {\"text\": \"group\"}}, \"colorscale\": [[0.0, \"#0d0887\"], [0.1111111111111111, \"#46039f\"], [0.2222222222222222, \"#7201a8\"], [0.3333333333333333, \"#9c179e\"], [0.4444444444444444, \"#bd3786\"], [0.5555555555555556, \"#d8576b\"], [0.6666666666666666, \"#ed7953\"], [0.7777777777777778, \"#fb9f3a\"], [0.8888888888888888, \"#fdca26\"], [1.0, \"#f0f921\"]]}, \"height\": 600, \"legend\": {\"tracegroupgap\": 0}, \"margin\": {\"t\": 60}, \"scene\": {\"domain\": {\"x\": [0.0, 0.98], \"y\": [0.0, 1.0]}, \"xaxis\": {\"title\": {\"text\": \"PCA0\"}}, \"yaxis\": {\"title\": {\"text\": \"PCA1\"}}, \"zaxis\": {\"title\": {\"text\": \"PCA2\"}}}, \"template\": {\"data\": {\"bar\": [{\"error_x\": {\"color\": \"#2a3f5f\"}, \"error_y\": {\"color\": \"#2a3f5f\"}, \"marker\": {\"line\": {\"color\": \"#E5ECF6\", \"width\": 0.5}}, \"type\": \"bar\"}], \"barpolar\": [{\"marker\": {\"line\": {\"color\": \"#E5ECF6\", \"width\": 0.5}}, \"type\": \"barpolar\"}], \"carpet\": [{\"aaxis\": {\"endlinecolor\": \"#2a3f5f\", \"gridcolor\": \"white\", \"linecolor\": \"white\", \"minorgridcolor\": \"white\", \"startlinecolor\": \"#2a3f5f\"}, \"baxis\": {\"endlinecolor\": \"#2a3f5f\", \"gridcolor\": \"white\", \"linecolor\": \"white\", \"minorgridcolor\": \"white\", \"startlinecolor\": \"#2a3f5f\"}, \"type\": \"carpet\"}], \"choropleth\": [{\"colorbar\": {\"outlinewidth\": 0, \"ticks\": \"\"}, \"type\": \"choropleth\"}], \"contour\": [{\"colorbar\": {\"outlinewidth\": 0, \"ticks\": \"\"}, \"colorscale\": [[0.0, \"#0d0887\"], [0.1111111111111111, \"#46039f\"], [0.2222222222222222, \"#7201a8\"], [0.3333333333333333, \"#9c179e\"], [0.4444444444444444, \"#bd3786\"], [0.5555555555555556, \"#d8576b\"], [0.6666666666666666, \"#ed7953\"], [0.7777777777777778, \"#fb9f3a\"], [0.8888888888888888, \"#fdca26\"], [1.0, \"#f0f921\"]], \"type\": \"contour\"}], \"contourcarpet\": [{\"colorbar\": {\"outlinewidth\": 0, \"ticks\": \"\"}, \"type\": \"contourcarpet\"}], \"heatmap\": [{\"colorbar\": {\"outlinewidth\": 0, \"ticks\": \"\"}, \"colorscale\": [[0.0, \"#0d0887\"], [0.1111111111111111, \"#46039f\"], [0.2222222222222222, \"#7201a8\"], [0.3333333333333333, \"#9c179e\"], [0.4444444444444444, \"#bd3786\"], [0.5555555555555556, \"#d8576b\"], [0.6666666666666666, \"#ed7953\"], [0.7777777777777778, \"#fb9f3a\"], [0.8888888888888888, \"#fdca26\"], [1.0, \"#f0f921\"]], \"type\": \"heatmap\"}], \"heatmapgl\": [{\"colorbar\": {\"outlinewidth\": 0, \"ticks\": \"\"}, \"colorscale\": [[0.0, \"#0d0887\"], [0.1111111111111111, \"#46039f\"], [0.2222222222222222, \"#7201a8\"], [0.3333333333333333, \"#9c179e\"], [0.4444444444444444, \"#bd3786\"], [0.5555555555555556, \"#d8576b\"], [0.6666666666666666, \"#ed7953\"], [0.7777777777777778, \"#fb9f3a\"], [0.8888888888888888, \"#fdca26\"], [1.0, \"#f0f921\"]], \"type\": \"heatmapgl\"}], \"histogram\": [{\"marker\": {\"colorbar\": {\"outlinewidth\": 0, \"ticks\": \"\"}}, \"type\": \"histogram\"}], \"histogram2d\": [{\"colorbar\": {\"outlinewidth\": 0, \"ticks\": \"\"}, \"colorscale\": [[0.0, \"#0d0887\"], [0.1111111111111111, \"#46039f\"], [0.2222222222222222, \"#7201a8\"], [0.3333333333333333, \"#9c179e\"], [0.4444444444444444, \"#bd3786\"], [0.5555555555555556, \"#d8576b\"], [0.6666666666666666, \"#ed7953\"], [0.7777777777777778, \"#fb9f3a\"], [0.8888888888888888, \"#fdca26\"], [1.0, \"#f0f921\"]], \"type\": \"histogram2d\"}], \"histogram2dcontour\": [{\"colorbar\": {\"outlinewidth\": 0, \"ticks\": \"\"}, \"colorscale\": [[0.0, \"#0d0887\"], [0.1111111111111111, \"#46039f\"], [0.2222222222222222, \"#7201a8\"], [0.3333333333333333, \"#9c179e\"], [0.4444444444444444, \"#bd3786\"], [0.5555555555555556, \"#d8576b\"], [0.6666666666666666, \"#ed7953\"], [0.7777777777777778, \"#fb9f3a\"], [0.8888888888888888, \"#fdca26\"], [1.0, \"#f0f921\"]], \"type\": \"histogram2dcontour\"}], \"mesh3d\": [{\"colorbar\": {\"outlinewidth\": 0, \"ticks\": \"\"}, \"type\": \"mesh3d\"}], \"parcoords\": [{\"line\": {\"colorbar\": {\"outlinewidth\": 0, \"ticks\": \"\"}}, \"type\": \"parcoords\"}], \"scatter\": [{\"marker\": {\"colorbar\": {\"outlinewidth\": 0, \"ticks\": \"\"}}, \"type\": \"scatter\"}], \"scatter3d\": [{\"line\": {\"colorbar\": {\"outlinewidth\": 0, \"ticks\": \"\"}}, \"marker\": {\"colorbar\": {\"outlinewidth\": 0, \"ticks\": \"\"}}, \"type\": \"scatter3d\"}], \"scattercarpet\": [{\"marker\": {\"colorbar\": {\"outlinewidth\": 0, \"ticks\": \"\"}}, \"type\": \"scattercarpet\"}], \"scattergeo\": [{\"marker\": {\"colorbar\": {\"outlinewidth\": 0, \"ticks\": \"\"}}, \"type\": \"scattergeo\"}], \"scattergl\": [{\"marker\": {\"colorbar\": {\"outlinewidth\": 0, \"ticks\": \"\"}}, \"type\": \"scattergl\"}], \"scattermapbox\": [{\"marker\": {\"colorbar\": {\"outlinewidth\": 0, \"ticks\": \"\"}}, \"type\": \"scattermapbox\"}], \"scatterpolar\": [{\"marker\": {\"colorbar\": {\"outlinewidth\": 0, \"ticks\": \"\"}}, \"type\": \"scatterpolar\"}], \"scatterpolargl\": [{\"marker\": {\"colorbar\": {\"outlinewidth\": 0, \"ticks\": \"\"}}, \"type\": \"scatterpolargl\"}], \"scatterternary\": [{\"marker\": {\"colorbar\": {\"outlinewidth\": 0, \"ticks\": \"\"}}, \"type\": \"scatterternary\"}], \"surface\": [{\"colorbar\": {\"outlinewidth\": 0, \"ticks\": \"\"}, \"colorscale\": [[0.0, \"#0d0887\"], [0.1111111111111111, \"#46039f\"], [0.2222222222222222, \"#7201a8\"], [0.3333333333333333, \"#9c179e\"], [0.4444444444444444, \"#bd3786\"], [0.5555555555555556, \"#d8576b\"], [0.6666666666666666, \"#ed7953\"], [0.7777777777777778, \"#fb9f3a\"], [0.8888888888888888, \"#fdca26\"], [1.0, \"#f0f921\"]], \"type\": \"surface\"}], \"table\": [{\"cells\": {\"fill\": {\"color\": \"#EBF0F8\"}, \"line\": {\"color\": \"white\"}}, \"header\": {\"fill\": {\"color\": \"#C8D4E3\"}, \"line\": {\"color\": \"white\"}}, \"type\": \"table\"}]}, \"layout\": {\"annotationdefaults\": {\"arrowcolor\": \"#2a3f5f\", \"arrowhead\": 0, \"arrowwidth\": 1}, \"colorscale\": {\"diverging\": [[0, \"#8e0152\"], [0.1, \"#c51b7d\"], [0.2, \"#de77ae\"], [0.3, \"#f1b6da\"], [0.4, \"#fde0ef\"], [0.5, \"#f7f7f7\"], [0.6, \"#e6f5d0\"], [0.7, \"#b8e186\"], [0.8, \"#7fbc41\"], [0.9, \"#4d9221\"], [1, \"#276419\"]], \"sequential\": [[0.0, \"#0d0887\"], [0.1111111111111111, \"#46039f\"], [0.2222222222222222, \"#7201a8\"], [0.3333333333333333, \"#9c179e\"], [0.4444444444444444, \"#bd3786\"], [0.5555555555555556, \"#d8576b\"], [0.6666666666666666, \"#ed7953\"], [0.7777777777777778, \"#fb9f3a\"], [0.8888888888888888, \"#fdca26\"], [1.0, \"#f0f921\"]], \"sequentialminus\": [[0.0, \"#0d0887\"], [0.1111111111111111, \"#46039f\"], [0.2222222222222222, \"#7201a8\"], [0.3333333333333333, \"#9c179e\"], [0.4444444444444444, \"#bd3786\"], [0.5555555555555556, \"#d8576b\"], [0.6666666666666666, \"#ed7953\"], [0.7777777777777778, \"#fb9f3a\"], [0.8888888888888888, \"#fdca26\"], [1.0, \"#f0f921\"]]}, \"colorway\": [\"#636efa\", \"#EF553B\", \"#00cc96\", \"#ab63fa\", \"#FFA15A\", \"#19d3f3\", \"#FF6692\", \"#B6E880\", \"#FF97FF\", \"#FECB52\"], \"font\": {\"color\": \"#2a3f5f\"}, \"geo\": {\"bgcolor\": \"white\", \"lakecolor\": \"white\", \"landcolor\": \"#E5ECF6\", \"showlakes\": true, \"showland\": true, \"subunitcolor\": \"white\"}, \"hoverlabel\": {\"align\": \"left\"}, \"hovermode\": \"closest\", \"mapbox\": {\"style\": \"light\"}, \"paper_bgcolor\": \"white\", \"plot_bgcolor\": \"#E5ECF6\", \"polar\": {\"angularaxis\": {\"gridcolor\": \"white\", \"linecolor\": \"white\", \"ticks\": \"\"}, \"bgcolor\": \"#E5ECF6\", \"radialaxis\": {\"gridcolor\": \"white\", \"linecolor\": \"white\", \"ticks\": \"\"}}, \"scene\": {\"xaxis\": {\"backgroundcolor\": \"#E5ECF6\", \"gridcolor\": \"white\", \"gridwidth\": 2, \"linecolor\": \"white\", \"showbackground\": true, \"ticks\": \"\", \"zerolinecolor\": \"white\"}, \"yaxis\": {\"backgroundcolor\": \"#E5ECF6\", \"gridcolor\": \"white\", \"gridwidth\": 2, \"linecolor\": \"white\", \"showbackground\": true, \"ticks\": \"\", \"zerolinecolor\": \"white\"}, \"zaxis\": {\"backgroundcolor\": \"#E5ECF6\", \"gridcolor\": \"white\", \"gridwidth\": 2, \"linecolor\": \"white\", \"showbackground\": true, \"ticks\": \"\", \"zerolinecolor\": \"white\"}}, \"shapedefaults\": {\"line\": {\"color\": \"#2a3f5f\"}}, \"ternary\": {\"aaxis\": {\"gridcolor\": \"white\", \"linecolor\": \"white\", \"ticks\": \"\"}, \"baxis\": {\"gridcolor\": \"white\", \"linecolor\": \"white\", \"ticks\": \"\"}, \"bgcolor\": \"#E5ECF6\", \"caxis\": {\"gridcolor\": \"white\", \"linecolor\": \"white\", \"ticks\": \"\"}}, \"title\": {\"x\": 0.05}, \"xaxis\": {\"automargin\": true, \"gridcolor\": \"white\", \"linecolor\": \"white\", \"ticks\": \"\", \"zerolinecolor\": \"white\", \"zerolinewidth\": 2}, \"yaxis\": {\"automargin\": true, \"gridcolor\": \"white\", \"linecolor\": \"white\", \"ticks\": \"\", \"zerolinecolor\": \"white\", \"zerolinewidth\": 2}}}},\n",
              "                        {\"responsive\": true}\n",
              "                    ).then(function(){\n",
              "                            \n",
              "var gd = document.getElementById('024a9ea4-9432-4061-acab-6516679dc7f0');\n",
              "var x = new MutationObserver(function (mutations, observer) {{\n",
              "        var display = window.getComputedStyle(gd).display;\n",
              "        if (!display || display === 'none') {{\n",
              "            console.log([gd, 'removed!']);\n",
              "            Plotly.purge(gd);\n",
              "            observer.disconnect();\n",
              "        }}\n",
              "}});\n",
              "\n",
              "// Listen for the removal of the full notebook cells\n",
              "var notebookContainer = gd.closest('#notebook-container');\n",
              "if (notebookContainer) {{\n",
              "    x.observe(notebookContainer, {childList: true});\n",
              "}}\n",
              "\n",
              "// Listen for the clearing of the current output cell\n",
              "var outputEl = gd.closest('.output');\n",
              "if (outputEl) {{\n",
              "    x.observe(outputEl, {childList: true});\n",
              "}}\n",
              "\n",
              "                        })\n",
              "                };\n",
              "                \n",
              "            </script>\n",
              "        </div>\n",
              "</body>\n",
              "</html>"
            ]
          },
          "metadata": {
            "tags": []
          }
        }
      ]
    },
    {
      "cell_type": "code",
      "metadata": {
        "id": "s7tb9VxZn1gE",
        "colab_type": "code",
        "colab": {
          "base_uri": "https://localhost:8080/",
          "height": 293
        },
        "outputId": "a25dfdba-58aa-4dd9-8246-b5f30a5978a8"
      },
      "source": [
        "res = df[['maximum_elo', 'time_per_game_mean', 'group']].groupby(('group')).mean()\n",
        "res.plot(kind='bar', legend=True)"
      ],
      "execution_count": 42,
      "outputs": [
        {
          "output_type": "execute_result",
          "data": {
            "text/plain": [
              "<matplotlib.axes._subplots.AxesSubplot at 0x7fd254d3dda0>"
            ]
          },
          "metadata": {
            "tags": []
          },
          "execution_count": 42
        },
        {
          "output_type": "display_data",
          "data": {
            "image/png": "[encoded data removed]",
            "text/plain": [
              "<Figure size 432x288 with 1 Axes>"
            ]
          },
          "metadata": {
            "tags": []
          }
        }
      ]
    },
    {
      "cell_type": "code",
      "metadata": {
        "id": "pNcUk_0EqO3P",
        "colab_type": "code",
        "colab": {
          "base_uri": "https://localhost:8080/",
          "height": 293
        },
        "outputId": "8ca6d1ab-f02f-4f41-d377-828ef3479b27"
      },
      "source": [
        "res = df[['movements_mean', 'group']].groupby(('group')).mean()\n",
        "res.plot(kind='bar', legend=True)"
      ],
      "execution_count": 39,
      "outputs": [
        {
          "output_type": "execute_result",
          "data": {
            "text/plain": [
              "<matplotlib.axes._subplots.AxesSubplot at 0x7fd25b3c2908>"
            ]
          },
          "metadata": {
            "tags": []
          },
          "execution_count": 39
        },
        {
          "output_type": "display_data",
          "data": {
            "image/png": "[encoded data removed]",
            "text/plain": [
              "<Figure size 432x288 with 1 Axes>"
            ]
          },
          "metadata": {
            "tags": []
          }
        }
      ]
    },
    {
      "cell_type": "code",
      "metadata": {
        "id": "dO-rXHWfqgIg",
        "colab_type": "code",
        "colab": {
          "base_uri": "https://localhost:8080/",
          "height": 293
        },
        "outputId": "2bf5cea3-5823-42d6-d352-37b7aa095da8"
      },
      "source": [
        "res = df[['aggressiveness_mean', 'points_balance_mean', 'taken_balance_mean', 'group']].groupby(('group')).mean()\n",
        "res.plot(kind='bar', legend=True)"
      ],
      "execution_count": 40,
      "outputs": [
        {
          "output_type": "execute_result",
          "data": {
            "text/plain": [
              "<matplotlib.axes._subplots.AxesSubplot at 0x7fd25593c358>"
            ]
          },
          "metadata": {
            "tags": []
          },
          "execution_count": 40
        },
        {
          "output_type": "display_data",
          "data": {
            "image/png": "[encoded data removed]",
            "text/plain": [
              "<Figure size 432x288 with 1 Axes>"
            ]
          },
          "metadata": {
            "tags": []
          }
        }
      ]
    }
  ]
}