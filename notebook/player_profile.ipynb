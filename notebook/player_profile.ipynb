{
  "nbformat": 4,
  "nbformat_minor": 0,
  "metadata": {
    "colab": {
      "name": "player_profile.ipynb",
      "provenance": [],
      "include_colab_link": true
    },
    "kernelspec": {
      "name": "python3",
      "display_name": "Python 3"
    }
  },
  "cells": [
    {
      "cell_type": "markdown",
      "metadata": {
        "id": "view-in-github",
        "colab_type": "text"
      },
      "source": [
        "<a href=\"https://colab.research.google.com/github/manjavacas/Data-Mining/blob/master/notebook/player_profile.ipynb\" target=\"_parent\"><img src=\"https://colab.research.google.com/assets/colab-badge.svg\" alt=\"Open In Colab\"/></a>"
      ]
    },
    {
      "cell_type": "markdown",
      "metadata": {
        "id": "B25XMBGMTeD5",
        "colab_type": "text"
      },
      "source": [
        "# **Análisis de perfiles de juego en partidas de ajedrez**\n",
        "\n",
        "  *Minería de Datos. Curso 2019/2020.*\n",
        "\n",
        "\n",
        "*   Alberto Velasco Mata\n",
        "*   Diego Pedregal Hidalgo\n",
        "*   Rubén Márquez Villalta\n",
        "*   Antonio Manjavacas"
      ]
    },
    {
      "cell_type": "markdown",
      "metadata": {
        "id": "lMXiSyRqTnzO",
        "colab_type": "text"
      },
      "source": [
        "## 1. Preproceso"
      ]
    },
    {
      "cell_type": "code",
      "metadata": {
        "id": "8qWbm8sl90vy",
        "colab_type": "code",
        "colab": {}
      },
      "source": [
        "import os\n",
        "import pandas as pd\n",
        "\n",
        "DATA_FILE = os.path.join('.', 'player_data.csv')\n",
        "\n",
        "df = pd.read_csv(DATA_FILE, index_col=0)\n",
        "\n",
        "FEATURES = [\n",
        "    'user_id',\n",
        "    'aggressiveness_mean',\n",
        "    'most_common_opening',\n",
        "    'maximum_elo',\n",
        "    'winning_colour',\n",
        "    'time_per_game_mean',\n",
        "    'movements_mean',\n",
        "    'points_balance_mean',\n",
        "    'taken_balance_mean'\n",
        "]"
      ],
      "execution_count": 0,
      "outputs": []
    },
    {
      "cell_type": "code",
      "metadata": {
        "id": "0HJzdqUl-h5O",
        "colab_type": "code",
        "outputId": "b3ac2d54-46a4-47be-a133-4572dd4309f2",
        "colab": {
          "base_uri": "https://localhost:8080/",
          "height": 187
        }
      },
      "source": [
        "df.dtypes"
      ],
      "execution_count": 2,
      "outputs": [
        {
          "output_type": "execute_result",
          "data": {
            "text/plain": [
              "user_id                 object\n",
              "aggressiveness_mean    float64\n",
              "most_common_opening     object\n",
              "maximum_elo              int64\n",
              "winning_colour          object\n",
              "time_per_game_mean     float64\n",
              "movements_mean         float64\n",
              "points_balance_mean    float64\n",
              "taken_balance_mean     float64\n",
              "dtype: object"
            ]
          },
          "metadata": {
            "tags": []
          },
          "execution_count": 2
        }
      ]
    },
    {
      "cell_type": "markdown",
      "metadata": {
        "id": "m6e3i1DITy2j",
        "colab_type": "text"
      },
      "source": [
        "## 1.1 Codificación de las variables \"most_common_opening\" y \"winning_colour\""
      ]
    },
    {
      "cell_type": "code",
      "metadata": {
        "id": "OVElTHol-uoo",
        "colab_type": "code",
        "outputId": "d3f8bba8-8684-491e-e339-cf55532ff52f",
        "colab": {
          "base_uri": "https://localhost:8080/",
          "height": 221
        }
      },
      "source": [
        "df['winning_colour'] = df['winning_colour'].astype('category')\n",
        "df['winning_colour_enc'] = df['winning_colour'].cat.codes\n",
        "df['most_common_opening'] = df['most_common_opening'].astype('category')\n",
        "df['most_common_opening_enc'] = df['most_common_opening'].cat.codes\n",
        "\n",
        "df.dtypes"
      ],
      "execution_count": 3,
      "outputs": [
        {
          "output_type": "execute_result",
          "data": {
            "text/plain": [
              "user_id                      object\n",
              "aggressiveness_mean         float64\n",
              "most_common_opening        category\n",
              "maximum_elo                   int64\n",
              "winning_colour             category\n",
              "time_per_game_mean          float64\n",
              "movements_mean              float64\n",
              "points_balance_mean         float64\n",
              "taken_balance_mean          float64\n",
              "winning_colour_enc             int8\n",
              "most_common_opening_enc        int8\n",
              "dtype: object"
            ]
          },
          "metadata": {
            "tags": []
          },
          "execution_count": 3
        }
      ]
    },
    {
      "cell_type": "code",
      "metadata": {
        "id": "XP0QpqdQ_Qbo",
        "colab_type": "code",
        "outputId": "4fab68f6-4044-408a-b33f-8e4e7fbea18a",
        "colab": {
          "base_uri": "https://localhost:8080/",
          "height": 297
        }
      },
      "source": [
        "df.describe()"
      ],
      "execution_count": 4,
      "outputs": [
        {
          "output_type": "execute_result",
          "data": {
            "text/html": [
              "<div>\n",
              "<style scoped>\n",
              "    .dataframe tbody tr th:only-of-type {\n",
              "        vertical-align: middle;\n",
              "    }\n",
              "\n",
              "    .dataframe tbody tr th {\n",
              "        vertical-align: top;\n",
              "    }\n",
              "\n",
              "    .dataframe thead th {\n",
              "        text-align: right;\n",
              "    }\n",
              "</style>\n",
              "<table border=\"1\" class=\"dataframe\">\n",
              "  <thead>\n",
              "    <tr style=\"text-align: right;\">\n",
              "      <th></th>\n",
              "      <th>aggressiveness_mean</th>\n",
              "      <th>maximum_elo</th>\n",
              "      <th>time_per_game_mean</th>\n",
              "      <th>movements_mean</th>\n",
              "      <th>points_balance_mean</th>\n",
              "      <th>taken_balance_mean</th>\n",
              "      <th>winning_colour_enc</th>\n",
              "      <th>most_common_opening_enc</th>\n",
              "    </tr>\n",
              "  </thead>\n",
              "  <tbody>\n",
              "    <tr>\n",
              "      <th>count</th>\n",
              "      <td>165.000000</td>\n",
              "      <td>165.000000</td>\n",
              "      <td>165.000000</td>\n",
              "      <td>165.000000</td>\n",
              "      <td>165.000000</td>\n",
              "      <td>165.000000</td>\n",
              "      <td>165.000000</td>\n",
              "      <td>165.000000</td>\n",
              "    </tr>\n",
              "    <tr>\n",
              "      <th>mean</th>\n",
              "      <td>0.944645</td>\n",
              "      <td>2236.290909</td>\n",
              "      <td>937.826757</td>\n",
              "      <td>71.642424</td>\n",
              "      <td>1.472727</td>\n",
              "      <td>0.624242</td>\n",
              "      <td>0.957576</td>\n",
              "      <td>21.181818</td>\n",
              "    </tr>\n",
              "    <tr>\n",
              "      <th>std</th>\n",
              "      <td>0.544643</td>\n",
              "      <td>100.320585</td>\n",
              "      <td>550.667455</td>\n",
              "      <td>14.412880</td>\n",
              "      <td>1.552196</td>\n",
              "      <td>0.692746</td>\n",
              "      <td>0.202169</td>\n",
              "      <td>11.229465</td>\n",
              "    </tr>\n",
              "    <tr>\n",
              "      <th>min</th>\n",
              "      <td>0.000000</td>\n",
              "      <td>1500.000000</td>\n",
              "      <td>124.000000</td>\n",
              "      <td>32.000000</td>\n",
              "      <td>-2.000000</td>\n",
              "      <td>-2.000000</td>\n",
              "      <td>0.000000</td>\n",
              "      <td>0.000000</td>\n",
              "    </tr>\n",
              "    <tr>\n",
              "      <th>25%</th>\n",
              "      <td>0.615385</td>\n",
              "      <td>2194.000000</td>\n",
              "      <td>615.478261</td>\n",
              "      <td>63.000000</td>\n",
              "      <td>1.000000</td>\n",
              "      <td>0.000000</td>\n",
              "      <td>1.000000</td>\n",
              "      <td>9.000000</td>\n",
              "    </tr>\n",
              "    <tr>\n",
              "      <th>50%</th>\n",
              "      <td>0.878505</td>\n",
              "      <td>2234.000000</td>\n",
              "      <td>810.775510</td>\n",
              "      <td>71.000000</td>\n",
              "      <td>1.000000</td>\n",
              "      <td>1.000000</td>\n",
              "      <td>1.000000</td>\n",
              "      <td>25.000000</td>\n",
              "    </tr>\n",
              "    <tr>\n",
              "      <th>75%</th>\n",
              "      <td>1.186567</td>\n",
              "      <td>2280.000000</td>\n",
              "      <td>1105.375000</td>\n",
              "      <td>79.000000</td>\n",
              "      <td>2.000000</td>\n",
              "      <td>1.000000</td>\n",
              "      <td>1.000000</td>\n",
              "      <td>32.000000</td>\n",
              "    </tr>\n",
              "    <tr>\n",
              "      <th>max</th>\n",
              "      <td>4.500000</td>\n",
              "      <td>2549.000000</td>\n",
              "      <td>3651.142857</td>\n",
              "      <td>134.000000</td>\n",
              "      <td>10.000000</td>\n",
              "      <td>3.000000</td>\n",
              "      <td>1.000000</td>\n",
              "      <td>36.000000</td>\n",
              "    </tr>\n",
              "  </tbody>\n",
              "</table>\n",
              "</div>"
            ],
            "text/plain": [
              "       aggressiveness_mean  ...  most_common_opening_enc\n",
              "count           165.000000  ...               165.000000\n",
              "mean              0.944645  ...                21.181818\n",
              "std               0.544643  ...                11.229465\n",
              "min               0.000000  ...                 0.000000\n",
              "25%               0.615385  ...                 9.000000\n",
              "50%               0.878505  ...                25.000000\n",
              "75%               1.186567  ...                32.000000\n",
              "max               4.500000  ...                36.000000\n",
              "\n",
              "[8 rows x 8 columns]"
            ]
          },
          "metadata": {
            "tags": []
          },
          "execution_count": 4
        }
      ]
    },
    {
      "cell_type": "markdown",
      "metadata": {
        "id": "6r1U6gjQUDl3",
        "colab_type": "text"
      },
      "source": [
        "##2. PCA"
      ]
    },
    {
      "cell_type": "code",
      "metadata": {
        "id": "Yiino3Rp_cmQ",
        "colab_type": "code",
        "outputId": "6f9e8b7e-30d7-4e12-d248-e80330d5ba42",
        "colab": {
          "base_uri": "https://localhost:8080/",
          "height": 68
        }
      },
      "source": [
        "from sklearn import preprocessing as pre\n",
        "from sklearn.decomposition import PCA\n",
        "\n",
        "SELECTED_FEATURES = [\n",
        "    'aggressiveness_mean',\n",
        "    'most_common_opening_enc',\n",
        "    'maximum_elo',\n",
        "    'winning_colour_enc',\n",
        "    'time_per_game_mean',\n",
        "    'movements_mean',\n",
        "    'points_balance_mean',\n",
        "    'taken_balance_mean'\n",
        "]\n",
        "\n",
        "scaler = pre.MaxAbsScaler()\n",
        "df_scaled = scaler.fit_transform(df[SELECTED_FEATURES])\n",
        "\n",
        "N_COMPONENTS = 3\n",
        "estimator = PCA(n_components = N_COMPONENTS)\n",
        "X_pca = estimator.fit_transform(df_scaled)\n",
        "\n",
        "print(\"[ Explained variance ratio ]\")\n",
        "print(estimator.explained_variance_ratio_)\n",
        "print(sum(estimator.explained_variance_ratio_))"
      ],
      "execution_count": 5,
      "outputs": [
        {
          "output_type": "stream",
          "text": [
            "[ Explained variance ratio ]\n",
            "[0.3753651  0.25579194 0.14913035]\n",
            "0.7802873936472003\n"
          ],
          "name": "stdout"
        }
      ]
    },
    {
      "cell_type": "code",
      "metadata": {
        "id": "218M8aA3AhEs",
        "colab_type": "code",
        "outputId": "7c329b80-a0c6-4b7f-f8ba-7ac9f4e3ae05",
        "colab": {
          "base_uri": "https://localhost:8080/",
          "height": 187
        }
      },
      "source": [
        "import numpy as np\n",
        "\n",
        "print(\"[ Relation between PCA components and features ]\")\n",
        "print(pd.DataFrame(np.matrix.transpose(estimator.components_), columns=[f'PC-{i}' for i in range(N_COMPONENTS)], index=SELECTED_FEATURES))"
      ],
      "execution_count": 6,
      "outputs": [
        {
          "output_type": "stream",
          "text": [
            "[ Relation between PCA components and features ]\n",
            "                             PC-0      PC-1      PC-2\n",
            "aggressiveness_mean     -0.094462 -0.043957 -0.093792\n",
            "most_common_opening_enc -0.968057 -0.226933  0.034489\n",
            "maximum_elo              0.000002 -0.011411 -0.021827\n",
            "winning_colour_enc       0.029851 -0.234845 -0.963644\n",
            "time_per_game_mean      -0.026046  0.159882 -0.047032\n",
            "movements_mean          -0.018137  0.090450 -0.051798\n",
            "points_balance_mean      0.122322 -0.459011  0.055879\n",
            "taken_balance_mean       0.192564 -0.804271  0.230020\n"
          ],
          "name": "stdout"
        }
      ]
    },
    {
      "cell_type": "markdown",
      "metadata": {
        "id": "IzAi9zvSUJiv",
        "colab_type": "text"
      },
      "source": [
        "##3. Plot"
      ]
    },
    {
      "cell_type": "code",
      "metadata": {
        "id": "BZefiR4CA29h",
        "colab_type": "code",
        "outputId": "466e0871-e7fe-4bd4-9f57-f29365061d2e",
        "colab": {
          "base_uri": "https://localhost:8080/",
          "height": 617
        }
      },
      "source": [
        "import plotly.express as px\n",
        "\n",
        "scatter = pd.DataFrame(data=X_pca, index=list(range(0, len(df))), columns=['PCA0', 'PCA1', 'PCA2'])\n",
        "\n",
        "fig = px.scatter_3d(scatter, x='PCA0', y='PCA1', z='PCA2')\n",
        "fig.show()"
      ],
      "execution_count": 7,
      "outputs": [
        {
          "output_type": "display_data",
          "data": {
            "text/html": [
              "<html>\n",
              "<head><meta charset=\"utf-8\" /></head>\n",
              "<body>\n",
              "    <div>\n",
              "            <script src=\"https://cdnjs.cloudflare.com/ajax/libs/mathjax/2.7.5/MathJax.js?config=TeX-AMS-MML_SVG\"></script><script type=\"text/javascript\">if (window.MathJax) {MathJax.Hub.Config({SVG: {font: \"STIX-Web\"}});}</script>\n",
              "                <script type=\"text/javascript\">window.PlotlyConfig = {MathJaxConfig: 'local'};</script>\n",
              "        <script src=\"https://cdn.plot.ly/plotly-latest.min.js\"></script>    \n",
              "            <div id=\"f6d55441-b5b2-4d3e-80df-3a99a0f0c595\" class=\"plotly-graph-div\" style=\"height:600px; width:100%;\"></div>\n",
              "            <script type=\"text/javascript\">\n",
              "                \n",
              "                    window.PLOTLYENV=window.PLOTLYENV || {};\n",
              "                    \n",
              "                if (document.getElementById(\"f6d55441-b5b2-4d3e-80df-3a99a0f0c595\")) {\n",
              "                    Plotly.newPlot(\n",
              "                        'f6d55441-b5b2-4d3e-80df-3a99a0f0c595',\n",
              "                        [{\"hoverlabel\": {\"namelength\": 0}, \"hovertemplate\": \"PCA0=%{x}<br>PCA1=%{y}<br>PCA2=%{z}\", \"legendgroup\": \"\", \"marker\": {\"color\": \"#636efa\", \"symbol\": \"circle\"}, \"mode\": \"markers\", \"name\": \"\", \"scene\": \"scene\", \"showlegend\": false, \"type\": \"scatter3d\", \"x\": [-0.12819511293645727, -0.2672556033578055, -0.09277207052818262, 0.3704207098942235, 0.0812656878452508, -0.34797902963340327, 0.11308743190472839, -0.2694622480717015, 0.4722077655342127, 0.22645895083285478, -0.2690688745100177, 0.45168971262659996, -0.011565486858146831, -0.06892476976913049, -0.3388007964240006, -0.09306748550247888, 0.3509799068331584, -0.134647535945808, 0.47559046459719834, -0.17307752614410427, -0.3235322531100509, -0.287622063585464, -0.09405404807672957, 0.15638266566161532, -0.3395800818620565, 0.37656999299599364, -0.27497438891782544, 0.29354960404988456, 0.31358475558665205, -0.3474237739141845, -0.26146685132687686, 0.26971555496797645, 0.26863199262055837, -0.24345305112134832, -0.33131909037684387, 0.4394168556788415, 0.38405021328866734, 0.45692171342346194, -0.44228905325680135, 0.6864882710759853, -0.25122909734968274, -0.32200334937861824, -0.3625497296278074, -0.36799634457502417, -0.3589108436083, 0.4149087688687186, -0.27251410500147194, 0.2278634530365429, 0.0920293818642853, 0.07732833557483831, 0.06756923452653252, -0.3202856342698161, 0.10560452544839458, 0.5169217793232054, -0.24245802610223266, -0.25732133983859573, 0.42037508442345206, -0.05537824640182896, 0.34376037810196225, 0.34737977827724037, -0.2591971085011181, -0.3335663668997792, 0.5680198568536451, -0.3337604456464318, -0.07654544866491472, -0.1282567919972991, -0.32570202257290903, -0.352809600107422, -0.31503567753959144, -0.049621301425030385, 0.5651461240068467, -0.24466398593801353, 0.2948723632000467, 0.4437614394755719, -0.2586531467451447, -0.19984455151210767, 0.4929081589387163, 0.3455737939399436, 0.3268719489839348, -0.18826337533959284, -0.2478610352527071, -0.3676066722121615, -0.35493661747317173, 0.41301308053864333, 0.3903192860920571, 0.36625096200696783, -0.32621379226233777, -0.26975789784396553, -0.2053252814451558, 0.5114593932881434, 0.046912164635864555, 0.5981814449671294, 0.3379857380117312, 0.497814919802553, 0.3938532985773677, 0.3453335388563045, 0.5113942318449188, 0.08206531853506605, -0.13905644370240977, -0.08003604858682739, -0.25762548513670763, -0.07348009673735795, -0.27376990219290237, -0.3409950142815734, 0.2747997229361232, -0.2636588139923759, -0.28304566425712324, 0.2860630764690418, -0.3383751932433719, -0.2835059743740176, 0.2662721276421452, -0.08951900364298053, -0.28072546412030885, -0.17120756842324308, -0.27008269061085227, 0.47391800726843253, -0.25739272297046734, -0.32386774398696566, -0.35479426182592094, -0.12385895177065613, 0.4239312831079684, -0.5381250418019736, -0.26894574946912186, -0.25136483129723036, 0.10792678308171215, 0.5611861893656451, 0.22778331907638447, -0.025445470428672214, -0.27644271490791367, 0.3700601512957486, -0.09878843866349388, -0.26888075038809467, -0.10714084932009417, -0.4581071645640169, -0.2513807556079147, 0.47920370113798955, -0.08573207771446228, -0.09438259919284775, 0.1871122818898371, -0.1156906972780635, 0.11478776391651875, 0.5647635742992824, -0.2664890824030639, -0.23944596226279202, -0.355037753921652, -0.027705827463955203, 0.2889994995291751, 0.3321595630542159, -0.33054686375813636, -0.06048464802335727, -0.263069458939651, -0.37262705645052285, 0.3677784252289618, 0.024429856245825554, 0.36612049753733417, -0.3482442473659648, 0.4448687399240887, 0.27023634192631446, 0.374938553538018, 0.303625829764491, -0.354433765944389, -0.3299899673471849, -0.20692832379800863, -0.18185065841493778, -0.27237848830850037], \"y\": [-0.11969233001678611, -0.22268907622091244, -0.05506861319685838, 0.6684960912041139, 0.529166194950248, -0.1829692841629829, -0.03416998713204259, 0.15236627772855577, 0.018726110783662347, -0.07334286743060278, -0.17858127617281536, -0.0008194908693462567, -0.18071728230510048, -0.22264497389056773, 0.11094589776536706, 0.1279027908307505, 0.271558614449705, -0.21849434159412237, -0.028238588408847937, -0.6461584905172242, 0.04300028755246238, -0.1023475200281381, -0.2255099464639535, -0.21799782543066845, 0.15331166333604618, -0.1236698576090714, -0.2300177071613411, 0.2161073922840752, 0.531945742755165, 0.7296662445958297, -0.2216587572915842, -0.13528283052666834, 0.22129409051335946, -0.29087139252430116, 0.11282228545315838, -0.12360382151638624, 0.28977913797473825, -0.38268312436137203, 0.15898336284437908, -0.3801684116374637, -0.2560615895959364, 0.0040916790161840124, 0.1072635298132426, 0.15429610923588682, 0.0066863414016537035, -0.08589744990559546, -0.17064147030359678, -0.06919107467647424, -0.4983766589351939, -0.22248647960426784, 0.3573421042830776, 0.07070884013867901, 0.15447177874803827, -0.46814968184990813, -0.2776190945498408, -0.20593815986433536, -0.0492860067674614, 0.20143794234154372, 0.0209267507579538, 0.24792034510150618, -0.6058379748690923, 0.09423469996598197, 0.019147213505304916, 0.09826202914440299, -0.17465942251802002, 0.17565140462170792, 0.04502437695275086, 0.1717010049212747, 0.14204120727497252, 0.5013823521514235, -0.4047708401517636, -0.2256134566533114, 0.21967195791926455, -0.10842244732429186, -0.20922035927479196, -0.31538374201968866, -0.055305734634800555, 0.29759203573479803, 0.29689747442631287, 0.12123851519211318, -0.2745185833671659, 0.17577102982363443, 0.1747397700618702, -0.051805807013682335, -0.11234744220181184, -0.060975284503734996, 0.0621660112073243, -0.15875966480681689, 0.2583516917455571, 0.3716862220270015, 0.36086103470158687, -0.6884951116494469, -0.0008905198511068125, 0.34466673050411056, 0.2702142577393432, 0.36802611479914904, -0.12551340534287564, -0.06395986611071436, 0.2091190707131106, -0.11328958883989299, -0.2084353091206305, 0.11186809107515798, -0.11720921385136622, 0.11227280758688933, 0.3097157408225151, -0.22863368906141102, -0.16196650367326224, 0.252975996815554, 0.17720966328573057, -0.09626819147950276, 0.3664356709997984, -0.195446305266788, -0.19594458333559336, -0.5408843909806782, -0.16377914170204477, -0.3335033387403084, -0.20835305237708793, 0.1340312236279919, 0.12898523640766005, -0.15452720865301217, -0.7730749844761478, 0.7977214890982964, -0.21919876146139017, -0.2150980296121175, -0.0629376948889356, -0.41524581240193265, 0.25944521006515947, -0.09040696948420725, -0.16893512861197496, -0.053102757037031476, 0.38546037309600567, -0.19587329496209516, 0.21684352509526278, 0.1809985650941378, -0.2935750214359045, -0.1040601643200813, -0.12156223517071964, 0.20229661175618519, -0.0013961291276367272, -0.18201151111802794, 0.22000848083004632, -0.08697032036319526, -0.19242587438861264, -0.23251758602292597, 0.17280421030112403, 0.15966698293263012, 0.24262941226436194, 0.1970259062988051, 0.10089009289929243, 0.2548337446660861, -0.19138839881394765, 0.22325452051158293, 0.3370486346037242, 0.25851929244601574, -0.06219819358235042, 0.17960006418140523, 0.03212316330205701, 0.3388424173195206, 0.16353961737385034, 0.20059832877332873, 0.12486466606274785, 0.10061909000948709, -0.16370865490250208, -0.13502103845057226, -0.16631843806601562], \"z\": [-0.004461879309900256, -0.0045486292423231895, -0.03242028265342665, -0.16720002046079738, -0.17137637542933068, -0.08614459241741025, -0.02477120087926787, -0.08927251209026392, -0.027109492846047568, -0.0014325166385508864, 0.0023147465433225652, -0.03006149499635676, -0.024168014066096147, -0.010308391182448348, -0.08557474370518074, -0.09867430471679331, -0.09220126129860988, 0.006599043851076621, -0.0470552844623959, 0.08365009501212964, -0.07259551183184836, -0.01730697469057633, 0.024943182729397696, 0.015253918286718429, -0.07830700850316327, -0.007054906402797483, -0.011387222400868459, -0.08524771262075241, 0.8604230570810742, 0.7903072300801999, 0.00022433708560075095, -0.008309295982312314, -0.0822457273137675, 0.01996678024274327, -0.07765321383809569, 0.0015073918032899342, -0.11785053670173211, 0.05574990948337949, -0.05381818647929026, 0.05737032256149151, 0.0024802218518017506, -0.07774781451006625, -0.08977243836070156, -0.08107883101675424, -0.044509194309401985, -0.02971638859993968, -0.0021101371726109644, -0.01771482305313365, 0.10363283596610223, -0.010823841098894544, -0.12984678616826603, -0.0762932817250663, -0.07699395438694205, 0.0761255473086519, 0.01506937654004675, 0.00198670961028704, -0.012262888085472738, -0.09606785423283368, -0.035483340998373414, -0.0894103111190818, 0.11657473184698408, -0.07632635160552605, -0.024577201153807952, -0.07766570145559944, -0.008665750605440658, -0.10264218912178352, -0.07491909172902439, -0.09728746702601566, 0.9482236741371786, 0.8644250070198243, 0.07454050950394804, 0.005911540351506934, -0.10148616032198418, 0.006171127577417515, 0.0008216097931728757, 0.025450170839107125, -0.007801605685206699, -0.09920708684817076, -0.11648779890106971, -0.06726443476131473, 0.010059995593108563, -0.08175782494653462, -0.0988707694374585, -0.02331637212211677, 0.009280242260327093, -0.013908264032411173, -0.07875947626419598, -0.018278010605620603, -0.10646197219835743, -0.12170183158676944, -0.12948151516008938, 0.12606637380102834, -0.04053131207197019, -0.1303346431313399, -0.10195549686576943, -0.12945705540144428, 0.008825914480410467, -0.015819940187125434, -0.069541739465701, -0.008067419002547479, 0.0015398841249034591, -0.09218451508503603, -0.012381700580968338, -0.08851902914098984, -0.1071452192418111, 0.0017367736292051375, -0.015765514234724807, -0.10126625880134336, -0.08234284436609965, -0.011998982733722876, -0.10920166625152013, 0.011843860601594912, -0.025240091875715128, 0.10066860747217103, -0.0015115156942145365, 0.05413440008349548, 0.004628004697556295, 0.9426049411264446, -0.10353465991457915, 0.010195501758038588, 0.13633764078575653, -0.2938814070472874, -0.00670577194317434, 0.011499623647898865, -0.015495910768208864, 0.07398717883098428, -0.10858290983583012, -0.010949360987691368, -0.00842014365197559, -0.008982887787321318, 0.9054863166101841, 0.006709709337774651, -0.09479464045652893, -0.10830106238155335, -0.006913804913796945, -0.015347106111195033, -0.014019095286870568, -0.09975501225049069, -0.04054324750757545, 0.00843935681593767, -0.08786550165567311, -0.010763288487454765, -0.00782668778244484, 0.012914738833814134, -0.09682831116646418, -0.07439960337312436, -0.09398048224339894, 0.9600436124601236, -0.07513841635891937, -0.09916648502618591, -0.0064814054412577985, -0.13040836270429756, -0.14472718573528956, -0.10402897318328921, -0.01312457207795549, -0.10435317008245529, -0.026494954301494813, -0.09885776832116168, -0.0418279455398812, -0.08693252930130783, -0.10097361815828934, -0.07491579551396306, 0.009121375341839339, 0.0021227250692153997, -0.004126779471403536]}],\n",
              "                        {\"height\": 600, \"legend\": {\"tracegroupgap\": 0}, \"margin\": {\"t\": 60}, \"scene\": {\"domain\": {\"x\": [0.0, 0.98], \"y\": [0.0, 1.0]}, \"xaxis\": {\"title\": {\"text\": \"PCA0\"}}, \"yaxis\": {\"title\": {\"text\": \"PCA1\"}}, \"zaxis\": {\"title\": {\"text\": \"PCA2\"}}}, \"template\": {\"data\": {\"bar\": [{\"error_x\": {\"color\": \"#2a3f5f\"}, \"error_y\": {\"color\": \"#2a3f5f\"}, \"marker\": {\"line\": {\"color\": \"#E5ECF6\", \"width\": 0.5}}, \"type\": \"bar\"}], \"barpolar\": [{\"marker\": {\"line\": {\"color\": \"#E5ECF6\", \"width\": 0.5}}, \"type\": \"barpolar\"}], \"carpet\": [{\"aaxis\": {\"endlinecolor\": \"#2a3f5f\", \"gridcolor\": \"white\", \"linecolor\": \"white\", \"minorgridcolor\": \"white\", \"startlinecolor\": \"#2a3f5f\"}, \"baxis\": {\"endlinecolor\": \"#2a3f5f\", \"gridcolor\": \"white\", \"linecolor\": \"white\", \"minorgridcolor\": \"white\", \"startlinecolor\": \"#2a3f5f\"}, \"type\": \"carpet\"}], \"choropleth\": [{\"colorbar\": {\"outlinewidth\": 0, \"ticks\": \"\"}, \"type\": \"choropleth\"}], \"contour\": [{\"colorbar\": {\"outlinewidth\": 0, \"ticks\": \"\"}, \"colorscale\": [[0.0, \"#0d0887\"], [0.1111111111111111, \"#46039f\"], [0.2222222222222222, \"#7201a8\"], [0.3333333333333333, \"#9c179e\"], [0.4444444444444444, \"#bd3786\"], [0.5555555555555556, \"#d8576b\"], [0.6666666666666666, \"#ed7953\"], [0.7777777777777778, \"#fb9f3a\"], [0.8888888888888888, \"#fdca26\"], [1.0, \"#f0f921\"]], \"type\": \"contour\"}], \"contourcarpet\": [{\"colorbar\": {\"outlinewidth\": 0, \"ticks\": \"\"}, \"type\": \"contourcarpet\"}], \"heatmap\": [{\"colorbar\": {\"outlinewidth\": 0, \"ticks\": \"\"}, \"colorscale\": [[0.0, \"#0d0887\"], [0.1111111111111111, \"#46039f\"], [0.2222222222222222, \"#7201a8\"], [0.3333333333333333, \"#9c179e\"], [0.4444444444444444, \"#bd3786\"], [0.5555555555555556, \"#d8576b\"], [0.6666666666666666, \"#ed7953\"], [0.7777777777777778, \"#fb9f3a\"], [0.8888888888888888, \"#fdca26\"], [1.0, \"#f0f921\"]], \"type\": \"heatmap\"}], \"heatmapgl\": [{\"colorbar\": {\"outlinewidth\": 0, \"ticks\": \"\"}, \"colorscale\": [[0.0, \"#0d0887\"], [0.1111111111111111, \"#46039f\"], [0.2222222222222222, \"#7201a8\"], [0.3333333333333333, \"#9c179e\"], [0.4444444444444444, \"#bd3786\"], [0.5555555555555556, \"#d8576b\"], [0.6666666666666666, \"#ed7953\"], [0.7777777777777778, \"#fb9f3a\"], [0.8888888888888888, \"#fdca26\"], [1.0, \"#f0f921\"]], \"type\": \"heatmapgl\"}], \"histogram\": [{\"marker\": {\"colorbar\": {\"outlinewidth\": 0, \"ticks\": \"\"}}, \"type\": \"histogram\"}], \"histogram2d\": [{\"colorbar\": {\"outlinewidth\": 0, \"ticks\": \"\"}, \"colorscale\": [[0.0, \"#0d0887\"], [0.1111111111111111, \"#46039f\"], [0.2222222222222222, \"#7201a8\"], [0.3333333333333333, \"#9c179e\"], [0.4444444444444444, \"#bd3786\"], [0.5555555555555556, \"#d8576b\"], [0.6666666666666666, \"#ed7953\"], [0.7777777777777778, \"#fb9f3a\"], [0.8888888888888888, \"#fdca26\"], [1.0, \"#f0f921\"]], \"type\": \"histogram2d\"}], \"histogram2dcontour\": [{\"colorbar\": {\"outlinewidth\": 0, \"ticks\": \"\"}, \"colorscale\": [[0.0, \"#0d0887\"], [0.1111111111111111, \"#46039f\"], [0.2222222222222222, \"#7201a8\"], [0.3333333333333333, \"#9c179e\"], [0.4444444444444444, \"#bd3786\"], [0.5555555555555556, \"#d8576b\"], [0.6666666666666666, \"#ed7953\"], [0.7777777777777778, \"#fb9f3a\"], [0.8888888888888888, \"#fdca26\"], [1.0, \"#f0f921\"]], \"type\": \"histogram2dcontour\"}], \"mesh3d\": [{\"colorbar\": {\"outlinewidth\": 0, \"ticks\": \"\"}, \"type\": \"mesh3d\"}], \"parcoords\": [{\"line\": {\"colorbar\": {\"outlinewidth\": 0, \"ticks\": \"\"}}, \"type\": \"parcoords\"}], \"scatter\": [{\"marker\": {\"colorbar\": {\"outlinewidth\": 0, \"ticks\": \"\"}}, \"type\": \"scatter\"}], \"scatter3d\": [{\"line\": {\"colorbar\": {\"outlinewidth\": 0, \"ticks\": \"\"}}, \"marker\": {\"colorbar\": {\"outlinewidth\": 0, \"ticks\": \"\"}}, \"type\": \"scatter3d\"}], \"scattercarpet\": [{\"marker\": {\"colorbar\": {\"outlinewidth\": 0, \"ticks\": \"\"}}, \"type\": \"scattercarpet\"}], \"scattergeo\": [{\"marker\": {\"colorbar\": {\"outlinewidth\": 0, \"ticks\": \"\"}}, \"type\": \"scattergeo\"}], \"scattergl\": [{\"marker\": {\"colorbar\": {\"outlinewidth\": 0, \"ticks\": \"\"}}, \"type\": \"scattergl\"}], \"scattermapbox\": [{\"marker\": {\"colorbar\": {\"outlinewidth\": 0, \"ticks\": \"\"}}, \"type\": \"scattermapbox\"}], \"scatterpolar\": [{\"marker\": {\"colorbar\": {\"outlinewidth\": 0, \"ticks\": \"\"}}, \"type\": \"scatterpolar\"}], \"scatterpolargl\": [{\"marker\": {\"colorbar\": {\"outlinewidth\": 0, \"ticks\": \"\"}}, \"type\": \"scatterpolargl\"}], \"scatterternary\": [{\"marker\": {\"colorbar\": {\"outlinewidth\": 0, \"ticks\": \"\"}}, \"type\": \"scatterternary\"}], \"surface\": [{\"colorbar\": {\"outlinewidth\": 0, \"ticks\": \"\"}, \"colorscale\": [[0.0, \"#0d0887\"], [0.1111111111111111, \"#46039f\"], [0.2222222222222222, \"#7201a8\"], [0.3333333333333333, \"#9c179e\"], [0.4444444444444444, \"#bd3786\"], [0.5555555555555556, \"#d8576b\"], [0.6666666666666666, \"#ed7953\"], [0.7777777777777778, \"#fb9f3a\"], [0.8888888888888888, \"#fdca26\"], [1.0, \"#f0f921\"]], \"type\": \"surface\"}], \"table\": [{\"cells\": {\"fill\": {\"color\": \"#EBF0F8\"}, \"line\": {\"color\": \"white\"}}, \"header\": {\"fill\": {\"color\": \"#C8D4E3\"}, \"line\": {\"color\": \"white\"}}, \"type\": \"table\"}]}, \"layout\": {\"annotationdefaults\": {\"arrowcolor\": \"#2a3f5f\", \"arrowhead\": 0, \"arrowwidth\": 1}, \"colorscale\": {\"diverging\": [[0, \"#8e0152\"], [0.1, \"#c51b7d\"], [0.2, \"#de77ae\"], [0.3, \"#f1b6da\"], [0.4, \"#fde0ef\"], [0.5, \"#f7f7f7\"], [0.6, \"#e6f5d0\"], [0.7, \"#b8e186\"], [0.8, \"#7fbc41\"], [0.9, \"#4d9221\"], [1, \"#276419\"]], \"sequential\": [[0.0, \"#0d0887\"], [0.1111111111111111, \"#46039f\"], [0.2222222222222222, \"#7201a8\"], [0.3333333333333333, \"#9c179e\"], [0.4444444444444444, \"#bd3786\"], [0.5555555555555556, \"#d8576b\"], [0.6666666666666666, \"#ed7953\"], [0.7777777777777778, \"#fb9f3a\"], [0.8888888888888888, \"#fdca26\"], [1.0, \"#f0f921\"]], \"sequentialminus\": [[0.0, \"#0d0887\"], [0.1111111111111111, \"#46039f\"], [0.2222222222222222, \"#7201a8\"], [0.3333333333333333, \"#9c179e\"], [0.4444444444444444, \"#bd3786\"], [0.5555555555555556, \"#d8576b\"], [0.6666666666666666, \"#ed7953\"], [0.7777777777777778, \"#fb9f3a\"], [0.8888888888888888, \"#fdca26\"], [1.0, \"#f0f921\"]]}, \"colorway\": [\"#636efa\", \"#EF553B\", \"#00cc96\", \"#ab63fa\", \"#FFA15A\", \"#19d3f3\", \"#FF6692\", \"#B6E880\", \"#FF97FF\", \"#FECB52\"], \"font\": {\"color\": \"#2a3f5f\"}, \"geo\": {\"bgcolor\": \"white\", \"lakecolor\": \"white\", \"landcolor\": \"#E5ECF6\", \"showlakes\": true, \"showland\": true, \"subunitcolor\": \"white\"}, \"hoverlabel\": {\"align\": \"left\"}, \"hovermode\": \"closest\", \"mapbox\": {\"style\": \"light\"}, \"paper_bgcolor\": \"white\", \"plot_bgcolor\": \"#E5ECF6\", \"polar\": {\"angularaxis\": {\"gridcolor\": \"white\", \"linecolor\": \"white\", \"ticks\": \"\"}, \"bgcolor\": \"#E5ECF6\", \"radialaxis\": {\"gridcolor\": \"white\", \"linecolor\": \"white\", \"ticks\": \"\"}}, \"scene\": {\"xaxis\": {\"backgroundcolor\": \"#E5ECF6\", \"gridcolor\": \"white\", \"gridwidth\": 2, \"linecolor\": \"white\", \"showbackground\": true, \"ticks\": \"\", \"zerolinecolor\": \"white\"}, \"yaxis\": {\"backgroundcolor\": \"#E5ECF6\", \"gridcolor\": \"white\", \"gridwidth\": 2, \"linecolor\": \"white\", \"showbackground\": true, \"ticks\": \"\", \"zerolinecolor\": \"white\"}, \"zaxis\": {\"backgroundcolor\": \"#E5ECF6\", \"gridcolor\": \"white\", \"gridwidth\": 2, \"linecolor\": \"white\", \"showbackground\": true, \"ticks\": \"\", \"zerolinecolor\": \"white\"}}, \"shapedefaults\": {\"line\": {\"color\": \"#2a3f5f\"}}, \"ternary\": {\"aaxis\": {\"gridcolor\": \"white\", \"linecolor\": \"white\", \"ticks\": \"\"}, \"baxis\": {\"gridcolor\": \"white\", \"linecolor\": \"white\", \"ticks\": \"\"}, \"bgcolor\": \"#E5ECF6\", \"caxis\": {\"gridcolor\": \"white\", \"linecolor\": \"white\", \"ticks\": \"\"}}, \"title\": {\"x\": 0.05}, \"xaxis\": {\"automargin\": true, \"gridcolor\": \"white\", \"linecolor\": \"white\", \"ticks\": \"\", \"zerolinecolor\": \"white\", \"zerolinewidth\": 2}, \"yaxis\": {\"automargin\": true, \"gridcolor\": \"white\", \"linecolor\": \"white\", \"ticks\": \"\", \"zerolinecolor\": \"white\", \"zerolinewidth\": 2}}}},\n",
              "                        {\"responsive\": true}\n",
              "                    ).then(function(){\n",
              "                            \n",
              "var gd = document.getElementById('f6d55441-b5b2-4d3e-80df-3a99a0f0c595');\n",
              "var x = new MutationObserver(function (mutations, observer) {{\n",
              "        var display = window.getComputedStyle(gd).display;\n",
              "        if (!display || display === 'none') {{\n",
              "            console.log([gd, 'removed!']);\n",
              "            Plotly.purge(gd);\n",
              "            observer.disconnect();\n",
              "        }}\n",
              "}});\n",
              "\n",
              "// Listen for the removal of the full notebook cells\n",
              "var notebookContainer = gd.closest('#notebook-container');\n",
              "if (notebookContainer) {{\n",
              "    x.observe(notebookContainer, {childList: true});\n",
              "}}\n",
              "\n",
              "// Listen for the clearing of the current output cell\n",
              "var outputEl = gd.closest('.output');\n",
              "if (outputEl) {{\n",
              "    x.observe(outputEl, {childList: true});\n",
              "}}\n",
              "\n",
              "                        })\n",
              "                };\n",
              "                \n",
              "            </script>\n",
              "        </div>\n",
              "</body>\n",
              "</html>"
            ]
          },
          "metadata": {
            "tags": []
          }
        }
      ]
    },
    {
      "cell_type": "markdown",
      "metadata": {
        "id": "wlVBGvRdUPPZ",
        "colab_type": "text"
      },
      "source": [
        "##4. k-means"
      ]
    },
    {
      "cell_type": "code",
      "metadata": {
        "id": "2jQ1mVqfBN0u",
        "colab_type": "code",
        "colab": {}
      },
      "source": [
        "init = 'random'\n",
        "iterations = 10\n",
        "max_iter = 300\n",
        "tol = 1e-04\n",
        "random_state = 0"
      ],
      "execution_count": 0,
      "outputs": []
    },
    {
      "cell_type": "code",
      "metadata": {
        "id": "QlBRsY6CBTgG",
        "colab_type": "code",
        "outputId": "79ac98e2-9418-4324-cbc4-a7123bf4b559",
        "colab": {
          "base_uri": "https://localhost:8080/",
          "height": 578
        }
      },
      "source": [
        "from sklearn.cluster import KMeans\n",
        "from sklearn import metrics\n",
        "\n",
        "k_range = range(2,35)\n",
        "\n",
        "distortions = []\n",
        "silhouettes = []\n",
        "\n",
        "for k in k_range:\n",
        "    print(\"k:\", k)\n",
        "    km = KMeans(k, init, n_init = iterations ,max_iter= max_iter, tol = tol,random_state = random_state)\n",
        "    labels = km.fit_predict(X_pca)\n",
        "    distortions.append(km.inertia_)\n",
        "    silhouettes.append(metrics.silhouette_score(X_pca, labels))"
      ],
      "execution_count": 9,
      "outputs": [
        {
          "output_type": "stream",
          "text": [
            "k: 2\n",
            "k: 3\n",
            "k: 4\n",
            "k: 5\n",
            "k: 6\n",
            "k: 7\n",
            "k: 8\n",
            "k: 9\n",
            "k: 10\n",
            "k: 11\n",
            "k: 12\n",
            "k: 13\n",
            "k: 14\n",
            "k: 15\n",
            "k: 16\n",
            "k: 17\n",
            "k: 18\n",
            "k: 19\n",
            "k: 20\n",
            "k: 21\n",
            "k: 22\n",
            "k: 23\n",
            "k: 24\n",
            "k: 25\n",
            "k: 26\n",
            "k: 27\n",
            "k: 28\n",
            "k: 29\n",
            "k: 30\n",
            "k: 31\n",
            "k: 32\n",
            "k: 33\n",
            "k: 34\n"
          ],
          "name": "stdout"
        }
      ]
    },
    {
      "cell_type": "code",
      "metadata": {
        "id": "WrwIc1h6BlA_",
        "colab_type": "code",
        "outputId": "7bd6daab-4d18-4ddd-e4b4-bc0284e50c36",
        "colab": {
          "base_uri": "https://localhost:8080/",
          "height": 279
        }
      },
      "source": [
        "import matplotlib.pyplot as plt\n",
        "\n",
        "plt.plot(k_range, distortions, marker='o')\n",
        "plt.xlabel('K')\n",
        "plt.ylabel('Distortion')\n",
        "plt.show()"
      ],
      "execution_count": 10,
      "outputs": [
        {
          "output_type": "display_data",
          "data": {
            "image/png": "[encoded data removed]",
            "text/plain": [
              "<Figure size 432x288 with 1 Axes>"
            ]
          },
          "metadata": {
            "tags": []
          }
        }
      ]
    },
    {
      "cell_type": "code",
      "metadata": {
        "id": "d5gxZJ0yBrMJ",
        "colab_type": "code",
        "outputId": "8a447e2a-31db-4a2e-bc70-7cc0dc333875",
        "colab": {
          "base_uri": "https://localhost:8080/",
          "height": 279
        }
      },
      "source": [
        "plt.plot(k_range, silhouettes , marker='o')\n",
        "plt.xlabel('K')\n",
        "plt.ylabel('Silhouette')\n",
        "plt.show()"
      ],
      "execution_count": 11,
      "outputs": [
        {
          "output_type": "display_data",
          "data": {
            "image/png": "[encoded data removed]",
            "text/plain": [
              "<Figure size 432x288 with 1 Axes>"
            ]
          },
          "metadata": {
            "tags": []
          }
        }
      ]
    },
    {
      "cell_type": "code",
      "metadata": {
        "id": "E6jQI9WTB9o_",
        "colab_type": "code",
        "outputId": "e7624e96-59dc-4e21-e789-52d298d4fb88",
        "colab": {
          "base_uri": "https://localhost:8080/",
          "height": 51
        }
      },
      "source": [
        "k = 10\n",
        "\n",
        "km = KMeans(k, init, n_init = iterations,\n",
        "            max_iter= max_iter, tol = tol, random_state = random_state)\n",
        "\n",
        "y_km = km.fit_predict(X_pca)\n",
        "\n",
        "print(\"Silhouette Coefficient: {:0.3f}\".format(metrics.silhouette_score(X_pca, y_km)))\n",
        "print('Distortion: {:.2f}'.format(km.inertia_))"
      ],
      "execution_count": 12,
      "outputs": [
        {
          "output_type": "stream",
          "text": [
            "Silhouette Coefficient: 0.573\n",
            "Distortion: 2.64\n"
          ],
          "name": "stdout"
        }
      ]
    },
    {
      "cell_type": "code",
      "metadata": {
        "id": "FZFY61PvCL35",
        "colab_type": "code",
        "colab": {}
      },
      "source": [
        "df['group'] = km.labels_"
      ],
      "execution_count": 0,
      "outputs": []
    },
    {
      "cell_type": "code",
      "metadata": {
        "id": "2CKjazslCU7L",
        "colab_type": "code",
        "outputId": "39ea9781-0a7a-4dbf-ba8f-f53f004ad394",
        "colab": {
          "base_uri": "https://localhost:8080/",
          "height": 617
        }
      },
      "source": [
        "import plotly.express as px\n",
        "\n",
        "scatter = pd.DataFrame(data=X_pca, index=list(range(0, len(df))), columns=['PCA0', 'PCA1', 'PCA2'])\n",
        "scatter['group'] = km.labels_\n",
        "\n",
        "fig = px.scatter_3d(scatter, x='PCA0', y='PCA1', z='PCA2', color='group')\n",
        "fig.show()"
      ],
      "execution_count": 14,
      "outputs": [
        {
          "output_type": "display_data",
          "data": {
            "text/html": [
              "<html>\n",
              "<head><meta charset=\"utf-8\" /></head>\n",
              "<body>\n",
              "    <div>\n",
              "            <script src=\"https://cdnjs.cloudflare.com/ajax/libs/mathjax/2.7.5/MathJax.js?config=TeX-AMS-MML_SVG\"></script><script type=\"text/javascript\">if (window.MathJax) {MathJax.Hub.Config({SVG: {font: \"STIX-Web\"}});}</script>\n",
              "                <script type=\"text/javascript\">window.PlotlyConfig = {MathJaxConfig: 'local'};</script>\n",
              "        <script src=\"https://cdn.plot.ly/plotly-latest.min.js\"></script>    \n",
              "            <div id=\"4107e0aa-ca6a-4ee5-bcf0-9272150faee7\" class=\"plotly-graph-div\" style=\"height:600px; width:100%;\"></div>\n",
              "            <script type=\"text/javascript\">\n",
              "                \n",
              "                    window.PLOTLYENV=window.PLOTLYENV || {};\n",
              "                    \n",
              "                if (document.getElementById(\"4107e0aa-ca6a-4ee5-bcf0-9272150faee7\")) {\n",
              "                    Plotly.newPlot(\n",
              "                        '4107e0aa-ca6a-4ee5-bcf0-9272150faee7',\n",
              "                        [{\"hoverlabel\": {\"namelength\": 0}, \"hovertemplate\": \"PCA0=%{x}<br>PCA1=%{y}<br>PCA2=%{z}<br>group=%{marker.color}\", \"legendgroup\": \"\", \"marker\": {\"color\": [4, 7, 4, 0, 0, 7, 4, 3, 6, 6, 7, 6, 4, 4, 3, 1, 0, 4, 6, 8, 3, 7, 4, 4, 3, 6, 7, 0, 5, 5, 7, 6, 0, 7, 3, 6, 0, 9, 3, 9, 7, 3, 3, 3, 3, 6, 7, 6, 8, 4, 1, 3, 1, 9, 7, 7, 6, 1, 6, 0, 8, 3, 6, 3, 4, 1, 3, 3, 5, 5, 9, 7, 0, 6, 7, 7, 6, 0, 0, 3, 7, 3, 3, 6, 6, 6, 3, 7, 1, 0, 1, 9, 6, 0, 0, 0, 6, 4, 1, 4, 7, 1, 7, 3, 0, 7, 7, 0, 3, 7, 0, 4, 7, 8, 7, 9, 7, 5, 3, 4, 9, 2, 7, 7, 4, 9, 0, 4, 7, 6, 5, 7, 1, 3, 7, 6, 4, 1, 6, 4, 1, 6, 7, 7, 3, 1, 0, 5, 3, 1, 7, 3, 0, 1, 6, 3, 6, 0, 0, 0, 3, 3, 7, 7, 7], \"coloraxis\": \"coloraxis\", \"symbol\": \"circle\"}, \"mode\": \"markers\", \"name\": \"\", \"scene\": \"scene\", \"showlegend\": false, \"type\": \"scatter3d\", \"x\": [-0.12819511293645727, -0.2672556033578055, -0.09277207052818262, 0.3704207098942235, 0.0812656878452508, -0.34797902963340327, 0.11308743190472839, -0.2694622480717015, 0.4722077655342127, 0.22645895083285478, -0.2690688745100177, 0.45168971262659996, -0.011565486858146831, -0.06892476976913049, -0.3388007964240006, -0.09306748550247888, 0.3509799068331584, -0.134647535945808, 0.47559046459719834, -0.17307752614410427, -0.3235322531100509, -0.287622063585464, -0.09405404807672957, 0.15638266566161532, -0.3395800818620565, 0.37656999299599364, -0.27497438891782544, 0.29354960404988456, 0.31358475558665205, -0.3474237739141845, -0.26146685132687686, 0.26971555496797645, 0.26863199262055837, -0.24345305112134832, -0.33131909037684387, 0.4394168556788415, 0.38405021328866734, 0.45692171342346194, -0.44228905325680135, 0.6864882710759853, -0.25122909734968274, -0.32200334937861824, -0.3625497296278074, -0.36799634457502417, -0.3589108436083, 0.4149087688687186, -0.27251410500147194, 0.2278634530365429, 0.0920293818642853, 0.07732833557483831, 0.06756923452653252, -0.3202856342698161, 0.10560452544839458, 0.5169217793232054, -0.24245802610223266, -0.25732133983859573, 0.42037508442345206, -0.05537824640182896, 0.34376037810196225, 0.34737977827724037, -0.2591971085011181, -0.3335663668997792, 0.5680198568536451, -0.3337604456464318, -0.07654544866491472, -0.1282567919972991, -0.32570202257290903, -0.352809600107422, -0.31503567753959144, -0.049621301425030385, 0.5651461240068467, -0.24466398593801353, 0.2948723632000467, 0.4437614394755719, -0.2586531467451447, -0.19984455151210767, 0.4929081589387163, 0.3455737939399436, 0.3268719489839348, -0.18826337533959284, -0.2478610352527071, -0.3676066722121615, -0.35493661747317173, 0.41301308053864333, 0.3903192860920571, 0.36625096200696783, -0.32621379226233777, -0.26975789784396553, -0.2053252814451558, 0.5114593932881434, 0.046912164635864555, 0.5981814449671294, 0.3379857380117312, 0.497814919802553, 0.3938532985773677, 0.3453335388563045, 0.5113942318449188, 0.08206531853506605, -0.13905644370240977, -0.08003604858682739, -0.25762548513670763, -0.07348009673735795, -0.27376990219290237, -0.3409950142815734, 0.2747997229361232, -0.2636588139923759, -0.28304566425712324, 0.2860630764690418, -0.3383751932433719, -0.2835059743740176, 0.2662721276421452, -0.08951900364298053, -0.28072546412030885, -0.17120756842324308, -0.27008269061085227, 0.47391800726843253, -0.25739272297046734, -0.32386774398696566, -0.35479426182592094, -0.12385895177065613, 0.4239312831079684, -0.5381250418019736, -0.26894574946912186, -0.25136483129723036, 0.10792678308171215, 0.5611861893656451, 0.22778331907638447, -0.025445470428672214, -0.27644271490791367, 0.3700601512957486, -0.09878843866349388, -0.26888075038809467, -0.10714084932009417, -0.4581071645640169, -0.2513807556079147, 0.47920370113798955, -0.08573207771446228, -0.09438259919284775, 0.1871122818898371, -0.1156906972780635, 0.11478776391651875, 0.5647635742992824, -0.2664890824030639, -0.23944596226279202, -0.355037753921652, -0.027705827463955203, 0.2889994995291751, 0.3321595630542159, -0.33054686375813636, -0.06048464802335727, -0.263069458939651, -0.37262705645052285, 0.3677784252289618, 0.024429856245825554, 0.36612049753733417, -0.3482442473659648, 0.4448687399240887, 0.27023634192631446, 0.374938553538018, 0.303625829764491, -0.354433765944389, -0.3299899673471849, -0.20692832379800863, -0.18185065841493778, -0.27237848830850037], \"y\": [-0.11969233001678611, -0.22268907622091244, -0.05506861319685838, 0.6684960912041139, 0.529166194950248, -0.1829692841629829, -0.03416998713204259, 0.15236627772855577, 0.018726110783662347, -0.07334286743060278, -0.17858127617281536, -0.0008194908693462567, -0.18071728230510048, -0.22264497389056773, 0.11094589776536706, 0.1279027908307505, 0.271558614449705, -0.21849434159412237, -0.028238588408847937, -0.6461584905172242, 0.04300028755246238, -0.1023475200281381, -0.2255099464639535, -0.21799782543066845, 0.15331166333604618, -0.1236698576090714, -0.2300177071613411, 0.2161073922840752, 0.531945742755165, 0.7296662445958297, -0.2216587572915842, -0.13528283052666834, 0.22129409051335946, -0.29087139252430116, 0.11282228545315838, -0.12360382151638624, 0.28977913797473825, -0.38268312436137203, 0.15898336284437908, -0.3801684116374637, -0.2560615895959364, 0.0040916790161840124, 0.1072635298132426, 0.15429610923588682, 0.0066863414016537035, -0.08589744990559546, -0.17064147030359678, -0.06919107467647424, -0.4983766589351939, -0.22248647960426784, 0.3573421042830776, 0.07070884013867901, 0.15447177874803827, -0.46814968184990813, -0.2776190945498408, -0.20593815986433536, -0.0492860067674614, 0.20143794234154372, 0.0209267507579538, 0.24792034510150618, -0.6058379748690923, 0.09423469996598197, 0.019147213505304916, 0.09826202914440299, -0.17465942251802002, 0.17565140462170792, 0.04502437695275086, 0.1717010049212747, 0.14204120727497252, 0.5013823521514235, -0.4047708401517636, -0.2256134566533114, 0.21967195791926455, -0.10842244732429186, -0.20922035927479196, -0.31538374201968866, -0.055305734634800555, 0.29759203573479803, 0.29689747442631287, 0.12123851519211318, -0.2745185833671659, 0.17577102982363443, 0.1747397700618702, -0.051805807013682335, -0.11234744220181184, -0.060975284503734996, 0.0621660112073243, -0.15875966480681689, 0.2583516917455571, 0.3716862220270015, 0.36086103470158687, -0.6884951116494469, -0.0008905198511068125, 0.34466673050411056, 0.2702142577393432, 0.36802611479914904, -0.12551340534287564, -0.06395986611071436, 0.2091190707131106, -0.11328958883989299, -0.2084353091206305, 0.11186809107515798, -0.11720921385136622, 0.11227280758688933, 0.3097157408225151, -0.22863368906141102, -0.16196650367326224, 0.252975996815554, 0.17720966328573057, -0.09626819147950276, 0.3664356709997984, -0.195446305266788, -0.19594458333559336, -0.5408843909806782, -0.16377914170204477, -0.3335033387403084, -0.20835305237708793, 0.1340312236279919, 0.12898523640766005, -0.15452720865301217, -0.7730749844761478, 0.7977214890982964, -0.21919876146139017, -0.2150980296121175, -0.0629376948889356, -0.41524581240193265, 0.25944521006515947, -0.09040696948420725, -0.16893512861197496, -0.053102757037031476, 0.38546037309600567, -0.19587329496209516, 0.21684352509526278, 0.1809985650941378, -0.2935750214359045, -0.1040601643200813, -0.12156223517071964, 0.20229661175618519, -0.0013961291276367272, -0.18201151111802794, 0.22000848083004632, -0.08697032036319526, -0.19242587438861264, -0.23251758602292597, 0.17280421030112403, 0.15966698293263012, 0.24262941226436194, 0.1970259062988051, 0.10089009289929243, 0.2548337446660861, -0.19138839881394765, 0.22325452051158293, 0.3370486346037242, 0.25851929244601574, -0.06219819358235042, 0.17960006418140523, 0.03212316330205701, 0.3388424173195206, 0.16353961737385034, 0.20059832877332873, 0.12486466606274785, 0.10061909000948709, -0.16370865490250208, -0.13502103845057226, -0.16631843806601562], \"z\": [-0.004461879309900256, -0.0045486292423231895, -0.03242028265342665, -0.16720002046079738, -0.17137637542933068, -0.08614459241741025, -0.02477120087926787, -0.08927251209026392, -0.027109492846047568, -0.0014325166385508864, 0.0023147465433225652, -0.03006149499635676, -0.024168014066096147, -0.010308391182448348, -0.08557474370518074, -0.09867430471679331, -0.09220126129860988, 0.006599043851076621, -0.0470552844623959, 0.08365009501212964, -0.07259551183184836, -0.01730697469057633, 0.024943182729397696, 0.015253918286718429, -0.07830700850316327, -0.007054906402797483, -0.011387222400868459, -0.08524771262075241, 0.8604230570810742, 0.7903072300801999, 0.00022433708560075095, -0.008309295982312314, -0.0822457273137675, 0.01996678024274327, -0.07765321383809569, 0.0015073918032899342, -0.11785053670173211, 0.05574990948337949, -0.05381818647929026, 0.05737032256149151, 0.0024802218518017506, -0.07774781451006625, -0.08977243836070156, -0.08107883101675424, -0.044509194309401985, -0.02971638859993968, -0.0021101371726109644, -0.01771482305313365, 0.10363283596610223, -0.010823841098894544, -0.12984678616826603, -0.0762932817250663, -0.07699395438694205, 0.0761255473086519, 0.01506937654004675, 0.00198670961028704, -0.012262888085472738, -0.09606785423283368, -0.035483340998373414, -0.0894103111190818, 0.11657473184698408, -0.07632635160552605, -0.024577201153807952, -0.07766570145559944, -0.008665750605440658, -0.10264218912178352, -0.07491909172902439, -0.09728746702601566, 0.9482236741371786, 0.8644250070198243, 0.07454050950394804, 0.005911540351506934, -0.10148616032198418, 0.006171127577417515, 0.0008216097931728757, 0.025450170839107125, -0.007801605685206699, -0.09920708684817076, -0.11648779890106971, -0.06726443476131473, 0.010059995593108563, -0.08175782494653462, -0.0988707694374585, -0.02331637212211677, 0.009280242260327093, -0.013908264032411173, -0.07875947626419598, -0.018278010605620603, -0.10646197219835743, -0.12170183158676944, -0.12948151516008938, 0.12606637380102834, -0.04053131207197019, -0.1303346431313399, -0.10195549686576943, -0.12945705540144428, 0.008825914480410467, -0.015819940187125434, -0.069541739465701, -0.008067419002547479, 0.0015398841249034591, -0.09218451508503603, -0.012381700580968338, -0.08851902914098984, -0.1071452192418111, 0.0017367736292051375, -0.015765514234724807, -0.10126625880134336, -0.08234284436609965, -0.011998982733722876, -0.10920166625152013, 0.011843860601594912, -0.025240091875715128, 0.10066860747217103, -0.0015115156942145365, 0.05413440008349548, 0.004628004697556295, 0.9426049411264446, -0.10353465991457915, 0.010195501758038588, 0.13633764078575653, -0.2938814070472874, -0.00670577194317434, 0.011499623647898865, -0.015495910768208864, 0.07398717883098428, -0.10858290983583012, -0.010949360987691368, -0.00842014365197559, -0.008982887787321318, 0.9054863166101841, 0.006709709337774651, -0.09479464045652893, -0.10830106238155335, -0.006913804913796945, -0.015347106111195033, -0.014019095286870568, -0.09975501225049069, -0.04054324750757545, 0.00843935681593767, -0.08786550165567311, -0.010763288487454765, -0.00782668778244484, 0.012914738833814134, -0.09682831116646418, -0.07439960337312436, -0.09398048224339894, 0.9600436124601236, -0.07513841635891937, -0.09916648502618591, -0.0064814054412577985, -0.13040836270429756, -0.14472718573528956, -0.10402897318328921, -0.01312457207795549, -0.10435317008245529, -0.026494954301494813, -0.09885776832116168, -0.0418279455398812, -0.08693252930130783, -0.10097361815828934, -0.07491579551396306, 0.009121375341839339, 0.0021227250692153997, -0.004126779471403536]}],\n",
              "                        {\"coloraxis\": {\"colorbar\": {\"title\": {\"text\": \"group\"}}, \"colorscale\": [[0.0, \"#0d0887\"], [0.1111111111111111, \"#46039f\"], [0.2222222222222222, \"#7201a8\"], [0.3333333333333333, \"#9c179e\"], [0.4444444444444444, \"#bd3786\"], [0.5555555555555556, \"#d8576b\"], [0.6666666666666666, \"#ed7953\"], [0.7777777777777778, \"#fb9f3a\"], [0.8888888888888888, \"#fdca26\"], [1.0, \"#f0f921\"]]}, \"height\": 600, \"legend\": {\"tracegroupgap\": 0}, \"margin\": {\"t\": 60}, \"scene\": {\"domain\": {\"x\": [0.0, 0.98], \"y\": [0.0, 1.0]}, \"xaxis\": {\"title\": {\"text\": \"PCA0\"}}, \"yaxis\": {\"title\": {\"text\": \"PCA1\"}}, \"zaxis\": {\"title\": {\"text\": \"PCA2\"}}}, \"template\": {\"data\": {\"bar\": [{\"error_x\": {\"color\": \"#2a3f5f\"}, \"error_y\": {\"color\": \"#2a3f5f\"}, \"marker\": {\"line\": {\"color\": \"#E5ECF6\", \"width\": 0.5}}, \"type\": \"bar\"}], \"barpolar\": [{\"marker\": {\"line\": {\"color\": \"#E5ECF6\", \"width\": 0.5}}, \"type\": \"barpolar\"}], \"carpet\": [{\"aaxis\": {\"endlinecolor\": \"#2a3f5f\", \"gridcolor\": \"white\", \"linecolor\": \"white\", \"minorgridcolor\": \"white\", \"startlinecolor\": \"#2a3f5f\"}, \"baxis\": {\"endlinecolor\": \"#2a3f5f\", \"gridcolor\": \"white\", \"linecolor\": \"white\", \"minorgridcolor\": \"white\", \"startlinecolor\": \"#2a3f5f\"}, \"type\": \"carpet\"}], \"choropleth\": [{\"colorbar\": {\"outlinewidth\": 0, \"ticks\": \"\"}, \"type\": \"choropleth\"}], \"contour\": [{\"colorbar\": {\"outlinewidth\": 0, \"ticks\": \"\"}, \"colorscale\": [[0.0, \"#0d0887\"], [0.1111111111111111, \"#46039f\"], [0.2222222222222222, \"#7201a8\"], [0.3333333333333333, \"#9c179e\"], [0.4444444444444444, \"#bd3786\"], [0.5555555555555556, \"#d8576b\"], [0.6666666666666666, \"#ed7953\"], [0.7777777777777778, \"#fb9f3a\"], [0.8888888888888888, \"#fdca26\"], [1.0, \"#f0f921\"]], \"type\": \"contour\"}], \"contourcarpet\": [{\"colorbar\": {\"outlinewidth\": 0, \"ticks\": \"\"}, \"type\": \"contourcarpet\"}], \"heatmap\": [{\"colorbar\": {\"outlinewidth\": 0, \"ticks\": \"\"}, \"colorscale\": [[0.0, \"#0d0887\"], [0.1111111111111111, \"#46039f\"], [0.2222222222222222, \"#7201a8\"], [0.3333333333333333, \"#9c179e\"], [0.4444444444444444, \"#bd3786\"], [0.5555555555555556, \"#d8576b\"], [0.6666666666666666, \"#ed7953\"], [0.7777777777777778, \"#fb9f3a\"], [0.8888888888888888, \"#fdca26\"], [1.0, \"#f0f921\"]], \"type\": \"heatmap\"}], \"heatmapgl\": [{\"colorbar\": {\"outlinewidth\": 0, \"ticks\": \"\"}, \"colorscale\": [[0.0, \"#0d0887\"], [0.1111111111111111, \"#46039f\"], [0.2222222222222222, \"#7201a8\"], [0.3333333333333333, \"#9c179e\"], [0.4444444444444444, \"#bd3786\"], [0.5555555555555556, \"#d8576b\"], [0.6666666666666666, \"#ed7953\"], [0.7777777777777778, \"#fb9f3a\"], [0.8888888888888888, \"#fdca26\"], [1.0, \"#f0f921\"]], \"type\": \"heatmapgl\"}], \"histogram\": [{\"marker\": {\"colorbar\": {\"outlinewidth\": 0, \"ticks\": \"\"}}, \"type\": \"histogram\"}], \"histogram2d\": [{\"colorbar\": {\"outlinewidth\": 0, \"ticks\": \"\"}, \"colorscale\": [[0.0, \"#0d0887\"], [0.1111111111111111, \"#46039f\"], [0.2222222222222222, \"#7201a8\"], [0.3333333333333333, \"#9c179e\"], [0.4444444444444444, \"#bd3786\"], [0.5555555555555556, \"#d8576b\"], [0.6666666666666666, \"#ed7953\"], [0.7777777777777778, \"#fb9f3a\"], [0.8888888888888888, \"#fdca26\"], [1.0, \"#f0f921\"]], \"type\": \"histogram2d\"}], \"histogram2dcontour\": [{\"colorbar\": {\"outlinewidth\": 0, \"ticks\": \"\"}, \"colorscale\": [[0.0, \"#0d0887\"], [0.1111111111111111, \"#46039f\"], [0.2222222222222222, \"#7201a8\"], [0.3333333333333333, \"#9c179e\"], [0.4444444444444444, \"#bd3786\"], [0.5555555555555556, \"#d8576b\"], [0.6666666666666666, \"#ed7953\"], [0.7777777777777778, \"#fb9f3a\"], [0.8888888888888888, \"#fdca26\"], [1.0, \"#f0f921\"]], \"type\": \"histogram2dcontour\"}], \"mesh3d\": [{\"colorbar\": {\"outlinewidth\": 0, \"ticks\": \"\"}, \"type\": \"mesh3d\"}], \"parcoords\": [{\"line\": {\"colorbar\": {\"outlinewidth\": 0, \"ticks\": \"\"}}, \"type\": \"parcoords\"}], \"scatter\": [{\"marker\": {\"colorbar\": {\"outlinewidth\": 0, \"ticks\": \"\"}}, \"type\": \"scatter\"}], \"scatter3d\": [{\"line\": {\"colorbar\": {\"outlinewidth\": 0, \"ticks\": \"\"}}, \"marker\": {\"colorbar\": {\"outlinewidth\": 0, \"ticks\": \"\"}}, \"type\": \"scatter3d\"}], \"scattercarpet\": [{\"marker\": {\"colorbar\": {\"outlinewidth\": 0, \"ticks\": \"\"}}, \"type\": \"scattercarpet\"}], \"scattergeo\": [{\"marker\": {\"colorbar\": {\"outlinewidth\": 0, \"ticks\": \"\"}}, \"type\": \"scattergeo\"}], \"scattergl\": [{\"marker\": {\"colorbar\": {\"outlinewidth\": 0, \"ticks\": \"\"}}, \"type\": \"scattergl\"}], \"scattermapbox\": [{\"marker\": {\"colorbar\": {\"outlinewidth\": 0, \"ticks\": \"\"}}, \"type\": \"scattermapbox\"}], \"scatterpolar\": [{\"marker\": {\"colorbar\": {\"outlinewidth\": 0, \"ticks\": \"\"}}, \"type\": \"scatterpolar\"}], \"scatterpolargl\": [{\"marker\": {\"colorbar\": {\"outlinewidth\": 0, \"ticks\": \"\"}}, \"type\": \"scatterpolargl\"}], \"scatterternary\": [{\"marker\": {\"colorbar\": {\"outlinewidth\": 0, \"ticks\": \"\"}}, \"type\": \"scatterternary\"}], \"surface\": [{\"colorbar\": {\"outlinewidth\": 0, \"ticks\": \"\"}, \"colorscale\": [[0.0, \"#0d0887\"], [0.1111111111111111, \"#46039f\"], [0.2222222222222222, \"#7201a8\"], [0.3333333333333333, \"#9c179e\"], [0.4444444444444444, \"#bd3786\"], [0.5555555555555556, \"#d8576b\"], [0.6666666666666666, \"#ed7953\"], [0.7777777777777778, \"#fb9f3a\"], [0.8888888888888888, \"#fdca26\"], [1.0, \"#f0f921\"]], \"type\": \"surface\"}], \"table\": [{\"cells\": {\"fill\": {\"color\": \"#EBF0F8\"}, \"line\": {\"color\": \"white\"}}, \"header\": {\"fill\": {\"color\": \"#C8D4E3\"}, \"line\": {\"color\": \"white\"}}, \"type\": \"table\"}]}, \"layout\": {\"annotationdefaults\": {\"arrowcolor\": \"#2a3f5f\", \"arrowhead\": 0, \"arrowwidth\": 1}, \"colorscale\": {\"diverging\": [[0, \"#8e0152\"], [0.1, \"#c51b7d\"], [0.2, \"#de77ae\"], [0.3, \"#f1b6da\"], [0.4, \"#fde0ef\"], [0.5, \"#f7f7f7\"], [0.6, \"#e6f5d0\"], [0.7, \"#b8e186\"], [0.8, \"#7fbc41\"], [0.9, \"#4d9221\"], [1, \"#276419\"]], \"sequential\": [[0.0, \"#0d0887\"], [0.1111111111111111, \"#46039f\"], [0.2222222222222222, \"#7201a8\"], [0.3333333333333333, \"#9c179e\"], [0.4444444444444444, \"#bd3786\"], [0.5555555555555556, \"#d8576b\"], [0.6666666666666666, \"#ed7953\"], [0.7777777777777778, \"#fb9f3a\"], [0.8888888888888888, \"#fdca26\"], [1.0, \"#f0f921\"]], \"sequentialminus\": [[0.0, \"#0d0887\"], [0.1111111111111111, \"#46039f\"], [0.2222222222222222, \"#7201a8\"], [0.3333333333333333, \"#9c179e\"], [0.4444444444444444, \"#bd3786\"], [0.5555555555555556, \"#d8576b\"], [0.6666666666666666, \"#ed7953\"], [0.7777777777777778, \"#fb9f3a\"], [0.8888888888888888, \"#fdca26\"], [1.0, \"#f0f921\"]]}, \"colorway\": [\"#636efa\", \"#EF553B\", \"#00cc96\", \"#ab63fa\", \"#FFA15A\", \"#19d3f3\", \"#FF6692\", \"#B6E880\", \"#FF97FF\", \"#FECB52\"], \"font\": {\"color\": \"#2a3f5f\"}, \"geo\": {\"bgcolor\": \"white\", \"lakecolor\": \"white\", \"landcolor\": \"#E5ECF6\", \"showlakes\": true, \"showland\": true, \"subunitcolor\": \"white\"}, \"hoverlabel\": {\"align\": \"left\"}, \"hovermode\": \"closest\", \"mapbox\": {\"style\": \"light\"}, \"paper_bgcolor\": \"white\", \"plot_bgcolor\": \"#E5ECF6\", \"polar\": {\"angularaxis\": {\"gridcolor\": \"white\", \"linecolor\": \"white\", \"ticks\": \"\"}, \"bgcolor\": \"#E5ECF6\", \"radialaxis\": {\"gridcolor\": \"white\", \"linecolor\": \"white\", \"ticks\": \"\"}}, \"scene\": {\"xaxis\": {\"backgroundcolor\": \"#E5ECF6\", \"gridcolor\": \"white\", \"gridwidth\": 2, \"linecolor\": \"white\", \"showbackground\": true, \"ticks\": \"\", \"zerolinecolor\": \"white\"}, \"yaxis\": {\"backgroundcolor\": \"#E5ECF6\", \"gridcolor\": \"white\", \"gridwidth\": 2, \"linecolor\": \"white\", \"showbackground\": true, \"ticks\": \"\", \"zerolinecolor\": \"white\"}, \"zaxis\": {\"backgroundcolor\": \"#E5ECF6\", \"gridcolor\": \"white\", \"gridwidth\": 2, \"linecolor\": \"white\", \"showbackground\": true, \"ticks\": \"\", \"zerolinecolor\": \"white\"}}, \"shapedefaults\": {\"line\": {\"color\": \"#2a3f5f\"}}, \"ternary\": {\"aaxis\": {\"gridcolor\": \"white\", \"linecolor\": \"white\", \"ticks\": \"\"}, \"baxis\": {\"gridcolor\": \"white\", \"linecolor\": \"white\", \"ticks\": \"\"}, \"bgcolor\": \"#E5ECF6\", \"caxis\": {\"gridcolor\": \"white\", \"linecolor\": \"white\", \"ticks\": \"\"}}, \"title\": {\"x\": 0.05}, \"xaxis\": {\"automargin\": true, \"gridcolor\": \"white\", \"linecolor\": \"white\", \"ticks\": \"\", \"zerolinecolor\": \"white\", \"zerolinewidth\": 2}, \"yaxis\": {\"automargin\": true, \"gridcolor\": \"white\", \"linecolor\": \"white\", \"ticks\": \"\", \"zerolinecolor\": \"white\", \"zerolinewidth\": 2}}}},\n",
              "                        {\"responsive\": true}\n",
              "                    ).then(function(){\n",
              "                            \n",
              "var gd = document.getElementById('4107e0aa-ca6a-4ee5-bcf0-9272150faee7');\n",
              "var x = new MutationObserver(function (mutations, observer) {{\n",
              "        var display = window.getComputedStyle(gd).display;\n",
              "        if (!display || display === 'none') {{\n",
              "            console.log([gd, 'removed!']);\n",
              "            Plotly.purge(gd);\n",
              "            observer.disconnect();\n",
              "        }}\n",
              "}});\n",
              "\n",
              "// Listen for the removal of the full notebook cells\n",
              "var notebookContainer = gd.closest('#notebook-container');\n",
              "if (notebookContainer) {{\n",
              "    x.observe(notebookContainer, {childList: true});\n",
              "}}\n",
              "\n",
              "// Listen for the clearing of the current output cell\n",
              "var outputEl = gd.closest('.output');\n",
              "if (outputEl) {{\n",
              "    x.observe(outputEl, {childList: true});\n",
              "}}\n",
              "\n",
              "                        })\n",
              "                };\n",
              "                \n",
              "            </script>\n",
              "        </div>\n",
              "</body>\n",
              "</html>"
            ]
          },
          "metadata": {
            "tags": []
          }
        }
      ]
    },
    {
      "cell_type": "markdown",
      "metadata": {
        "id": "wj24lWElUf1s",
        "colab_type": "text"
      },
      "source": [
        "##5. Interpretación"
      ]
    },
    {
      "cell_type": "code",
      "metadata": {
        "id": "s7tb9VxZn1gE",
        "colab_type": "code",
        "outputId": "7c328126-75d5-43de-b89c-84a23e786c3f",
        "colab": {
          "base_uri": "https://localhost:8080/",
          "height": 293
        }
      },
      "source": [
        "res = df[['maximum_elo', 'time_per_game_mean', 'group']].groupby(('group')).mean()\n",
        "res.plot(kind='bar', legend=True)"
      ],
      "execution_count": 15,
      "outputs": [
        {
          "output_type": "execute_result",
          "data": {
            "text/plain": [
              "<matplotlib.axes._subplots.AxesSubplot at 0x7fbe0c998fd0>"
            ]
          },
          "metadata": {
            "tags": []
          },
          "execution_count": 15
        },
        {
          "output_type": "display_data",
          "data": {
            "image/png": "[encoded data removed]",
            "text/plain": [
              "<Figure size 432x288 with 1 Axes>"
            ]
          },
          "metadata": {
            "tags": []
          }
        }
      ]
    },
    {
      "cell_type": "code",
      "metadata": {
        "id": "pNcUk_0EqO3P",
        "colab_type": "code",
        "outputId": "e10eb2c2-91c6-432b-a5a7-5f5c42ea68a2",
        "colab": {
          "base_uri": "https://localhost:8080/",
          "height": 293
        }
      },
      "source": [
        "res = df[['movements_mean', 'group']].groupby(('group')).mean()\n",
        "res.plot(kind='bar', legend=True)"
      ],
      "execution_count": 16,
      "outputs": [
        {
          "output_type": "execute_result",
          "data": {
            "text/plain": [
              "<matplotlib.axes._subplots.AxesSubplot at 0x7fbe0c78f898>"
            ]
          },
          "metadata": {
            "tags": []
          },
          "execution_count": 16
        },
        {
          "output_type": "display_data",
          "data": {
            "image/png": "[encoded data removed]",
            "text/plain": [
              "<Figure size 432x288 with 1 Axes>"
            ]
          },
          "metadata": {
            "tags": []
          }
        }
      ]
    },
    {
      "cell_type": "code",
      "metadata": {
        "id": "dO-rXHWfqgIg",
        "colab_type": "code",
        "outputId": "4707db93-1268-4d9f-eb36-e817f97ceabc",
        "colab": {
          "base_uri": "https://localhost:8080/",
          "height": 293
        }
      },
      "source": [
        "res = df[['aggressiveness_mean', 'points_balance_mean', 'taken_balance_mean', 'group']].groupby(('group')).mean()\n",
        "res.plot(kind='bar', legend=True)"
      ],
      "execution_count": 17,
      "outputs": [
        {
          "output_type": "execute_result",
          "data": {
            "text/plain": [
              "<matplotlib.axes._subplots.AxesSubplot at 0x7fbe0ca0cc88>"
            ]
          },
          "metadata": {
            "tags": []
          },
          "execution_count": 17
        },
        {
          "output_type": "display_data",
          "data": {
            "image/png": "[encoded data removed]",
            "text/plain": [
              "<Figure size 432x288 with 1 Axes>"
            ]
          },
          "metadata": {
            "tags": []
          }
        }
      ]
    },
    {
      "cell_type": "code",
      "metadata": {
        "id": "UOlsVM3YFtk3",
        "colab_type": "code",
        "colab": {
          "base_uri": "https://localhost:8080/",
          "height": 102
        },
        "outputId": "eb71ce78-4a39-45ca-dbe6-c4bfbddca164"
      },
      "source": [
        "df[df['group'] == 2].iloc[:,2].describe()"
      ],
      "execution_count": 68,
      "outputs": [
        {
          "output_type": "execute_result",
          "data": {
            "text/plain": [
              "count                    1\n",
              "unique                   1\n",
              "top       Sicilian Defense\n",
              "freq                     1\n",
              "Name: most_common_opening, dtype: object"
            ]
          },
          "metadata": {
            "tags": []
          },
          "execution_count": 68
        }
      ]
    },
    {
      "cell_type": "code",
      "metadata": {
        "id": "FC91m2F3Kv4d",
        "colab_type": "code",
        "colab": {
          "base_uri": "https://localhost:8080/",
          "height": 102
        },
        "outputId": "12f79d73-2db9-448b-b1c1-9f8863706cd3"
      },
      "source": [
        "df[df['group'] == 2].iloc[:,4].describe()"
      ],
      "execution_count": 69,
      "outputs": [
        {
          "output_type": "execute_result",
          "data": {
            "text/plain": [
              "count         1\n",
              "unique        1\n",
              "top       White\n",
              "freq          1\n",
              "Name: winning_colour, dtype: object"
            ]
          },
          "metadata": {
            "tags": []
          },
          "execution_count": 69
        }
      ]
    },
    {
      "cell_type": "code",
      "metadata": {
        "id": "gGc0XQhJLntp",
        "colab_type": "code",
        "colab": {
          "base_uri": "https://localhost:8080/",
          "height": 34
        },
        "outputId": "81b6b694-d089-4e60-f65a-5d9f138060e7"
      },
      "source": [
        "# Outlier\n",
        "df[df['group'] == 2].iloc[0,0]"
      ],
      "execution_count": 72,
      "outputs": [
        {
          "output_type": "execute_result",
          "data": {
            "text/plain": [
              "'doash'"
            ]
          },
          "metadata": {
            "tags": []
          },
          "execution_count": 72
        }
      ]
    }
  ]
}