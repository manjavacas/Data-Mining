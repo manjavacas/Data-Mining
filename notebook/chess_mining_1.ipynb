{
  "nbformat": 4,
  "nbformat_minor": 0,
  "metadata": {
    "colab": {
      "name": "chess-mining-1.ipynb",
      "provenance": [],
      "collapsed_sections": [],
      "include_colab_link": true
    },
    "kernelspec": {
      "name": "python3",
      "display_name": "Python 3"
    }
  },
  "cells": [
    {
      "cell_type": "markdown",
      "metadata": {
        "id": "view-in-github",
        "colab_type": "text"
      },
      "source": [
        "<a href=\"https://colab.research.google.com/github/manjavacas/Data-Mining/blob/master/notebook/chess_mining_1.ipynb\" target=\"_parent\"><img src=\"https://colab.research.google.com/assets/colab-badge.svg\" alt=\"Open In Colab\"/></a>"
      ]
    },
    {
      "cell_type": "markdown",
      "metadata": {
        "id": "KN0v23yIpP56",
        "colab_type": "text"
      },
      "source": [
        "# **Análisis de partidas de ajedrez mediante Data Mining**\n",
        "\n",
        "  *Minería de Datos. Curso 2019/2020.*\n",
        "\n",
        "\n",
        "*   Alberto Velasco Mata\n",
        "*   Diego Pedregal Hidalgo\n",
        "*   Rubén Márquez Villalta\n",
        "*   Antonio Manjavacas\n",
        "\n"
      ]
    },
    {
      "cell_type": "markdown",
      "metadata": {
        "id": "uwlgTef4vAid",
        "colab_type": "text"
      },
      "source": [
        "## **1. OBTENCIÓN DE LOS DATOS**\n",
        "En esta sección se llevará a cabo la recopilación de los datos iniciales."
      ]
    },
    {
      "cell_type": "markdown",
      "metadata": {
        "id": "dnSAy3xUvA6e",
        "colab_type": "text"
      },
      "source": [
        "- Haremos uso de la API `berserk` para el acceso a la base de datos de [*lichess.org*](https://lichess.org):"
      ]
    },
    {
      "cell_type": "code",
      "metadata": {
        "id": "_azfC1IS-YL2",
        "colab_type": "code",
        "colab": {}
      },
      "source": [
        "!pip install berserk\n",
        "import berserk"
      ],
      "execution_count": 0,
      "outputs": []
    },
    {
      "cell_type": "markdown",
      "metadata": {
        "id": "UIHJXYFy3DT2",
        "colab_type": "text"
      },
      "source": [
        "- Redefinimos la función `export_by_player` para poder utilizar los parámetros `opening` y `clock`, ya que la API no permite obtenerlos por defecto:"
      ]
    },
    {
      "cell_type": "code",
      "metadata": {
        "id": "zgNolI-P3MXT",
        "colab_type": "code",
        "colab": {}
      },
      "source": [
        "from berserk.formats import PGN, NDJSON\n",
        "import berserk.models\n",
        "\n",
        "def export_by_player(self, username, as_pgn=None, since=None, until=None,\n",
        "                         max=None, vs=None, rated=None, perf_type=None,\n",
        "                         color=None, analysed=None, moves=None, tags=None,\n",
        "                         evals=None, opening=None, clocks=None):\n",
        "    path = f'api/games/user/{username}'\n",
        "    params = {\n",
        "        'since': since,\n",
        "        'until': until,\n",
        "        'max': max,\n",
        "        'vs': vs,\n",
        "        'rated': rated,\n",
        "        'perfType': perf_type,\n",
        "        'color': color,\n",
        "        'analysed': analysed,\n",
        "        'moves': moves,\n",
        "        'tags': tags,\n",
        "        'clocks': str(clocks).lower(), # manually included\n",
        "        'evals': evals,\n",
        "        'opening': str(opening).lower(), # manually included\n",
        "    }\n",
        "    self.pgn_as_default = True\n",
        "    fmt = PGN if (as_pgn if as_pgn is not None else self.pgn_as_default) else NDJSON\n",
        "    yield from self._r.get(path, params=params, fmt=fmt, stream=True,\n",
        "                            converter=berserk.models.Game.convert)"
      ],
      "execution_count": 0,
      "outputs": []
    },
    {
      "cell_type": "markdown",
      "metadata": {
        "id": "6-v0d-atDAXD",
        "colab_type": "text"
      },
      "source": [
        "- Obtenemos los IDs de los n = `USER_COUNT` mejores jugadores de la web **en modo clásico** (`PerfType.CLASSICAL`):"
      ]
    },
    {
      "cell_type": "code",
      "metadata": {
        "id": "D4XC1l1SDHLX",
        "colab_type": "code",
        "colab": {}
      },
      "source": [
        "USER_COUNT = 200\n",
        "\n",
        "# API client\n",
        "client = berserk.Client()\n",
        "\n",
        "from berserk import PerfType\n",
        "user_ids = [u['id'] for u in client.users.get_leaderboard(PerfType.CLASSICAL, USER_COUNT)]\n",
        "\n",
        "print(f'Top {len(user_ids)} users:\\n{user_ids}')\n",
        "\n",
        "import json\n",
        "with open('user_ids.json', 'w') as f:\n",
        "  json.dump({'user_ids': user_ids}, f)\n"
      ],
      "execution_count": 0,
      "outputs": []
    },
    {
      "cell_type": "markdown",
      "metadata": {
        "id": "fJBKaR9r3Nbf",
        "colab_type": "text"
      },
      "source": [
        "- Obtenemos las partidas de estos jugadores en el mes de **septiembre de 2019**:"
      ]
    },
    {
      "cell_type": "code",
      "metadata": {
        "id": "ev7az_033TbJ",
        "colab_type": "code",
        "colab": {}
      },
      "source": [
        "from datetime import datetime\n",
        "from berserk import PerfType\n",
        "\n",
        "START_TIME = datetime(year=2019, month=9, day=1)\n",
        "END_TIME = datetime(year=2019, month=10, day=1)\n",
        "\n",
        "\n",
        "games = []\n",
        "user_ids_subset = user_ids[100:]\n",
        "for user_id in user_ids_subset:\n",
        "  # Get list of games for each player\n",
        "  user_games = list(export_by_player(client, user_id,\n",
        "                                clocks=True,\n",
        "                                opening=True,\n",
        "                                since=int(1000 * START_TIME.timestamp()),\n",
        "                                until=int(1000 * END_TIME.timestamp()),\n",
        "                                perf_type=PerfType.CLASSICAL))\n",
        "  \n",
        "  games.extend(user_games)\n",
        "  print(f\"> {len(user_games)} games from '{user_id}'\")\n",
        "  \n",
        "\n",
        "print(f\"Got {len(games)} games from {len(user_ids_subset)} top users ({START_TIME.strftime('%d/%m/%Y')} - {END_TIME.strftime('%d/%m/%Y')})\")"
      ],
      "execution_count": 0,
      "outputs": []
    },
    {
      "cell_type": "markdown",
      "metadata": {
        "id": "MXlzpVWwtH33",
        "colab_type": "text"
      },
      "source": [
        "- Obtenemos un conjunto de partidas en formato `.pgn`. Un ejemplo es el siguiente:"
      ]
    },
    {
      "cell_type": "code",
      "metadata": {
        "id": "SUkC150ktGZA",
        "colab_type": "code",
        "colab": {}
      },
      "source": [
        "# Sample game\n",
        "print(games[0])"
      ],
      "execution_count": 0,
      "outputs": []
    },
    {
      "cell_type": "markdown",
      "metadata": {
        "id": "QyWA59XYt5Xm",
        "colab_type": "text"
      },
      "source": [
        "Guardamos todas las partidas en un fichero común (`games.pgn`):"
      ]
    },
    {
      "cell_type": "code",
      "metadata": {
        "id": "XTmSYGTPJKV9",
        "colab_type": "code",
        "colab": {}
      },
      "source": [
        "# Save games as PGN file\n",
        "with open('games.pgn', 'a') as f:\n",
        "  for game in games:\n",
        "    f.write(game)\n",
        "    f.write(\"\\n\\n\")"
      ],
      "execution_count": 0,
      "outputs": []
    }
  ]
}