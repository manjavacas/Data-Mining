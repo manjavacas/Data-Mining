{
  "nbformat": 4,
  "nbformat_minor": 0,
  "metadata": {
    "colab": {
      "name": "chess-mining-1.ipynb",
      "provenance": [],
      "collapsed_sections": [],
      "toc_visible": true,
      "include_colab_link": true
    },
    "kernelspec": {
      "name": "python3",
      "display_name": "Python 3"
    }
  },
  "cells": [
    {
      "cell_type": "markdown",
      "metadata": {
        "id": "view-in-github",
        "colab_type": "text"
      },
      "source": [
        "<a href=\"https://colab.research.google.com/github/manjavacas/Data-Mining/blob/master/notebook/chess_mining_1.ipynb\" target=\"_parent\"><img src=\"https://colab.research.google.com/assets/colab-badge.svg\" alt=\"Open In Colab\"/></a>"
      ]
    },
    {
      "cell_type": "markdown",
      "metadata": {
        "id": "KN0v23yIpP56",
        "colab_type": "text"
      },
      "source": [
        "# **Análisis de partidas de ajedrez mediante Data Mining**\n",
        "\n",
        "  *Minería de Datos. Curso 2019/2020.*\n",
        "\n",
        "\n",
        "*   Alberto Velasco Mata\n",
        "*   Diego Pedregal Hidalgo\n",
        "*   Rubén Márquez Villalta\n",
        "*   Antonio Manjavacas\n",
        "\n"
      ]
    },
    {
      "cell_type": "markdown",
      "metadata": {
        "id": "uwlgTef4vAid",
        "colab_type": "text"
      },
      "source": [
        "## **1. OBTENCIÓN DE LOS DATOS**\n",
        "En esta sección se llevará a cabo la recopilación de los datos iniciales."
      ]
    },
    {
      "cell_type": "markdown",
      "metadata": {
        "id": "dnSAy3xUvA6e",
        "colab_type": "text"
      },
      "source": [
        "- Haremos uso de la API `berserk` para el acceso a la base de datos de [*lichess.org*](https://lichess.org):"
      ]
    },
    {
      "cell_type": "code",
      "metadata": {
        "id": "_azfC1IS-YL2",
        "colab_type": "code",
        "colab": {}
      },
      "source": [
        "!pip install berserk\n",
        "import berserk"
      ],
      "execution_count": 0,
      "outputs": []
    },
    {
      "cell_type": "markdown",
      "metadata": {
        "id": "UIHJXYFy3DT2",
        "colab_type": "text"
      },
      "source": [
        "- Redefinimos la función `export_by_player` para poder utilizar los parámetros `opening` y `clock`, ya que la API no permite obtenerlos por defecto:"
      ]
    },
    {
      "cell_type": "code",
      "metadata": {
        "id": "zgNolI-P3MXT",
        "colab_type": "code",
        "colab": {}
      },
      "source": [
        "from berserk.formats import PGN, NDJSON\n",
        "import berserk.models\n",
        "\n",
        "def export_by_player(self, username, as_pgn=None, since=None, until=None,\n",
        "                         max=None, vs=None, rated=None, perf_type=None,\n",
        "                         color=None, analysed=None, moves=None, tags=None,\n",
        "                         evals=None, opening=None, clocks=None):\n",
        "    path = f'api/games/user/{username}'\n",
        "    params = {\n",
        "        'since': since,\n",
        "        'until': until,\n",
        "        'max': max,\n",
        "        'vs': vs,\n",
        "        'rated': rated,\n",
        "        'perfType': perf_type,\n",
        "        'color': color,\n",
        "        'analysed': analysed,\n",
        "        'moves': moves,\n",
        "        'tags': tags,\n",
        "        'clocks': str(clocks).lower(), # manually included\n",
        "        'evals': evals,\n",
        "        'opening': str(opening).lower(), # manually included\n",
        "    }\n",
        "    self.pgn_as_default = True\n",
        "    fmt = PGN if (as_pgn if as_pgn is not None else self.pgn_as_default) else NDJSON\n",
        "    yield from self._r.get(path, params=params, fmt=fmt, stream=True,\n",
        "                            converter=berserk.models.Game.convert)"
      ],
      "execution_count": 0,
      "outputs": []
    },
    {
      "cell_type": "markdown",
      "metadata": {
        "id": "6-v0d-atDAXD",
        "colab_type": "text"
      },
      "source": [
        "- Obtenemos los IDs de los n = `USER_COUNT` mejores jugadores de la web **en modo clásico** (`PerfType.CLASSICAL`):"
      ]
    },
    {
      "cell_type": "code",
      "metadata": {
        "id": "D4XC1l1SDHLX",
        "colab_type": "code",
        "outputId": "84c2e844-de8f-4b1b-cd00-ae9b0ae05f1c",
        "colab": {
          "base_uri": "https://localhost:8080/",
          "height": 70
        }
      },
      "source": [
        "USER_COUNT = 200\n",
        "\n",
        "# API client\n",
        "client = berserk.Client()\n",
        "\n",
        "from berserk import PerfType\n",
        "user_ids = [u['id'] for u in client.users.get_leaderboard(PerfType.CLASSICAL, USER_COUNT)]\n",
        "\n",
        "print(f'Top {len(user_ids)} users:\\n{user_ids}')\n",
        "\n",
        "import json\n",
        "with open('user_ids.json', 'w') as f:\n",
        "  json.dump({'user_ids': user_ids}, f)\n"
      ],
      "execution_count": 3,
      "outputs": [
        {
          "output_type": "stream",
          "text": [
            "Top 200 users:\n",
            "['wolverines1', 'procellariidae', 'classyplays', 'zugzwang_tv', 'labestia2017', 'king_to_f5', 'rediska_petrovna', 'oloap62', 'osho3058', 'jasrom', 'kaljakeisari', 'allexx7777', 'schemato', 'abdulkader-rifai', 'wittke', 'ibragim_64', 'massterofmayhem', 'angelina-lina', 'brooklynboy', 'arabian_night', 'sodkosodbileg12', 'lord-universe', 'gek76', 'subhra2019', 'caring', 'talaicito', 'h_roy', 'rufat_nasibov', 'augusto1962', 'arteler', 'vadimcernov', 'tiger_tigerov', 'erinyu', 'colakturkey', 'trailo', 'speedcobra', 'rochade_augsburg', 'salasar1955', 'kholpilova', 'marianag', 'mockmorra', 'boodesh', 'nemjeff', 'serg_01', 'thekingburak', 'demarionash', 'nikonovenik', 'oluwadurotimi', 'busonolsun56', 'cizar', 'anwen_digo', 'koh99koh', 'fatkul_c_askar', 'yudhishtira', 'raj1981', 'lookmeintheeye', 'jonathan_wolf', 'thmachine', 'bigty', 'val1957', 'fhchess', 'ulysse06', 'dmachin', 'kisel70', 'philipsen', 'sforgasi009', 'statistical', 'josip_buje', 'kotikribolow', 'leochess67', 'playpetrosian', 'markusl78', 'yahirfc', 'madesta3', 'ovonoc', 'peristeria', 'aminec-13', 'varchavianka', 'trrak55', 'ephemerall', 'schahmatistlubitel', 'agriba', 'bariew', 'mishel52', 'ledakov_alexandr', 'resueraromeoramil', 'yrmgandr', 'ashish1900', 'brooklynrook', 'sinrostro', 'boreconstrictor', 'totoff', 'jsnpreet80', 'themouthbreather', 'okoros', 'marygracebering', 'sarzhanovch2004', 'sokolll', 'zealouspawn', 'pribytov', 'mad_noor', 'therealownage', 'senseifish', 'gepard1988', 'austinmorningstar', 'bosniano', 'keej19', 'psoykorolenko', 'sreehith', 'hongkongphooey', 'leanasder', 'dzagar', 'spankstella', 'aeapmestre', 'alex50171', 'hattersley', 'idiamin100', 'keubla', 'sirleopold', 'crucificador', 'thedrunkenlawyer', 'tenthousandhours', 'ptolmorik', 'bleichkind', 'joshiii876', 'viburnum', 'apasa', 'schachspieler1689', 'leleilre', 'arhia-alagemand', 'miramissteeng', 'sskafka', 'ust_b', 'faustopuntier', 'buspero', 'norisknofun86', 'robertt74', 'micky1z', 'tomek188', 'tamahawk', 'playlicht', 'attackeur', 'mariuseg', 'iw', 'mohsen448', 'ekhaabb', 'sopran', 'badbear', 'salvokappa', 'turtle-turtle', 'circularity', 'munaretto', 'sergey27101958', 'eternalgame', 'morphyesque', 'budabudimir', 'alrisha', 'marvinhueck', 'a0square', 'roni_ronin777', 'aadhithyan', 'gaul5', 'bombist', 'christistheking', 'peppefabiano64', 'dpomerantz', 'valera_kim', 'ali_suwarjono', 'kpa74', 'chessnock', 'badplayer_cm', 'yeager', 'chesspatzer123', 'soev', 'kaczoreczek', 'niclang', 'queen7376', 'sergei555spb', 'fischerfan10', 'endo07', 'chessinsomniac', 'conwycastle', 'ketan404', 'cryptopanda', 'grfinish', 'svdo', 'deleted_account', 'blessmaster', 'oneknightonly', 'che554life', 'vahidddd', 'benoni4', 'achintheman1', 'dvrazor', 'chessedition', 'sokg', 'akhrie', 'show_me_patzer', 'javixav', 'camal6666']\n"
          ],
          "name": "stdout"
        }
      ]
    },
    {
      "cell_type": "markdown",
      "metadata": {
        "id": "fJBKaR9r3Nbf",
        "colab_type": "text"
      },
      "source": [
        "- Obtenemos las partidas de estos jugadores en el mes de **septiembre de 2019**:"
      ]
    },
    {
      "cell_type": "code",
      "metadata": {
        "id": "ev7az_033TbJ",
        "colab_type": "code",
        "colab": {}
      },
      "source": [
        "from datetime import datetime\n",
        "from berserk import PerfType\n",
        "\n",
        "START_TIME = datetime(year=2019, month=10, day=1)\n",
        "END_TIME = datetime(year=2019, month=11, day=1)\n",
        "\n",
        "\n",
        "games = []\n",
        "user_ids_subset = user_ids[100:]\n",
        "for user_id in user_ids_subset:\n",
        "  # Get list of games for each player\n",
        "  user_games = list(export_by_player(client, user_id,\n",
        "                                clocks=True,\n",
        "                                opening=True,\n",
        "                                since=int(1000 * START_TIME.timestamp()),\n",
        "                                until=int(1000 * END_TIME.timestamp()),\n",
        "                                perf_type=PerfType.CLASSICAL))\n",
        "  \n",
        "  games.extend(user_games)\n",
        "  print(f\"> {len(user_games)} games from '{user_id}'\")\n",
        "  \n",
        "\n",
        "print(f\"Got {len(games)} games from {len(user_ids_subset)} top users ({START_TIME.strftime('%d/%m/%Y')} - {END_TIME.strftime('%d/%m/%Y')})\")"
      ],
      "execution_count": 0,
      "outputs": []
    },
    {
      "cell_type": "markdown",
      "metadata": {
        "id": "MXlzpVWwtH33",
        "colab_type": "text"
      },
      "source": [
        "- Obtenemos un conjunto de partidas en formato `.pgn`. Un ejemplo es el siguiente:"
      ]
    },
    {
      "cell_type": "code",
      "metadata": {
        "id": "SUkC150ktGZA",
        "colab_type": "code",
        "outputId": "c5ea01a7-ac5b-4652-e0d6-8e11bd8f1504",
        "colab": {
          "base_uri": "https://localhost:8080/",
          "height": 373
        }
      },
      "source": [
        "# Sample game\n",
        "print(games[0])"
      ],
      "execution_count": 5,
      "outputs": [
        {
          "output_type": "stream",
          "text": [
            "[Event \"Classical Shield Arena\"]\n",
            "[Site \"https://lichess.org/FcongsoM\"]\n",
            "[Date \"2019.10.11\"]\n",
            "[Round \"-\"]\n",
            "[White \"TheRealOwnage\"]\n",
            "[Black \"bakhtin_va\"]\n",
            "[Result \"0-1\"]\n",
            "[UTCDate \"2019.10.11\"]\n",
            "[UTCTime \"16:00:02\"]\n",
            "[WhiteElo \"2182\"]\n",
            "[BlackElo \"2223\"]\n",
            "[WhiteRatingDiff \"-10\"]\n",
            "[BlackRatingDiff \"+16\"]\n",
            "[Variant \"Standard\"]\n",
            "[TimeControl \"1200+10\"]\n",
            "[ECO \"B12\"]\n",
            "[Opening \"Caro-Kann Defense: Maróczy Variation\"]\n",
            "[Termination \"Time forfeit\"]\n",
            "\n",
            "1. e4 { [%clk 0:10:00] } c6 { [%clk 0:20:00] } 2. d4 { [%clk 0:09:57] } d5 { [%clk 0:20:07] } 3. f3 { [%clk 0:09:55] } e6 { [%clk 0:20:09] } 4. Ne2 { [%clk 0:09:50] } c5 { [%clk 0:19:06] } 5. Nbc3 { [%clk 0:09:45] } Nc6 { [%clk 0:18:19] } 6. exd5 { [%clk 0:09:26] } exd5 { [%clk 0:18:15] } 7. Be3 { [%clk 0:09:23] } c4 { [%clk 0:17:22] } 8. Qd2 { [%clk 0:09:19] } Bb4 { [%clk 0:16:35] } 9. O-O-O { [%clk 0:09:18] } Nge7 { [%clk 0:16:13] } 10. a3 { [%clk 0:08:57] } Ba5 { [%clk 0:16:03] } 11. Nf4 { [%clk 0:08:51] } b5 { [%clk 0:15:36] } 12. g4 { [%clk 0:07:49] } b4 { [%clk 0:15:18] } 13. axb4 { [%clk 0:06:58] } Bxb4 { [%clk 0:15:19] } 14. Re1 { [%clk 0:06:41] } O-O { [%clk 0:15:18] } 15. Bf2 { [%clk 0:06:28] } Qa5 { [%clk 0:14:29] } 16. Kd1 { [%clk 0:05:51] } Rb8 { [%clk 0:12:48] } 17. Rg1 { [%clk 0:05:36] } Bd7 { [%clk 0:11:29] } 18. h4 { [%clk 0:05:21] } Bxc3 { [%clk 0:10:16] } 19. Qxc3 { [%clk 0:05:15] } Qa1+ { [%clk 0:10:19] } 20. Kd2 { [%clk 0:05:10] } Qxb2 { [%clk 0:10:28] } 21. Qxb2 { [%clk 0:05:04] } Rxb2 { [%clk 0:10:36] } 22. Bxc4 { [%clk 0:04:28] } dxc4 { [%clk 0:10:00] } 23. d5 { [%clk 0:04:26] } Rd8 { [%clk 0:06:22] } 24. Kc3 { [%clk 0:04:15] } Rb7 { [%clk 0:06:15] } 25. dxc6 { [%clk 0:04:10] } Bxc6 { [%clk 0:06:22] } 26. Ra1 { [%clk 0:03:59] } Bxf3 { [%clk 0:05:43] } 27. Rxa7 { [%clk 0:03:52] } Rxa7 { [%clk 0:05:31] } 28. Bxa7 { [%clk 0:03:52] } Nd5+ { [%clk 0:05:22] } 29. Nxd5 { [%clk 0:03:44] } Bxd5 { [%clk 0:05:30] } 30. Bd4 { [%clk 0:03:39] } f6 { [%clk 0:05:13] } 31. Ra1 { [%clk 0:03:32] } Rd7 { [%clk 0:05:07] } 32. Rf1 { [%clk 0:03:11] } h6 { [%clk 0:04:13] } 33. Be3 { [%clk 0:03:02] } Kf7 { [%clk 0:03:07] } 34. g5 { [%clk 0:02:48] } hxg5 { [%clk 0:03:15] } 35. Bxg5 { [%clk 0:02:39] } Kg6 { [%clk 0:02:47] } 36. Bf4 { [%clk 0:02:37] } Be6 { [%clk 0:02:36] } 37. Re1 { [%clk 0:02:30] } Kf5 { [%clk 0:02:37] } 38. Be3 { [%clk 0:02:25] } Kg4 { [%clk 0:02:22] } 39. Bf2 { [%clk 0:02:14] } Bf5 { [%clk 0:02:15] } 40. Ra1 { [%clk 0:02:06] } Re7 { [%clk 0:02:03] } 41. Rg1+ { [%clk 0:02:01] } Kf3 { [%clk 0:02:09] } 42. Bd4 { [%clk 0:01:56] } Rd7 { [%clk 0:01:53] } 43. h5 { [%clk 0:01:52] } Be6 { [%clk 0:01:04] } 44. h6 { [%clk 0:01:45] } gxh6 { [%clk 0:01:13] } 45. Bxf6 { [%clk 0:01:42] } h5 { [%clk 0:01:19] } 46. Rh1 { [%clk 0:01:34] } Bf7 { [%clk 0:01:11] } 47. Bd4 { [%clk 0:01:27] } Kg4 { [%clk 0:01:07] } 48. Rg1+ { [%clk 0:01:23] } Kf4 { [%clk 0:01:05] } 49. Rf1+ { [%clk 0:01:19] } Ke4 { [%clk 0:01:07] } 50. Re1+ { [%clk 0:01:11] } Kf5 { [%clk 0:01:02] } 51. Re5+ { [%clk 0:01:10] } Kg4 { [%clk 0:01:07] } 52. Re1 { [%clk 0:01:06] } h4 { [%clk 0:01:09] } 53. Re4+ { [%clk 0:00:57] } Kg5 { [%clk 0:00:43] } 54. Be3+ { [%clk 0:00:53] } Kh5 { [%clk 0:00:46] } 55. Bf2 { [%clk 0:00:51] } Kg5 { [%clk 0:00:38] } 56. Bxh4+ { [%clk 0:00:47] } Kf5 { [%clk 0:00:47] } 57. Re1 { [%clk 0:00:42] } Be6 { [%clk 0:00:52] } 58. Bg3 { [%clk 0:00:37] } Rd5 { [%clk 0:00:47] } 59. Bc7 { [%clk 0:00:28] } Rc5 { [%clk 0:00:41] } 60. Bd6 { [%clk 0:00:24] } Rd5 { [%clk 0:00:41] } 61. Bh2 { [%clk 0:00:22] } Kf6 { [%clk 0:00:48] } 62. Rf1+ { [%clk 0:00:18] } Ke7 { [%clk 0:00:56] } 63. Re1 { [%clk 0:00:16] } Rh5 { [%clk 0:01:05] } 64. Be5 { [%clk 0:00:08] } Rh3+ { [%clk 0:01:09] } 65. Kd4 { [%clk 0:00:07] } Kd7 { [%clk 0:01:15] } 66. c3 { [%clk 0:00:04] } Rd3+ { [%clk 0:01:20] } 67. Kc5 { [%clk 0:00:02] } Rd5+ { [%clk 0:01:29] } 0-1\n"
          ],
          "name": "stdout"
        }
      ]
    },
    {
      "cell_type": "markdown",
      "metadata": {
        "id": "QyWA59XYt5Xm",
        "colab_type": "text"
      },
      "source": [
        "Guardamos todas las partidas en un fichero común (`games.pgn`):"
      ]
    },
    {
      "cell_type": "code",
      "metadata": {
        "id": "XTmSYGTPJKV9",
        "colab_type": "code",
        "colab": {}
      },
      "source": [
        "# Save games as PGN file\n",
        "with open('games.pgn', 'a') as f:\n",
        "  for game in games:\n",
        "    f.write(game)\n",
        "    f.write(\"\\n\\n\")"
      ],
      "execution_count": 0,
      "outputs": []
    }
  ]
}